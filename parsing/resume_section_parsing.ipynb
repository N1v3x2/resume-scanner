{
 "cells": [
  {
   "cell_type": "markdown",
   "metadata": {
    "vscode": {
     "languageId": "plaintext"
    }
   },
   "source": [
    "# Fine-grained Parsing\n",
    "\n",
    "After initial parsing, let's parse out details from each resume section individually"
   ]
  },
  {
   "cell_type": "code",
   "execution_count": 1,
   "metadata": {},
   "outputs": [],
   "source": [
    "import json\n",
    "from pprint import pprint\n",
    "from ollama import chat\n",
    "from pydantic import BaseModel, RootModel, Field\n",
    "\n",
    "from utils.with_structured_output import with_structured_output"
   ]
  },
  {
   "cell_type": "code",
   "execution_count": 2,
   "metadata": {},
   "outputs": [],
   "source": [
    "with open(\"../output/parsed_resume.json\", \"r\") as file:\n",
    "    parsed_resume = json.load(file)"
   ]
  },
  {
   "cell_type": "code",
   "execution_count": 3,
   "metadata": {},
   "outputs": [
    {
     "data": {
      "text/plain": [
       "{'Experience': 'AI/ML Intern Aug 2024 – Dec 2024\\n• Developed knowledge graph (KG) generation pipeline with internal LLM microservices to allow multi-hop reasoning in 3-stage retrieval augmented generation (RAG) pipeline\\n• Extracted 30+ domain-specific seed topics from text corpus with BERTopic for KG subgraph creation\\n• Achieved100%schema-compliantLLMoutputsviaprompt engineering andgrammar-contrained decoding\\n• Packaged KG generation logic into reusable, object-oriented Python modules used by 30 developers\\nSoftware Engineering Intern May 2024 – Aug 2024\\n• Redesigned 30 year old Java data analysis suite architecture, cutting developer onboarding time by 3 weeks\\n• Used MATLAB profiler to find bottleneck in data preprocessing script, leading to 90% execution time reduction\\n• Built Java class to interface with Javalin REST API, enabling multithreaded network communication\\n• Reduced logic errors by 50% via integration and regression testing in Jenkins CI/CD pipeline\\nUndergraduate Teaching Assistant Jan 2024 – Present\\n• Leading data structures & algorithms recitations for 60 students semiweekly\\n• Mentoring 15+ students weekly in C++ assignments, leading to 80% reduction in assignment errors\\n• Teaching students core CS concepts including vectors, trees, graphs, sorting algorithms, and recursion\\nFull Stack Developer Intern Jun 2022 – Aug 2022, May 2023 – Aug 2023\\n• Built CRM system with ASP.NET MVC serving 10 users, improving employee efficiency by 50%\\n• Optimized MySQL database performance by eliminating 1,000 duplicate records, improving query speed by 10%\\n• Designed scalable SQL database architecture to support complex entity relationships\\n• Created role-based authorization system with Entity Framework to facilitate project management for managers',\n",
       " 'Education': 'Texas A&M University May 2026\\nBS in Computer Science, Minor in Statistics and Math College Station, TX\\nCumulative GPA: 4.0/4.0\\nHonors: Dean’s Honor Roll, Engineering Honors (EH), Dean’s Excellence Award Semi-finalist\\nCoursework: Data Structures & Algorithms, Software Engineering, Computer Systems, Discrete Math, Linear Algebra',\n",
       " 'Skills': 'Languages: Java, Python, C/C++, TypeScript/JavaScript, C#, SQL, HTML/CSS, MATLAB, Bash\\nFrameworks: React, Bootstrap, Flask, JUnit, ASP.NET, Entity Framework, Spring Boot\\nLibraries: Numpy, Pandas, Matplotlib, LangChain, OpenAI, Pydantic, TensorFlow\\nDeveloper Tools: Linux, Git (GitHub, Gerrit), Anaconda, Jupyter, Azure DevOps, Jenkins, Vim, Docker\\nDatabases: PostgreSQL, MySQL, Neo4J',\n",
       " 'Projects': 'Credit Card Recommender (Best Financial Hack) | Python, Jupyter, Flask, React, LangChain Nov 2024\\n• Developed LLM-based credit card recommendation system at 24-hour hackathon, competing against 14 teams\\n• Devised chain-of-thought (CoT) recommendation prompt that takes user spending habits into account\\n• Augmented recommendations with self-curated JSON database containing statistics on 50 popular credit cards\\nPoint of Sales System | React, TypeScript, Java, Spring Boot, PostgreSQL, JDBC, Git Sep 2024 – Nov 2024\\n• Designed modular React components and managed application state with React hooks (useState, useContext)\\n• Orchestrated integration of Google OAuth API to manage authentication/authorization\\n• Implemented JDBC backend to query PostgreSQL database and map results to Java data transfer objects\\n• Reviewed 60+ GitHub pull requests, leading to 80% reduction in code smells',\n",
       " 'Leadership': '',\n",
       " 'Research': '',\n",
       " 'Personal Info': {'Phone': '832-416-3570',\n",
       "  'Email': 'kevzhang2022@gmail.com',\n",
       "  'LinkedIn': 'https://linkedin.com/in/kevinkz',\n",
       "  'GitHub': 'https://github.com/n1v3x2'}}"
      ]
     },
     "execution_count": 3,
     "metadata": {},
     "output_type": "execute_result"
    }
   ],
   "source": [
    "parsed_resume"
   ]
  },
  {
   "cell_type": "markdown",
   "metadata": {},
   "source": [
    "## Parse Education"
   ]
  },
  {
   "cell_type": "code",
   "execution_count": 4,
   "metadata": {},
   "outputs": [],
   "source": [
    "class School(BaseModel):\n",
    "    name: str           = Field(..., alias=\"Name\")\n",
    "    majors: list[str]   = Field(..., alias=\"Majors\")\n",
    "    minors: list[str]   = Field(..., alias=\"Minors\")\n",
    "    gpa: float          = Field(None, alias=\"GPA\")\n",
    "    grad_year: int      = Field(..., alias=\"Graduation Year\")\n",
    "\n",
    "class Education(RootModel[list[School]]):\n",
    "    pass"
   ]
  },
  {
   "cell_type": "code",
   "execution_count": 5,
   "metadata": {},
   "outputs": [],
   "source": [
    "EDUCATION_EXTRACTION_PROMPT = \"\"\"\n",
    "You are an expert resume parser. Given some resume text, your job is to parse education information as a list of JSON objects representing each school attended. Follow this format for each school:\n",
    "    {{\n",
    "        \"Name\": \"<Name of School>\",\n",
    "        \"Majors\": [\"list\", \"of\", \"majors\"],\n",
    "        \"Minors\": [\"list\", \"of\", \"minors\"],\n",
    "        \"GPA\": <GPA>,\n",
    "        \"Graduation Year\": <Graduation Year>\n",
    "    }},\n",
    "\n",
    "Notes:\n",
    "1. If there are no minors, set \"Minors\" to an empty list.\n",
    "2. If there is no GPA listed, set \"GPA\" to None.\n",
    "3. If any school does not have a graduation year listed, omit the school from the output.\n",
    "4. Output the full name of all degrees, e.g., \"BS in Computer Science\", \"M.S. in Information Science\". Note that the resume may contain a double major. If so, output all degrees with their full names, making sure to incldue the type of degree for each major (\"BS,\" \"MS,\" etc.). Please note that some schools offer emphasis areas or modifiers to the major that are not themselves considered majors, e.g. \"Computer Science with statistics emphasis\" is equivalent to \"Computer Science.\"\n",
    "5. If the resume does not contain information for one of the sections, return an empty list for that section.\n",
    "\n",
    "Extracted information must be **explicitly contained in the resume.**\n",
    "\n",
    "Resume text:\n",
    "{resume_text}\n",
    "\n",
    "Output:\n",
    "\"\"\""
   ]
  },
  {
   "cell_type": "code",
   "execution_count": 6,
   "metadata": {},
   "outputs": [],
   "source": [
    "education_info = with_structured_output(\n",
    "    prompt=EDUCATION_EXTRACTION_PROMPT.format(resume_text=parsed_resume[\"Education\"]),\n",
    "    schema=Education)"
   ]
  },
  {
   "cell_type": "code",
   "execution_count": 7,
   "metadata": {},
   "outputs": [
    {
     "data": {
      "text/plain": [
       "[{'Name': 'Texas A&M University',\n",
       "  'Majors': ['BS in Computer Science'],\n",
       "  'Minors': ['Statistics', 'Math'],\n",
       "  'Graduation Year': 2026,\n",
       "  'GPA': 4.0}]"
      ]
     },
     "execution_count": 7,
     "metadata": {},
     "output_type": "execute_result"
    }
   ],
   "source": [
    "education_info"
   ]
  },
  {
   "cell_type": "markdown",
   "metadata": {},
   "source": [
    "## Parse Experience"
   ]
  },
  {
   "cell_type": "code",
   "execution_count": 8,
   "metadata": {},
   "outputs": [],
   "source": [
    "class Experience(BaseModel):\n",
    "    company: str = Field(..., alias=\"Company\")\n",
    "    role: str = Field(..., alias=\"Role\")\n",
    "    contributions: list[str] = Field(..., alias=\"Contributions\")\n",
    "    \n",
    "class Experiences(BaseModel):\n",
    "    experiences: list[Experience] = Field(..., alias=\"Experiences\")\n",
    "    yoe: float = Field(..., alias=\"Total Years of Experience\")"
   ]
  },
  {
   "cell_type": "code",
   "execution_count": 9,
   "metadata": {},
   "outputs": [],
   "source": [
    "EXPERIENCE_EXTRACTION_PROMPT = \"\"\"\n",
    "You are an expert at parsing resumes. Given some resume text, your job is to extract information about the candidate's work experience and format it as a list of JSON objects, where each object has the following format:\n",
    "    {{\n",
    "        \"Experiences\": [\n",
    "            {{\n",
    "                \"Company\": \"<company>\",\n",
    "                \"Role\": \"<applicant's role at the company>\",\n",
    "                \"Contributions\": [\"list\", \"of\", \"contributions\", \"in\", \"the\", \"role\"]\n",
    "            }},\n",
    "            ...\n",
    "        ],\n",
    "        \"Total Years of Experience\": <Total Years of Experience> \n",
    "    }}\n",
    "    \n",
    "The extracted information must be **explicitly contained in the resume.**\n",
    "\n",
    "Calculate \"Total Years of Experience\" by summing up the duration of all experiences, rounded to the nearest quarter-year. **Note that overlapping timeframes should not double-counted.**\n",
    "\n",
    "Resume text:\n",
    "{resume_text}\n",
    "\n",
    "Output:\n",
    "\"\"\""
   ]
  },
  {
   "cell_type": "code",
   "execution_count": 10,
   "metadata": {},
   "outputs": [],
   "source": [
    "experience_info = with_structured_output(\n",
    "    EXPERIENCE_EXTRACTION_PROMPT.format(resume_text=parsed_resume[\"Experience\"]),\n",
    "    Experiences)"
   ]
  },
  {
   "cell_type": "code",
   "execution_count": 11,
   "metadata": {},
   "outputs": [
    {
     "data": {
      "text/plain": [
       "{'Experiences': [{'Company': 'Full Stack Developer Intern',\n",
       "   'Role': 'Full Stack Developer Intern',\n",
       "   'Contributions': ['Built CRM system with ASP.NET MVC serving 10 users, improving employee efficiency by 50%',\n",
       "    'Optimized MySQL database performance by eliminating 1,000 duplicate records, improving query speed by 10%',\n",
       "    'Designed scalable SQL database architecture to support complex entity relationships',\n",
       "    'Created role-based authorization system with Entity Framework to facilitate project management for managers']},\n",
       "  {'Company': 'Software Engineering Intern',\n",
       "   'Role': 'Software Engineering Intern',\n",
       "   'Contributions': ['Redesigned 30 year old Java data analysis suite architecture, cutting developer onboarding time by 3 weeks',\n",
       "    'Used MATLAB profiler to find bottleneck in data preprocessing script, leading to 90% execution time reduction',\n",
       "    'Built Java class to interface with Javalin REST API, enabling multithreaded network communication',\n",
       "    'Reduced logic errors by 50% via integration and regression testing in Jenkins CI/CD pipeline']},\n",
       "  {'Company': 'AI/ML Intern',\n",
       "   'Role': 'AI/ML Intern',\n",
       "   'Contributions': ['Developed knowledge graph (KG) generation pipeline with internal LLM microservices to allow multi-hop reasoning in 3-stage retrieval augmented generation (RAG) pipeline',\n",
       "    'Extracted 30+ domain-specific seed topics from text corpus with BERTopic for KG subgraph creation',\n",
       "    'Achieved100%schema-compliantLLMoutputsviaprompt engineering andgrammar-contrained decoding',\n",
       "    'Packaged KG generation logic into reusable, object-oriented Python modules used by 30 developers']},\n",
       "  {'Company': 'Undergraduate Teaching Assistant',\n",
       "   'Role': 'Undergraduate Teaching Assistant',\n",
       "   'Contributions': ['Leading data structures & algorithms recitations for 60 students semiweekly',\n",
       "    'Mentoring 15+ students weekly in C++ assignments, leading to 80% reduction in assignment errors',\n",
       "    'Teaching students core CS concepts including vectors, trees, graphs, sorting algorithms, and recursion']}],\n",
       " 'Total Years of Experience': 2.25}"
      ]
     },
     "execution_count": 11,
     "metadata": {},
     "output_type": "execute_result"
    }
   ],
   "source": [
    "experience_info"
   ]
  },
  {
   "cell_type": "markdown",
   "metadata": {},
   "source": [
    "## Skill Parsing "
   ]
  },
  {
   "cell_type": "code",
   "execution_count": 12,
   "metadata": {},
   "outputs": [],
   "source": [
    "class Skills(BaseModel):\n",
    "    technical_skills: list[str] = Field(..., alias=\"Technical Skills\")\n",
    "    domain_specific_skills: list[str] = Field(..., alias=\"Domain-Specific Skills\")"
   ]
  },
  {
   "cell_type": "code",
   "execution_count": 13,
   "metadata": {},
   "outputs": [],
   "source": [
    "SKILL_EXTRACTION_TEMPLATE = \"\"\"\n",
    "You are an expert are parsing skills from resumes.\n",
    "\n",
    "Given resume text, please parse individual technical (e.g., programming languages, tools, frameworks, databases) and domain-specific (e.g., methodologies, architectures, or specialized techniques) skills contained in the resume. **Ensure that you do not miss any domain-specific skills.**\n",
    "\n",
    "Format your output as a JSON object as follows:\n",
    "    {{\n",
    "        \"Technical Skills\": [\"list\", \"of\", \"technical\", \"skills\"]\n",
    "        \"Domain-Specific Skills\": [\"list\", \"of\" \"domain\", \"specific\", \"skills\"]\n",
    "    }}\n",
    "\n",
    "Resume text:\n",
    "```\n",
    "{resume_text}\n",
    "```\n",
    "\n",
    "Parsed skills:\n",
    "\"\"\""
   ]
  },
  {
   "cell_type": "code",
   "execution_count": 14,
   "metadata": {},
   "outputs": [],
   "source": [
    "skills_info = with_structured_output(\n",
    "    prompt=SKILL_EXTRACTION_TEMPLATE.format(\n",
    "        resume_text=parsed_resume[\"Experience\"]\n",
    "            + parsed_resume[\"Projects\"]\n",
    "            + parsed_resume[\"Skills\"]\n",
    "            + parsed_resume[\"Research\"]\n",
    "            + parsed_resume[\"Leadership\"]),\n",
    "    schema=Skills)"
   ]
  },
  {
   "cell_type": "code",
   "execution_count": 15,
   "metadata": {},
   "outputs": [
    {
     "data": {
      "text/plain": [
       "{'Technical Skills': ['Python',\n",
       "  'Java',\n",
       "  'C/C++',\n",
       "  'TypeScript/JavaScript',\n",
       "  'C#',\n",
       "  'SQL',\n",
       "  'HTML/CSS',\n",
       "  'MATLAB',\n",
       "  'Bash',\n",
       "  'React',\n",
       "  'Bootstrap',\n",
       "  'Flask',\n",
       "  'JUnit',\n",
       "  'ASP.NET',\n",
       "  'Entity Framework',\n",
       "  'Spring Boot',\n",
       "  'Numpy',\n",
       "  'Pandas',\n",
       "  'Matplotlib',\n",
       "  'LangChain',\n",
       "  'OpenAI',\n",
       "  'Pydantic',\n",
       "  'TensorFlow',\n",
       "  'Linux',\n",
       "  'Git (GitHub, Gerrit)',\n",
       "  'Anaconda',\n",
       "  'Jupyter',\n",
       "  'Azure DevOps',\n",
       "  'Jenkins',\n",
       "  'Vim',\n",
       "  'Docker',\n",
       "  'PostgreSQL',\n",
       "  'MySQL',\n",
       "  'Neo4J'],\n",
       " 'Domain-Specific Skills': ['Knowledge Graph (KG) generation pipeline',\n",
       "  'LLM microservices',\n",
       "  'Multi-hop reasoning in RAG pipeline',\n",
       "  'BERTopic for KG subgraph creation',\n",
       "  'Prompt engineering and grammar-constrained decoding',\n",
       "  'Object-oriented Python modules',\n",
       "  'Java data analysis suite architecture redesign',\n",
       "  'MATLAB profiler for bottleneck identification',\n",
       "  'Data preprocessing script optimization',\n",
       "  'Javalin REST API interface with Java class',\n",
       "  'Multithreaded network communication',\n",
       "  'Integration and regression testing in Jenkins CI/CD pipeline',\n",
       "  'Data structures & algorithms recitations',\n",
       "  'Mentoring students in C++ assignments',\n",
       "  'Core CS concepts including vectors, trees, graphs, sorting algorithms, and recursion',\n",
       "  'CRM system with ASP.NET MVC',\n",
       "  'Scalable SQL database architecture design',\n",
       "  'Role-based authorization system with Entity Framework',\n",
       "  'Chain-of-thought (CoT) recommendation prompt',\n",
       "  'LLM-based credit card recommendation system',\n",
       "  'Self-curated JSON database for recommendations',\n",
       "  'Modular React components and application state management',\n",
       "  'Google OAuth API integration',\n",
       "  'JDBC backend for PostgreSQL database query',\n",
       "  'Code review and reduction of code smells']}"
      ]
     },
     "execution_count": 15,
     "metadata": {},
     "output_type": "execute_result"
    }
   ],
   "source": [
    "skills_info"
   ]
  },
  {
   "cell_type": "markdown",
   "metadata": {},
   "source": [
    "### Putting it all together"
   ]
  },
  {
   "cell_type": "code",
   "execution_count": 16,
   "metadata": {},
   "outputs": [
    {
     "name": "stdout",
     "output_type": "stream",
     "text": [
      "{'Education': [{'GPA': 4.0,\n",
      "                'Graduation Year': 2026,\n",
      "                'Majors': ['BS in Computer Science'],\n",
      "                'Minors': ['Statistics', 'Math'],\n",
      "                'Name': 'Texas A&M University'}],\n",
      " 'Personal Info': {'Email': 'kevzhang2022@gmail.com',\n",
      "                   'GitHub': 'https://github.com/n1v3x2',\n",
      "                   'LinkedIn': 'https://linkedin.com/in/kevinkz',\n",
      "                   'Phone': '832-416-3570'},\n",
      " 'Skills': {'Domain-Specific Skills': ['Knowledge Graph (KG) generation '\n",
      "                                       'pipeline',\n",
      "                                       'LLM microservices',\n",
      "                                       'Multi-hop reasoning in RAG pipeline',\n",
      "                                       'BERTopic for KG subgraph creation',\n",
      "                                       'Prompt engineering and '\n",
      "                                       'grammar-constrained decoding',\n",
      "                                       'Object-oriented Python modules',\n",
      "                                       'Java data analysis suite architecture '\n",
      "                                       'redesign',\n",
      "                                       'MATLAB profiler for bottleneck '\n",
      "                                       'identification',\n",
      "                                       'Data preprocessing script optimization',\n",
      "                                       'Javalin REST API interface with Java '\n",
      "                                       'class',\n",
      "                                       'Multithreaded network communication',\n",
      "                                       'Integration and regression testing in '\n",
      "                                       'Jenkins CI/CD pipeline',\n",
      "                                       'Data structures & algorithms '\n",
      "                                       'recitations',\n",
      "                                       'Mentoring students in C++ assignments',\n",
      "                                       'Core CS concepts including vectors, '\n",
      "                                       'trees, graphs, sorting algorithms, and '\n",
      "                                       'recursion',\n",
      "                                       'CRM system with ASP.NET MVC',\n",
      "                                       'Scalable SQL database architecture '\n",
      "                                       'design',\n",
      "                                       'Role-based authorization system with '\n",
      "                                       'Entity Framework',\n",
      "                                       'Chain-of-thought (CoT) recommendation '\n",
      "                                       'prompt',\n",
      "                                       'LLM-based credit card recommendation '\n",
      "                                       'system',\n",
      "                                       'Self-curated JSON database for '\n",
      "                                       'recommendations',\n",
      "                                       'Modular React components and '\n",
      "                                       'application state management',\n",
      "                                       'Google OAuth API integration',\n",
      "                                       'JDBC backend for PostgreSQL database '\n",
      "                                       'query',\n",
      "                                       'Code review and reduction of code '\n",
      "                                       'smells'],\n",
      "            'Technical Skills': ['Python',\n",
      "                                 'Java',\n",
      "                                 'C/C++',\n",
      "                                 'TypeScript/JavaScript',\n",
      "                                 'C#',\n",
      "                                 'SQL',\n",
      "                                 'HTML/CSS',\n",
      "                                 'MATLAB',\n",
      "                                 'Bash',\n",
      "                                 'React',\n",
      "                                 'Bootstrap',\n",
      "                                 'Flask',\n",
      "                                 'JUnit',\n",
      "                                 'ASP.NET',\n",
      "                                 'Entity Framework',\n",
      "                                 'Spring Boot',\n",
      "                                 'Numpy',\n",
      "                                 'Pandas',\n",
      "                                 'Matplotlib',\n",
      "                                 'LangChain',\n",
      "                                 'OpenAI',\n",
      "                                 'Pydantic',\n",
      "                                 'TensorFlow',\n",
      "                                 'Linux',\n",
      "                                 'Git (GitHub, Gerrit)',\n",
      "                                 'Anaconda',\n",
      "                                 'Jupyter',\n",
      "                                 'Azure DevOps',\n",
      "                                 'Jenkins',\n",
      "                                 'Vim',\n",
      "                                 'Docker',\n",
      "                                 'PostgreSQL',\n",
      "                                 'MySQL',\n",
      "                                 'Neo4J']},\n",
      " 'Work Experience': {'Experiences': [{'Company': 'Full Stack Developer Intern',\n",
      "                                      'Contributions': ['Built CRM system with '\n",
      "                                                        'ASP.NET MVC serving '\n",
      "                                                        '10 users, improving '\n",
      "                                                        'employee efficiency '\n",
      "                                                        'by 50%',\n",
      "                                                        'Optimized MySQL '\n",
      "                                                        'database performance '\n",
      "                                                        'by eliminating 1,000 '\n",
      "                                                        'duplicate records, '\n",
      "                                                        'improving query speed '\n",
      "                                                        'by 10%',\n",
      "                                                        'Designed scalable SQL '\n",
      "                                                        'database architecture '\n",
      "                                                        'to support complex '\n",
      "                                                        'entity relationships',\n",
      "                                                        'Created role-based '\n",
      "                                                        'authorization system '\n",
      "                                                        'with Entity Framework '\n",
      "                                                        'to facilitate project '\n",
      "                                                        'management for '\n",
      "                                                        'managers'],\n",
      "                                      'Role': 'Full Stack Developer Intern'},\n",
      "                                     {'Company': 'Software Engineering Intern',\n",
      "                                      'Contributions': ['Redesigned 30 year '\n",
      "                                                        'old Java data '\n",
      "                                                        'analysis suite '\n",
      "                                                        'architecture, cutting '\n",
      "                                                        'developer onboarding '\n",
      "                                                        'time by 3 weeks',\n",
      "                                                        'Used MATLAB profiler '\n",
      "                                                        'to find bottleneck in '\n",
      "                                                        'data preprocessing '\n",
      "                                                        'script, leading to '\n",
      "                                                        '90% execution time '\n",
      "                                                        'reduction',\n",
      "                                                        'Built Java class to '\n",
      "                                                        'interface with '\n",
      "                                                        'Javalin REST API, '\n",
      "                                                        'enabling '\n",
      "                                                        'multithreaded network '\n",
      "                                                        'communication',\n",
      "                                                        'Reduced logic errors '\n",
      "                                                        'by 50% via '\n",
      "                                                        'integration and '\n",
      "                                                        'regression testing in '\n",
      "                                                        'Jenkins CI/CD '\n",
      "                                                        'pipeline'],\n",
      "                                      'Role': 'Software Engineering Intern'},\n",
      "                                     {'Company': 'AI/ML Intern',\n",
      "                                      'Contributions': ['Developed knowledge '\n",
      "                                                        'graph (KG) generation '\n",
      "                                                        'pipeline with '\n",
      "                                                        'internal LLM '\n",
      "                                                        'microservices to '\n",
      "                                                        'allow multi-hop '\n",
      "                                                        'reasoning in 3-stage '\n",
      "                                                        'retrieval augmented '\n",
      "                                                        'generation (RAG) '\n",
      "                                                        'pipeline',\n",
      "                                                        'Extracted 30+ '\n",
      "                                                        'domain-specific seed '\n",
      "                                                        'topics from text '\n",
      "                                                        'corpus with BERTopic '\n",
      "                                                        'for KG subgraph '\n",
      "                                                        'creation',\n",
      "                                                        'Achieved100%schema-compliantLLMoutputsviaprompt '\n",
      "                                                        'engineering '\n",
      "                                                        'andgrammar-contrained '\n",
      "                                                        'decoding',\n",
      "                                                        'Packaged KG '\n",
      "                                                        'generation logic into '\n",
      "                                                        'reusable, '\n",
      "                                                        'object-oriented '\n",
      "                                                        'Python modules used '\n",
      "                                                        'by 30 developers'],\n",
      "                                      'Role': 'AI/ML Intern'},\n",
      "                                     {'Company': 'Undergraduate Teaching '\n",
      "                                                 'Assistant',\n",
      "                                      'Contributions': ['Leading data '\n",
      "                                                        'structures & '\n",
      "                                                        'algorithms '\n",
      "                                                        'recitations for 60 '\n",
      "                                                        'students semiweekly',\n",
      "                                                        'Mentoring 15+ '\n",
      "                                                        'students weekly in '\n",
      "                                                        'C++ assignments, '\n",
      "                                                        'leading to 80% '\n",
      "                                                        'reduction in '\n",
      "                                                        'assignment errors',\n",
      "                                                        'Teaching students '\n",
      "                                                        'core CS concepts '\n",
      "                                                        'including vectors, '\n",
      "                                                        'trees, graphs, '\n",
      "                                                        'sorting algorithms, '\n",
      "                                                        'and recursion'],\n",
      "                                      'Role': 'Undergraduate Teaching '\n",
      "                                              'Assistant'}],\n",
      "                     'Total Years of Experience': 2.25}}\n"
     ]
    }
   ],
   "source": [
    "parsed_info = {\n",
    "    \"Personal Info\": parsed_resume[\"Personal Info\"],\n",
    "    \"Education\": education_info,\n",
    "    \"Work Experience\": experience_info,\n",
    "    \"Skills\": skills_info\n",
    "}\n",
    "pprint(parsed_info)"
   ]
  },
  {
   "cell_type": "code",
   "execution_count": 17,
   "metadata": {},
   "outputs": [],
   "source": [
    "with open(\"../output/parsed_resume_info.json\", \"w\") as file:\n",
    "    json.dump(parsed_info, file, indent=4)"
   ]
  },
  {
   "cell_type": "code",
   "execution_count": null,
   "metadata": {},
   "outputs": [],
   "source": []
  }
 ],
 "metadata": {
  "kernelspec": {
   "display_name": "resume",
   "language": "python",
   "name": "python3"
  },
  "language_info": {
   "codemirror_mode": {
    "name": "ipython",
    "version": 3
   },
   "file_extension": ".py",
   "mimetype": "text/x-python",
   "name": "python",
   "nbconvert_exporter": "python",
   "pygments_lexer": "ipython3",
   "version": "3.12.8"
  }
 },
 "nbformat": 4,
 "nbformat_minor": 2
}
