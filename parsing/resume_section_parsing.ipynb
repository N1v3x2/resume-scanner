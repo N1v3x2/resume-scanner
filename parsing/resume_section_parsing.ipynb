{
 "cells": [
  {
   "cell_type": "markdown",
   "metadata": {
    "vscode": {
     "languageId": "plaintext"
    }
   },
   "source": [
    "# Fine-grained Parsing\n",
    "\n",
    "After initial parsing, let's parse out details from each resume section individually"
   ]
  },
  {
   "cell_type": "code",
   "execution_count": 55,
   "metadata": {},
   "outputs": [],
   "source": [
    "import json\n",
    "from pprint import pprint\n",
    "from ollama import chat\n",
    "from pydantic import BaseModel, RootModel, Field\n",
    "\n",
    "from utils.with_structured_output import with_structured_output"
   ]
  },
  {
   "cell_type": "code",
   "execution_count": 56,
   "metadata": {},
   "outputs": [],
   "source": [
    "with open(\"output/parsed_resume.json\", \"r\") as file:\n",
    "    parsed_resume = json.load(file)"
   ]
  },
  {
   "cell_type": "code",
   "execution_count": 57,
   "metadata": {},
   "outputs": [
    {
     "data": {
      "text/plain": [
       "{'Experience': 'Honeywell FM&T, Kansas City National Security Campus – Kansas City, MO June 2024 – August 2024\\nElectrical Engineering Intern II (Purchase Product Engineer in PCBs)\\n• Assessed PCB drawings and managed external stakeholders to improve manufacturability of complex circuit designs.\\n• Collaborated with numerous internal agencies/teams to design, manufacture, and buy critical electrical components.\\n• Standardized process and documentation of scrapping parts, ensuring audit compliance and saving Product Engineers 48\\neffort hours annually.\\n• Automated solder void detection in bottom-terminated components using Matlab to ensure strict IPC compliance.\\nTURTLE Robotics, Officer - College Station, TX August 2023 – Present\\nTreasurer September 2024 – Present\\n• Coordinating with Mechanical Engineering department to purchase supplies and manage $15,000 budget.\\n• Supervising payment system for membership dues to maintain timely collection and accurate records.\\n• Facilitating supply reimbursement process for 11 project teams to improve efficiency within the organization.\\nLab Quality Officer August 2023 – May 2024\\n• Managed upgrade of lab equipment following a 3x budget increase, reducing fabrication flowtime by 90%.\\n• Collaborated closely with project leaders to purchase and allocate resources on $15,000 budget.\\n• Spearheaded lab cleanliness and organization initiatives, ensuring tidy and efficient lab for all team members.\\nTURTLE Robotics, Vision-Integrated Robotic Turret Team - College Station, TX January 2024 – Present\\nTeam Leader\\n• Directing team of 11 in development of Xilinx FPGA-driven autonomous turret robot for object tracking and following.\\n• Prototyping color detection computer vision system in Vitis HLS with C++ to track a designated target.\\n• Collaborated with teammates to design and fabricate camera chassis and drive base to enable smooth movement in\\nfollowing a target.\\nTURTLE Robotics, Seed Germination and Growth Team - College Station, TX January 2023 – May 2024\\nLighting Sub-Team\\n• Constructed robot to automate lighting, water, and nutrient delivery to grow vegetables in simulated environment.\\n• Devised Raspberry Pi-controlled LED grow light system, enabling full customization of light cycles.\\n• Programmed light wavelength and day/night cycle functions in Python, allowing adaptability for\\ndifferent plant species.\\nDigital System Design - College Station, TX January 2023 – May 2023\\n• Designed and tested circuits and logic gates on breadboards—including ALUs; half, full, and ripple carry adders.\\n• Developed circuits in SystemVerilog using Xilinx Vivado and analyzed results against test benches—such as a traffic\\nlight controller with sensors, combination lock systems, and a 4-bit addition/subtraction calculator.\\n• Simulated circuits on Xilinx Zynq series FPGA to validate functionality and performance.',\n",
       " 'Education': 'Texas A&M University - College Station, TX Grad. 2025\\nBS in Electrical Engineering, Minor in Chinese Program GPA: 3.0\\nHonors: President’s Endowed Scholarship recipient, National Merit finalist, Hispanic Scholarship Fund scholar',\n",
       " 'Skills': 'Languages: Chinese (conversational), English (native)\\nProgramming languages: Matlab, SystemVerilog, Python , C++\\nSoftware: Multisim, Xilinx Vivado, LTspice, CAM350, Microsoft Office (Word, Excel, PowerPoint)\\nHardware: Xilinx FPGA, Raspberry Pi, Arduino, oscilloscope, signal generator, multimeter, 3D printer',\n",
       " 'Projects': '',\n",
       " 'Leadership': '',\n",
       " 'Research': ''}"
      ]
     },
     "execution_count": 57,
     "metadata": {},
     "output_type": "execute_result"
    }
   ],
   "source": [
    "parsed_resume"
   ]
  },
  {
   "cell_type": "markdown",
   "metadata": {},
   "source": [
    "## Parse Education"
   ]
  },
  {
   "cell_type": "code",
   "execution_count": 58,
   "metadata": {},
   "outputs": [],
   "source": [
    "class School(BaseModel):\n",
    "    name: str           = Field(..., alias=\"Name\")\n",
    "    majors: list[str]   = Field(..., alias=\"Majors\")\n",
    "    minors: list[str]   = Field(..., alias=\"Minors\")\n",
    "    gpa: float          = Field(None, alias=\"GPA\")\n",
    "    grad_year: int      = Field(..., alias=\"Graduation Year\")\n",
    "\n",
    "class Education(RootModel[list[School]]):\n",
    "    pass"
   ]
  },
  {
   "cell_type": "code",
   "execution_count": 59,
   "metadata": {},
   "outputs": [],
   "source": [
    "EDUCATION_EXTRACTION_PROMPT = \"\"\"\n",
    "You are an expert resume parser. Given some resume text, your job is to parse education information as a list of JSON objects representing each school attended. Follow this format for each school:\n",
    "    {{\n",
    "        \"Name\": \"<Name of School>\",\n",
    "        \"Majors\": [\"list\", \"of\", \"majors\"],\n",
    "        \"Minors\": [\"list\", \"of\", \"minors\"],\n",
    "        \"GPA\": <GPA>,\n",
    "        \"Graduation Year\": <Graduation Year>\n",
    "    }},\n",
    "\n",
    "Notes:\n",
    "1. If there are no minors, set \"Minors\" to an empty list.\n",
    "2. If there is no GPA listed, set \"GPA\" to None.\n",
    "3. If any school does not have a graduation year listed, omit the school from the output.\n",
    "4. Output the full name of all degrees, e.g., \"BS in Computer Science\", \"M.S. in Information Science\". Note that the resume may contain a double major. If so, output all degrees with their full names, making sure to incldue the type of degree for each major (\"BS,\" \"MS,\" etc.). Please note that some schools offer emphasis areas or modifiers to the major that are not themselves considered majors, e.g. \"Computer Science with statistics emphasis\" is equivalent to \"Computer Science.\"\n",
    "5. If the resume does not contain information for one of the sections, return an empty list for that section.\n",
    "\n",
    "Extracted information must be **explicitly contained in the resume.**\n",
    "\n",
    "Resume text:\n",
    "{resume_text}\n",
    "\n",
    "Output:\n",
    "\"\"\""
   ]
  },
  {
   "cell_type": "code",
   "execution_count": 60,
   "metadata": {},
   "outputs": [],
   "source": [
    "education_info = with_structured_output(\n",
    "    prompt=EDUCATION_EXTRACTION_PROMPT.format(resume_text=parsed_resume[\"Education\"]),\n",
    "    schema=Education)"
   ]
  },
  {
   "cell_type": "code",
   "execution_count": 61,
   "metadata": {},
   "outputs": [
    {
     "data": {
      "text/plain": [
       "[{'Name': 'Texas A&M University',\n",
       "  'Majors': ['BS in Electrical Engineering'],\n",
       "  'Minors': ['Minor in Chinese Program'],\n",
       "  'Graduation Year': 2025,\n",
       "  'GPA': 3.0}]"
      ]
     },
     "execution_count": 61,
     "metadata": {},
     "output_type": "execute_result"
    }
   ],
   "source": [
    "education_info"
   ]
  },
  {
   "cell_type": "markdown",
   "metadata": {},
   "source": [
    "## Parse Experience"
   ]
  },
  {
   "cell_type": "code",
   "execution_count": 62,
   "metadata": {},
   "outputs": [],
   "source": [
    "class Experience(BaseModel):\n",
    "    company: str = Field(..., alias=\"Company\")\n",
    "    role: str = Field(..., alias=\"Role\")\n",
    "    contributions: list[str] = Field(..., alias=\"Contributions\")"
   ]
  },
  {
   "cell_type": "code",
   "execution_count": 63,
   "metadata": {},
   "outputs": [],
   "source": [
    "EXPERIENCE_EXTRACTION_PROMPT = \"\"\"\n",
    "You are an expert at parsing resumes. Given some resume text, your job is to extract information about the candidate's work experience and format it as a list of JSON objects, where each object has the following format:\n",
    "    {{\n",
    "        \"Company\": \"<Company>\",\n",
    "        \"Role\": \"<Applicant's role at the company>\",\n",
    "        \"Contributions\": [\"list\", \"of\", \"contributions\", \"in\", \"the\", \"role\"]\n",
    "    }}\n",
    "    \n",
    "The extracted information must be **explicitly contained in the resume.**\n",
    "\n",
    "Resume text:\n",
    "{resume_text}\n",
    "\n",
    "Output:\n",
    "\"\"\""
   ]
  },
  {
   "cell_type": "code",
   "execution_count": 64,
   "metadata": {},
   "outputs": [],
   "source": [
    "experience_info = with_structured_output(\n",
    "    EXPERIENCE_EXTRACTION_PROMPT.format(resume_text=parsed_resume[\"Experience\"]),\n",
    "    RootModel[list[Experience]])"
   ]
  },
  {
   "cell_type": "code",
   "execution_count": 65,
   "metadata": {},
   "outputs": [
    {
     "data": {
      "text/plain": [
       "[{'Company': 'Honeywell FM&T',\n",
       "  'Role': 'Electrical Engineering Intern II (Purchase Product Engineer in PCBs)',\n",
       "  'Contributions': ['Assessed PCB drawings and managed external stakeholders to improve manufacturability of complex circuit designs.',\n",
       "   'Collaborated with numerous internal agencies/teams to design, manufacture, and buy critical electrical components.',\n",
       "   'Standardized process and documentation of scrapping parts, ensuring audit compliance and saving Product Engineers 48 effort hours annually.',\n",
       "   'Automated solder void detection in bottom-terminated components using Matlab to ensure strict IPC compliance.']},\n",
       " {'Company': 'TURTLE Robotics',\n",
       "  'Role': 'Officer',\n",
       "  'Contributions': ['Coordinating with Mechanical Engineering department to purchase supplies and manage $15,000 budget.',\n",
       "   'Supervising payment system for membership dues to maintain timely collection and accurate records.',\n",
       "   'Facilitating supply reimbursement process for 11 project teams to improve efficiency within the organization.']},\n",
       " {'Company': 'TURTLE Robotics',\n",
       "  'Role': 'Lab Quality Officer',\n",
       "  'Contributions': ['Managed upgrade of lab equipment following a 3x budget increase, reducing fabrication flowtime by 90%.',\n",
       "   'Collaborated closely with project leaders to purchase and allocate resources on $15,000 budget.',\n",
       "   'Spearheaded lab cleanliness and organization initiatives, ensuring tidy and efficient lab for all team members.']},\n",
       " {'Company': 'TURTLE Robotics',\n",
       "  'Role': 'Team Leader (Vision-Integrated Robotic Turret Team)',\n",
       "  'Contributions': ['Directing team of 11 in development of Xilinx FPGA-driven autonomous turret robot for object tracking and following.',\n",
       "   'Prototyping color detection computer vision system in Vitis HLS with C++ to track a designated target.',\n",
       "   'Collaborated with teammates to design and fabricate camera chassis and drive base to enable smooth movement in following a target.']},\n",
       " {'Company': 'TURTLE Robotics',\n",
       "  'Role': 'Lighting Sub-Team (Seed Germination and Growth Team)',\n",
       "  'Contributions': ['Constructed robot to automate lighting, water, and nutrient delivery to grow vegetables in simulated environment.',\n",
       "   'Devised Raspberry Pi-controlled LED grow light system, enabling full customization of light cycles.',\n",
       "   'Programmed light wavelength and day/night cycle functions in Python, allowing adaptability for different plant species.']},\n",
       " {'Company': 'TURTLE Robotics',\n",
       "  'Role': 'Digital System Design',\n",
       "  'Contributions': ['Designed and tested circuits and logic gates on breadboards—including ALUs; half, full, and ripple carry adders.',\n",
       "   'Developed circuits in SystemVerilog using Xilinx Vivado and analyzed results against test benches—such as a traffic light controller with sensors, combination lock systems, and a 4-bit addition/subtraction calculator.',\n",
       "   'Simulated circuits on Xilinx Zynq series FPGA to validate functionality and performance.']}]"
      ]
     },
     "execution_count": 65,
     "metadata": {},
     "output_type": "execute_result"
    }
   ],
   "source": [
    "experience_info"
   ]
  },
  {
   "cell_type": "markdown",
   "metadata": {},
   "source": [
    "## Skill Parsing "
   ]
  },
  {
   "cell_type": "code",
   "execution_count": 66,
   "metadata": {},
   "outputs": [],
   "source": [
    "class Skills(BaseModel):\n",
    "    technical_skills: list[str] = Field(..., alias=\"Technical Skills\")\n",
    "    domain_specific_skills: list[str] = Field(..., alias=\"Domain-Specific Skills\")"
   ]
  },
  {
   "cell_type": "code",
   "execution_count": 67,
   "metadata": {},
   "outputs": [],
   "source": [
    "SKILL_EXTRACTION_TEMPLATE = \"\"\"\n",
    "You are an expert are parsing skills from resumes.\n",
    "\n",
    "Given resume text, please parse individual technical (e.g., programming languages, tools, frameworks, databases) and domain-specific (e.g., methodologies, architectures, or specialized techniques) skills contained in the resume. **Ensure that you do not miss any domain-specific skills.**\n",
    "\n",
    "Format your output as a JSON object as follows:\n",
    "    {{\n",
    "        \"Technical Skills\": [\"list\", \"of\", \"technical\", \"skills\"]\n",
    "        \"Domain-Specific Skills\": [\"list\", \"of\" \"domain\", \"specific\", \"skills\"]\n",
    "    }}\n",
    "\n",
    "Resume text:\n",
    "```\n",
    "{resume_text}\n",
    "```\n",
    "\n",
    "Parsed skills:\n",
    "\"\"\""
   ]
  },
  {
   "cell_type": "code",
   "execution_count": 68,
   "metadata": {},
   "outputs": [],
   "source": [
    "skills_info = with_structured_output(\n",
    "    prompt=SKILL_EXTRACTION_TEMPLATE.format(\n",
    "        resume_text=parsed_resume[\"Experience\"]\n",
    "            + parsed_resume[\"Projects\"]\n",
    "            + parsed_resume[\"Skills\"]\n",
    "            + parsed_resume[\"Research\"]\n",
    "            + parsed_resume[\"Leadership\"]),\n",
    "    schema=Skills)"
   ]
  },
  {
   "cell_type": "code",
   "execution_count": 69,
   "metadata": {},
   "outputs": [
    {
     "data": {
      "text/plain": [
       "{'Technical Skills': ['Matlab',\n",
       "  'SystemVerilog',\n",
       "  'Python',\n",
       "  'C++',\n",
       "  'Multisim',\n",
       "  'Xilinx Vivado',\n",
       "  'LTspice',\n",
       "  'CAM350',\n",
       "  'Microsoft Office (Word, Excel, PowerPoint)',\n",
       "  'Raspberry Pi',\n",
       "  'Arduino',\n",
       "  'oscilloscope',\n",
       "  'signal generator',\n",
       "  'multimeter',\n",
       "  '3D printer'],\n",
       " 'Domain-Specific Skills': ['PCB design and manufacturability',\n",
       "  'Automated solder void detection',\n",
       "  'IPC compliance',\n",
       "  'Turret robot development (Xilinx FPGA-driven)',\n",
       "  'Computer vision system (Vitis HLS with C++)',\n",
       "  'Camera chassis and drive base design',\n",
       "  'Robotics automation (lighting, water, and nutrient delivery)',\n",
       "  'LED grow light system (Raspberry Pi-controlled)',\n",
       "  'Digital circuit design (ALUs, logic gates, adders)',\n",
       "  'SystemVerilog programming',\n",
       "  'FPGA simulation (Xilinx Zynq series)',\n",
       "  'Traffic light controller design',\n",
       "  'Combination lock systems design',\n",
       "  '4-bit addition/subtraction calculator design']}"
      ]
     },
     "execution_count": 69,
     "metadata": {},
     "output_type": "execute_result"
    }
   ],
   "source": [
    "skills_info"
   ]
  },
  {
   "cell_type": "markdown",
   "metadata": {},
   "source": [
    "### Putting it all together"
   ]
  },
  {
   "cell_type": "code",
   "execution_count": 70,
   "metadata": {},
   "outputs": [
    {
     "name": "stdout",
     "output_type": "stream",
     "text": [
      "{'Education': [{'GPA': 3.0,\n",
      "                'Graduation Year': 2025,\n",
      "                'Majors': ['BS in Electrical Engineering'],\n",
      "                'Minors': ['Minor in Chinese Program'],\n",
      "                'Name': 'Texas A&M University'}],\n",
      " 'Experience': [{'Company': 'Honeywell FM&T',\n",
      "                 'Contributions': ['Assessed PCB drawings and managed external '\n",
      "                                   'stakeholders to improve manufacturability '\n",
      "                                   'of complex circuit designs.',\n",
      "                                   'Collaborated with numerous internal '\n",
      "                                   'agencies/teams to design, manufacture, and '\n",
      "                                   'buy critical electrical components.',\n",
      "                                   'Standardized process and documentation of '\n",
      "                                   'scrapping parts, ensuring audit compliance '\n",
      "                                   'and saving Product Engineers 48 effort '\n",
      "                                   'hours annually.',\n",
      "                                   'Automated solder void detection in '\n",
      "                                   'bottom-terminated components using Matlab '\n",
      "                                   'to ensure strict IPC compliance.'],\n",
      "                 'Role': 'Electrical Engineering Intern II (Purchase Product '\n",
      "                         'Engineer in PCBs)'},\n",
      "                {'Company': 'TURTLE Robotics',\n",
      "                 'Contributions': ['Coordinating with Mechanical Engineering '\n",
      "                                   'department to purchase supplies and manage '\n",
      "                                   '$15,000 budget.',\n",
      "                                   'Supervising payment system for membership '\n",
      "                                   'dues to maintain timely collection and '\n",
      "                                   'accurate records.',\n",
      "                                   'Facilitating supply reimbursement process '\n",
      "                                   'for 11 project teams to improve efficiency '\n",
      "                                   'within the organization.'],\n",
      "                 'Role': 'Officer'},\n",
      "                {'Company': 'TURTLE Robotics',\n",
      "                 'Contributions': ['Managed upgrade of lab equipment following '\n",
      "                                   'a 3x budget increase, reducing fabrication '\n",
      "                                   'flowtime by 90%.',\n",
      "                                   'Collaborated closely with project leaders '\n",
      "                                   'to purchase and allocate resources on '\n",
      "                                   '$15,000 budget.',\n",
      "                                   'Spearheaded lab cleanliness and '\n",
      "                                   'organization initiatives, ensuring tidy '\n",
      "                                   'and efficient lab for all team members.'],\n",
      "                 'Role': 'Lab Quality Officer'},\n",
      "                {'Company': 'TURTLE Robotics',\n",
      "                 'Contributions': ['Directing team of 11 in development of '\n",
      "                                   'Xilinx FPGA-driven autonomous turret robot '\n",
      "                                   'for object tracking and following.',\n",
      "                                   'Prototyping color detection computer '\n",
      "                                   'vision system in Vitis HLS with C++ to '\n",
      "                                   'track a designated target.',\n",
      "                                   'Collaborated with teammates to design and '\n",
      "                                   'fabricate camera chassis and drive base to '\n",
      "                                   'enable smooth movement in following a '\n",
      "                                   'target.'],\n",
      "                 'Role': 'Team Leader (Vision-Integrated Robotic Turret Team)'},\n",
      "                {'Company': 'TURTLE Robotics',\n",
      "                 'Contributions': ['Constructed robot to automate lighting, '\n",
      "                                   'water, and nutrient delivery to grow '\n",
      "                                   'vegetables in simulated environment.',\n",
      "                                   'Devised Raspberry Pi-controlled LED grow '\n",
      "                                   'light system, enabling full customization '\n",
      "                                   'of light cycles.',\n",
      "                                   'Programmed light wavelength and day/night '\n",
      "                                   'cycle functions in Python, allowing '\n",
      "                                   'adaptability for different plant species.'],\n",
      "                 'Role': 'Lighting Sub-Team (Seed Germination and Growth '\n",
      "                         'Team)'},\n",
      "                {'Company': 'TURTLE Robotics',\n",
      "                 'Contributions': ['Designed and tested circuits and logic '\n",
      "                                   'gates on breadboards—including ALUs; half, '\n",
      "                                   'full, and ripple carry adders.',\n",
      "                                   'Developed circuits in SystemVerilog using '\n",
      "                                   'Xilinx Vivado and analyzed results against '\n",
      "                                   'test benches—such as a traffic light '\n",
      "                                   'controller with sensors, combination lock '\n",
      "                                   'systems, and a 4-bit addition/subtraction '\n",
      "                                   'calculator.',\n",
      "                                   'Simulated circuits on Xilinx Zynq series '\n",
      "                                   'FPGA to validate functionality and '\n",
      "                                   'performance.'],\n",
      "                 'Role': 'Digital System Design'}],\n",
      " 'Skills': {'Domain-Specific Skills': ['PCB design and manufacturability',\n",
      "                                       'Automated solder void detection',\n",
      "                                       'IPC compliance',\n",
      "                                       'Turret robot development (Xilinx '\n",
      "                                       'FPGA-driven)',\n",
      "                                       'Computer vision system (Vitis HLS with '\n",
      "                                       'C++)',\n",
      "                                       'Camera chassis and drive base design',\n",
      "                                       'Robotics automation (lighting, water, '\n",
      "                                       'and nutrient delivery)',\n",
      "                                       'LED grow light system (Raspberry '\n",
      "                                       'Pi-controlled)',\n",
      "                                       'Digital circuit design (ALUs, logic '\n",
      "                                       'gates, adders)',\n",
      "                                       'SystemVerilog programming',\n",
      "                                       'FPGA simulation (Xilinx Zynq series)',\n",
      "                                       'Traffic light controller design',\n",
      "                                       'Combination lock systems design',\n",
      "                                       '4-bit addition/subtraction calculator '\n",
      "                                       'design'],\n",
      "            'Technical Skills': ['Matlab',\n",
      "                                 'SystemVerilog',\n",
      "                                 'Python',\n",
      "                                 'C++',\n",
      "                                 'Multisim',\n",
      "                                 'Xilinx Vivado',\n",
      "                                 'LTspice',\n",
      "                                 'CAM350',\n",
      "                                 'Microsoft Office (Word, Excel, PowerPoint)',\n",
      "                                 'Raspberry Pi',\n",
      "                                 'Arduino',\n",
      "                                 'oscilloscope',\n",
      "                                 'signal generator',\n",
      "                                 'multimeter',\n",
      "                                 '3D printer']}}\n"
     ]
    }
   ],
   "source": [
    "parsed_info = {\n",
    "    \"Education\": education_info,\n",
    "    \"Experience\": experience_info,\n",
    "    \"Skills\": skills_info\n",
    "}\n",
    "pprint(parsed_info)"
   ]
  },
  {
   "cell_type": "code",
   "execution_count": 71,
   "metadata": {},
   "outputs": [],
   "source": [
    "with open(\"output/parsed_info.json\", \"w\") as file:\n",
    "    json.dump(parsed_info, file, indent=4)"
   ]
  },
  {
   "cell_type": "code",
   "execution_count": null,
   "metadata": {},
   "outputs": [],
   "source": []
  }
 ],
 "metadata": {
  "kernelspec": {
   "display_name": "resume",
   "language": "python",
   "name": "python3"
  },
  "language_info": {
   "codemirror_mode": {
    "name": "ipython",
    "version": 3
   },
   "file_extension": ".py",
   "mimetype": "text/x-python",
   "name": "python",
   "nbconvert_exporter": "python",
   "pygments_lexer": "ipython3",
   "version": "3.12.8"
  }
 },
 "nbformat": 4,
 "nbformat_minor": 2
}
