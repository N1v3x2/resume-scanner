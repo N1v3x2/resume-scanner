{
 "cells": [
  {
   "cell_type": "markdown",
   "metadata": {},
   "source": [
    "Important aspects of a job description:\n",
    "1. Job title\n",
    "2. Responsibilities\n",
    "3. Required Qualifications\n",
    "4. Preferred Qualifications\n",
    "\n",
    "Some resumes may have:\n",
    "1. Skills and Competencies\n",
    "2. Experience Requirements (e.g., \"5+ years of marketing experience\")\n",
    "\n",
    "These extra sections can be grouped under \"Required Qualifications\""
   ]
  },
  {
   "cell_type": "code",
   "execution_count": 2,
   "metadata": {},
   "outputs": [],
   "source": [
    "from utils.with_structured_output import with_structured_output\n",
    "from pydantic import BaseModel, RootModel, Field\n",
    "from pprint import pprint"
   ]
  },
  {
   "cell_type": "code",
   "execution_count": 14,
   "metadata": {},
   "outputs": [],
   "source": [
    "class JobDescription(BaseModel):\n",
    "    job_title: str                      = Field(..., alias=\"Job Title\")\n",
    "    responsibilities: list[str]         = Field(..., alias=\"Responsibilities\")\n",
    "    required_qualifications: list[str]  = Field(..., alias=\"Required Qualifications\")\n",
    "    preferred_qualifications: list[str] = Field(..., alias=\"Preferred Qualifications\")"
   ]
  },
  {
   "cell_type": "code",
   "execution_count": 33,
   "metadata": {},
   "outputs": [],
   "source": [
    "JOB_DESC_EXTRACTION_TEMPLATE = \"\"\"\n",
    "You are an expert at parsing important information from job descriptions. Given a job description, your job is to parse key details from it in this format:\n",
    "    {{\n",
    "        \"Job Title\": \"<Job Title>\",\n",
    "        \"Responsibilities\": [\"list\", \"of\", \"responsibilities\"],\n",
    "        \"Required Qualifications\": [\"list\", \"of\", \"required\", \"qualifications\"],\n",
    "        \"Preferred Qualifications:\" [\"list\", \"of\", \"preferred\", \"qualifications\"]\n",
    "    }}\n",
    "    \n",
    "Note that the job title will usually be the first line of text from the job description. **If there is no clear job title, please use the context provided to infer the job title.**\n",
    "\n",
    "Some job descriptions may have a \"Skills and Competencies\" section or \"Experience Requirements.\" These should be grouped together under \"Required Qualifications.\"\n",
    "\n",
    "Job descriptions may have sections that do not exactly match one of the sections defined in the output format. If this is the case, please use surrounding context to infer which output section is relevant. For example, \"What we need to see\" is equivalent to \"Required Qualifications.\"\n",
    "\n",
    "Often, entries listed under \"Responsibilities,\" \"Required Qualifications,\" and \"Preferred Qualifications\" (or equivalent) will be formatted as a bulleted list. Please include all items from the bulleted list. \n",
    "\n",
    "**Ensure there is no overlap between output sections.** For example, the same information should not appear in both \"Responsibilities\" and \"Required Qualifications.\"\n",
    "\n",
    "Job Description text:\n",
    "{job_desc}\n",
    "\n",
    "Output:\n",
    "\"\"\""
   ]
  },
  {
   "cell_type": "code",
   "execution_count": 37,
   "metadata": {},
   "outputs": [],
   "source": [
    "with open(\"../sample-data/google-swe-senior.txt\", \"r\") as file:\n",
    "    job_desc = file.read()"
   ]
  },
  {
   "cell_type": "code",
   "execution_count": 38,
   "metadata": {},
   "outputs": [
    {
     "name": "stdout",
     "output_type": "stream",
     "text": [
      "{'job_title': 'Senior Software Engineer, AI/ML GenAI',\n",
      " 'preferred_qualifications': [\"Master's degree or PhD in Computer Science or \"\n",
      "                              'related technical field.',\n",
      "                              '1 year of experience in a technical leadership '\n",
      "                              'role.',\n",
      "                              'Experience developing accessible technologies.'],\n",
      " 'required_qualifications': ['Bachelor’s degree or equivalent practical '\n",
      "                             'experience.',\n",
      "                             '5 years of experience with software development '\n",
      "                             'in one or more programming languages, and with '\n",
      "                             'data structures/algorithms.',\n",
      "                             '3 years of experience testing, maintaining, or '\n",
      "                             'launching software products, and 1 year of '\n",
      "                             'experience with software design and '\n",
      "                             'architecture.',\n",
      "                             '3 years of experience with state of the art '\n",
      "                             'GenAI techniques (e.g., LLMs, Multi-Modal, Large '\n",
      "                             'Vision Models) or with GenAI-related concepts '\n",
      "                             '(language modeling, computer vision).',\n",
      "                             '3 years of experience with ML infrastructure '\n",
      "                             '(e.g., model deployment, model evaluation, '\n",
      "                             'optimization, data processing, debugging).'],\n",
      " 'responsibilities': ['Write and test product or system development code.',\n",
      "                      'Collaborate with peers and stakeholders through design '\n",
      "                      'and code reviews to ensure best practices amongst '\n",
      "                      'available technologies (e.g., style guidelines, '\n",
      "                      'checking code in, accuracy, testability, and '\n",
      "                      'efficiency).',\n",
      "                      'Contribute to existing documentation or educational '\n",
      "                      'content and adapt content based on product/program '\n",
      "                      'updates and user feedback.',\n",
      "                      'Triage product or system issues and debug/track/resolve '\n",
      "                      'by analyzing the sources of issues and the impact on '\n",
      "                      'hardware, network, or service operations and quality.',\n",
      "                      'Design and implement GenAI solutions, leverage ML '\n",
      "                      'infrastructure, and evaluate tradeoffs between '\n",
      "                      'different techniques and their application domains.']}\n"
     ]
    }
   ],
   "source": [
    "job_desc = with_structured_output(\n",
    "    prompt=JOB_DESC_EXTRACTION_TEMPLATE.format(job_desc=job_desc),\n",
    "    schema=JobDescription)\n",
    "pprint(job_desc.model_dump())"
   ]
  },
  {
   "cell_type": "code",
   "execution_count": null,
   "metadata": {},
   "outputs": [],
   "source": []
  }
 ],
 "metadata": {
  "kernelspec": {
   "display_name": "resume",
   "language": "python",
   "name": "python3"
  },
  "language_info": {
   "codemirror_mode": {
    "name": "ipython",
    "version": 3
   },
   "file_extension": ".py",
   "mimetype": "text/x-python",
   "name": "python",
   "nbconvert_exporter": "python",
   "pygments_lexer": "ipython3",
   "version": "3.12.8"
  }
 },
 "nbformat": 4,
 "nbformat_minor": 2
}
