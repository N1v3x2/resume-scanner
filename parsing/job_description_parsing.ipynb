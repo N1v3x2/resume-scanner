{
 "cells": [
  {
   "cell_type": "markdown",
   "metadata": {},
   "source": [
    "Important aspects of a job description:\n",
    "1. Job title\n",
    "2. Responsibilities\n",
    "3. Required Qualifications\n",
    "4. Preferred Qualifications\n",
    "\n",
    "Some resumes may have:\n",
    "1. Skills and Competencies\n",
    "2. Experience Requirements (e.g., \"5+ years of marketing experience\")\n",
    "\n",
    "These extra sections can be grouped under \"Required Qualifications\""
   ]
  },
  {
   "cell_type": "code",
   "execution_count": 2,
   "metadata": {},
   "outputs": [],
   "source": [
    "from utils.with_structured_output import with_structured_output\n",
    "from pydantic import BaseModel, RootModel, Field\n",
    "from pprint import pprint"
   ]
  },
  {
   "cell_type": "code",
   "execution_count": 9,
   "metadata": {},
   "outputs": [],
   "source": [
    "class JobDescription(BaseModel):\n",
    "    required_skills: list[str]          = Field(..., alias=\"Required Skills\")\n",
    "    preferred_skills: list[str]         = Field(..., alias=\"Preferred Skills\")\n",
    "    required_experience: list[str]      = Field(..., alias=\"Required Experience\")\n",
    "    preferred_experience: list[str]     = Field(..., alias=\"Preferred Experience\")\n",
    "    required_education: list[str]       = Field(..., alias=\"Required Education\")\n",
    "    preferred_education: list[str]      = Field(..., alias=\"Preferred Education\")"
   ]
  },
  {
   "cell_type": "code",
   "execution_count": 89,
   "metadata": {},
   "outputs": [],
   "source": [
    "JOB_DESC_EXTRACTION_TEMPLATE = \"\"\"\n",
    "You are an expert at parsing important information from job descriptions. Given a job description, your job is to parse key details from it in this format:\n",
    "    {{\n",
    "        \"Required Skills\": [\"list\", \"of\", \"required\", \"skills\"],\n",
    "        \"Preferred Skills\": [\"list\", \"of\", \"preferred\", \"skills\"],\n",
    "        \"Required Experience\": [\"list\", \"of\", \"required\", \"experience\"],\n",
    "        \"Preferred Experience\": [\"list\", \"of\", \"preferred\", \"experience\"],\n",
    "        \"Required Education\": [\"list\", \"of\", \"required\", \"education\"],\n",
    "        \"Preferred Education\": [\"list\", \"of\", \"preferred\", \"education\"]\n",
    "    }}\n",
    "\n",
    "Please parse all information from bulleted lists in the job description.\n",
    "\n",
    "When parsing \"Education\" requirements, please output each individual education requirement separately. For example, \"Master's degree or PhD in Computer Science\" -> [\"Master's degree in Computer Science\", \"PhD in Computer Science\"].\n",
    "\n",
    "Skills are typically specific, technical terms that are prefixed with \"Proficient in,\" \"Knowledge of,\" \"Familiarity with,\" \"Ability to,\" or \"Expertise in.\" When parsing skills, only include the skill itself in the output, e.g. \"Proficient in software development\" -> \"software development.\"\n",
    "\n",
    "Experience requirements are typically prefixed with \"Years of experience,\" \"Prior work in,\" or \"Proven history of,\" \"Demonstrated track record.\"\n",
    "\n",
    "**Ensure that all information parsed is explicitly contained in the resume.**\n",
    "---\n",
    "Job Description:\n",
    "{job_desc}\n",
    "\n",
    "Output:\n",
    "\"\"\""
   ]
  },
  {
   "cell_type": "code",
   "execution_count": 90,
   "metadata": {},
   "outputs": [],
   "source": [
    "with open(\"../sample_data/google_swe_senior.txt\", \"r\") as file:\n",
    "    job_desc = file.read()"
   ]
  },
  {
   "cell_type": "code",
   "execution_count": 91,
   "metadata": {},
   "outputs": [
    {
     "name": "stdout",
     "output_type": "stream",
     "text": [
      "{'Preferred Education': [\"Master's degree or PhD in Computer Science or \"\n",
      "                         'related technical field'],\n",
      " 'Preferred Experience': ['1 year of experience in a technical leadership role',\n",
      "                          'Experience developing accessible technologies'],\n",
      " 'Preferred Skills': ['accessible technologies'],\n",
      " 'Required Education': ['Bachelor’s degree or equivalent practical experience'],\n",
      " 'Required Experience': ['5 years of experience with software development in '\n",
      "                         'one or more programming languages',\n",
      "                         '3 years of experience testing, maintaining, or '\n",
      "                         'launching software products',\n",
      "                         '1 year of experience with software design and '\n",
      "                         'architecture',\n",
      "                         '3 years of experience with state of the art GenAI '\n",
      "                         'techniques (e.g., LLMs, Multi-Modal, Large Vision '\n",
      "                         'Models) or with GenAI-related concepts (language '\n",
      "                         'modeling, computer vision)',\n",
      "                         '3 years of experience with ML infrastructure (e.g., '\n",
      "                         'model deployment, model evaluation, optimization, '\n",
      "                         'data processing, debugging)'],\n",
      " 'Required Skills': ['software development',\n",
      "                     'data structures/algorithms',\n",
      "                     'state of the art GenAI techniques (e.g., LLMs, '\n",
      "                     'Multi-Modal, Large Vision Models)',\n",
      "                     'ML infrastructure (e.g., model deployment, model '\n",
      "                     'evaluation, optimization, data processing, debugging)']}\n"
     ]
    }
   ],
   "source": [
    "job_desc = with_structured_output(\n",
    "    prompt=JOB_DESC_EXTRACTION_TEMPLATE.format(job_desc=job_desc),\n",
    "    schema=JobDescription)\n",
    "pprint(job_desc)"
   ]
  },
  {
   "cell_type": "code",
   "execution_count": null,
   "metadata": {},
   "outputs": [],
   "source": []
  }
 ],
 "metadata": {
  "kernelspec": {
   "display_name": "resume",
   "language": "python",
   "name": "python3"
  },
  "language_info": {
   "codemirror_mode": {
    "name": "ipython",
    "version": 3
   },
   "file_extension": ".py",
   "mimetype": "text/x-python",
   "name": "python",
   "nbconvert_exporter": "python",
   "pygments_lexer": "ipython3",
   "version": "3.12.8"
  }
 },
 "nbformat": 4,
 "nbformat_minor": 2
}
