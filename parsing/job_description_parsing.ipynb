{
 "cells": [
  {
   "cell_type": "markdown",
   "metadata": {},
   "source": [
    "Important aspects of a job description:\n",
    "1. Job title\n",
    "2. Responsibilities\n",
    "3. Required Qualifications\n",
    "4. Preferred Qualifications\n",
    "\n",
    "Some resumes may have:\n",
    "1. Skills and Competencies\n",
    "2. Experience Requirements (e.g., \"5+ years of marketing experience\")\n",
    "\n",
    "These extra sections can be grouped under \"Required Qualifications\""
   ]
  },
  {
   "cell_type": "code",
   "execution_count": 21,
   "metadata": {},
   "outputs": [],
   "source": [
    "from utils.with_structured_output import with_structured_output\n",
    "from pydantic import BaseModel, RootModel, Field\n",
    "from pprint import pprint\n",
    "import json"
   ]
  },
  {
   "cell_type": "code",
   "execution_count": 16,
   "metadata": {},
   "outputs": [],
   "source": [
    "class JobDescription(BaseModel):\n",
    "    required_skills: list[str]          = Field(..., alias=\"Required Skills\")\n",
    "    preferred_skills: list[str]         = Field(..., alias=\"Preferred Skills\")\n",
    "    required_experience: list[str]      = Field(..., alias=\"Required Experience\")\n",
    "    preferred_experience: list[str]     = Field(..., alias=\"Preferred Experience\")\n",
    "    required_education: list[str]       = Field(..., alias=\"Required Education\")\n",
    "    preferred_education: list[str]      = Field(..., alias=\"Preferred Education\")"
   ]
  },
  {
   "cell_type": "code",
   "execution_count": 17,
   "metadata": {},
   "outputs": [],
   "source": [
    "JOB_DESC_EXTRACTION_TEMPLATE = \"\"\"\n",
    "You are an expert at parsing important information from job descriptions. Given a job description, your job is to parse key details from it in this format:\n",
    "    {{\n",
    "        \"Required Skills\": [\"list\", \"of\", \"required\", \"skills\"],\n",
    "        \"Preferred Skills\": [\"list\", \"of\", \"preferred\", \"skills\"],\n",
    "        \"Required Experience\": [\"list\", \"of\", \"required\", \"experience\"],\n",
    "        \"Preferred Experience\": [\"list\", \"of\", \"preferred\", \"experience\"],\n",
    "        \"Required Education\": [\"list\", \"of\", \"required\", \"education\"],\n",
    "        \"Preferred Education\": [\"list\", \"of\", \"preferred\", \"education\"]\n",
    "    }}\n",
    "\n",
    "Please parse all information from bulleted lists in the job description.\n",
    "\n",
    "When parsing \"Education\" requirements, please output each individual education requirement separately. For example, \"Master's degree or PhD in Computer Science\" -> [\"Master's degree in Computer Science\", \"PhD in Computer Science\"].\n",
    "\n",
    "Skills are typically specific, technical terms that are prefixed with \"Proficient in,\" \"Knowledge of,\" \"Familiarity with,\" \"Ability to,\" or \"Expertise in.\" When parsing skills, only include the skill itself in the output, e.g. \"Proficient in software development\" -> \"software development.\"\n",
    "\n",
    "Experience requirements are typically prefixed with \"Years of experience,\" \"Prior work in,\" or \"Proven history of,\" \"Demonstrated track record.\"\n",
    "\n",
    "**Ensure that all information parsed is explicitly contained in the resume.**\n",
    "---\n",
    "Job Description:\n",
    "{job_desc}\n",
    "\n",
    "Output:\n",
    "\"\"\""
   ]
  },
  {
   "cell_type": "code",
   "execution_count": 18,
   "metadata": {},
   "outputs": [],
   "source": [
    "with open(\"../input/jobs/nvidia_swe_autonomous_vehicles.txt\", \"r\") as file:\n",
    "    job_desc = file.read()"
   ]
  },
  {
   "cell_type": "code",
   "execution_count": 19,
   "metadata": {},
   "outputs": [
    {
     "name": "stdout",
     "output_type": "stream",
     "text": [
      "{'Preferred Education': [],\n",
      " 'Preferred Experience': ['Prior experience in the Automotive field',\n",
      "                          'Background in QNX RTOS and debug tools',\n",
      "                          'Experience in developing and maintaining AI or '\n",
      "                          'machine learning infrastructure, preferably in the '\n",
      "                          'context of large language models'],\n",
      " 'Preferred Skills': ['Deep Learning',\n",
      "                      'Transformer',\n",
      "                      'NLP',\n",
      "                      'LLM technology',\n",
      "                      'QNX RTOS',\n",
      "                      'CAN and tools',\n",
      "                      'RADAR',\n",
      "                      'LiDAR'],\n",
      " 'Required Education': ['Pursuing BS or MS in CS/CE/EE or equivalent program'],\n",
      " 'Required Experience': ['Experience in research and development of Deep '\n",
      "                         'Learning/Transformer/NLP/LLM technology',\n",
      "                         'Strong Linux kernel, application-level system '\n",
      "                         'software experience'],\n",
      " 'Required Skills': ['Python',\n",
      "                     'C',\n",
      "                     'C++',\n",
      "                     'Linux kernel',\n",
      "                     'application-level system software']}\n"
     ]
    }
   ],
   "source": [
    "job_desc = with_structured_output(\n",
    "    prompt=JOB_DESC_EXTRACTION_TEMPLATE.format(job_desc=job_desc),\n",
    "    schema=JobDescription)\n",
    "pprint(job_desc)"
   ]
  },
  {
   "cell_type": "code",
   "execution_count": 22,
   "metadata": {},
   "outputs": [],
   "source": [
    "with open(\"../output/parsed_job_desc.json\", \"w\") as file:\n",
    "    json.dump(job_desc, file, indent=4)"
   ]
  },
  {
   "cell_type": "code",
   "execution_count": null,
   "metadata": {},
   "outputs": [],
   "source": []
  }
 ],
 "metadata": {
  "kernelspec": {
   "display_name": "resume",
   "language": "python",
   "name": "python3"
  },
  "language_info": {
   "codemirror_mode": {
    "name": "ipython",
    "version": 3
   },
   "file_extension": ".py",
   "mimetype": "text/x-python",
   "name": "python",
   "nbconvert_exporter": "python",
   "pygments_lexer": "ipython3",
   "version": "3.12.8"
  }
 },
 "nbformat": 4,
 "nbformat_minor": 2
}
