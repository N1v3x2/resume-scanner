{
 "cells": [
  {
   "cell_type": "code",
   "execution_count": 2,
   "metadata": {},
   "outputs": [],
   "source": [
    "job_desc = \"\"\"\n",
    "Job Title: Software Engineer\n",
    "\n",
    "Job Description:  \n",
    "We are seeking a passionate and talented Software Engineer to join our dynamic team. In this role, you will design, develop, and maintain scalable software solutions to solve complex problems. You will collaborate with cross-functional teams to deliver high-quality applications and services.\n",
    "\n",
    "Responsibilities:  \n",
    "- Develop, test, and deploy software applications using modern programming languages and frameworks.  \n",
    "- Work closely with product managers and designers to gather and refine requirements.  \n",
    "- Write clean, efficient, and maintainable code, adhering to best practices.  \n",
    "- Debug, troubleshoot, and optimize applications for performance and scalability.  \n",
    "- Collaborate with team members in an Agile environment.\n",
    "\n",
    "Qualifications:  \n",
    "- Bachelor's degree in Computer Science, Software Engineering, or a related field, or equivalent experience.  \n",
    "- Proficiency in one or more programming languages (e.g., Python, Java, C++).  \n",
    "- Experience with software development tools, frameworks, and methodologies.  \n",
    "- Strong problem-solving skills and attention to detail.  \n",
    "- Excellent communication and teamwork abilities.\n",
    "\n",
    "Join us and be part of a team that values innovation, growth, and collaboration!\n",
    "\"\"\"\n",
    "\n",
    "resumes = [\n",
    "    \"John Doe\\nSoftware Engineer\\njohn.doe@example.com | (123) 456-7890 | linkedin.com/in/johndoe\\n\\nSummary:\\nExperienced software engineer with expertise in developing scalable web applications, strong knowledge of Python and JavaScript, and a passion for solving complex problems.\\n\\nSkills:\\n- Programming Languages: Python, JavaScript, Java\\n- Frameworks: Django, React, Spring Boot\\n- Tools: Git, Docker, Kubernetes\\n- Databases: PostgreSQL, MongoDB\\n\\nExperience:\\nSoftware Engineer | ABC Tech | June 2020 - Present\\n- Built and maintained scalable APIs to support high-traffic e-commerce platforms.\\n- Led migration of a monolithic application to a microservices architecture, reducing downtime by 30%.\\n\\nEducation:\\nB.S. in Computer Science | University of XYZ | May 2020\",\n",
    "    \n",
    "    \"Jane Smith\\nData Scientist\\njane.smith@example.com | (987) 654-3210 | github.com/janesmith\\n\\nSummary:\\nData scientist with a strong background in machine learning, statistical modeling, and data visualization. Skilled in Python, R, and SQL with experience in predictive analytics.\\n\\nSkills:\\n- Machine Learning: Scikit-learn, TensorFlow, PyTorch\\n- Data Visualization: Tableau, Matplotlib, Seaborn\\n- Databases: MySQL, PostgreSQL\\n- Tools: Jupyter, Excel, Git\\n\\nExperience:\\nData Scientist | DataCorp | March 2018 - Present\\n- Developed machine learning models to predict customer churn, improving retention by 20%.\\n- Automated ETL pipelines to streamline data processing, saving 15 hours of manual work weekly.\\n\\nEducation:\\nM.S. in Data Science | University of ABC | December 2017\",\n",
    "    \n",
    "    \"Michael Brown\\nFull-Stack Developer\\nmichael.brown@example.com | (555) 123-4567 | michaelbrown.dev\\n\\nSummary:\\nFull-stack developer with 5+ years of experience building responsive web applications and services. Proficient in JavaScript, TypeScript, and modern frameworks like React and Node.js.\\n\\nSkills:\\n- Frontend: HTML, CSS, JavaScript, React\\n- Backend: Node.js, Express, Python\\n- Databases: MongoDB, PostgreSQL\\n- Tools: Docker, AWS, Webpack\\n\\nExperience:\\nFull-Stack Developer | XYZ Solutions | August 2019 - Present\\n- Designed and implemented a customer management system used by over 10,000 users.\\n- Improved application load times by 40% through optimized code and caching strategies.\\n\\nEducation:\\nB.S. in Software Engineering | State University | May 2017\",\n",
    "    \n",
    "    \"Emily Johnson\\nDevOps Engineer\\nemily.johnson@example.com | (444) 789-0123 | emilyjohnson.dev\\n\\nSummary:\\nDevOps engineer with 4+ years of experience in cloud infrastructure, CI/CD pipelines, and container orchestration. Skilled in AWS, Kubernetes, and Terraform.\\n\\nSkills:\\n- Cloud Platforms: AWS, Azure\\n- Tools: Docker, Kubernetes, Terraform, Jenkins\\n- Scripting: Bash, Python\\n- Monitoring: Prometheus, Grafana\\n\\nExperience:\\nDevOps Engineer | CloudTech | July 2020 - Present\\n- Automated infrastructure deployment using Terraform, reducing setup time by 50%.\\n- Implemented CI/CD pipelines for microservices, accelerating deployments by 70%.\\n\\nEducation:\\nB.S. in Information Technology | Tech University | May 2016\",\n",
    "    \n",
    "    \"Sophia Williams\\nUX Designer\\nsophia.williams@example.com | (333) 456-7890 | behance.net/sophiawilliams\\n\\nSummary:\\nUX designer with a passion for creating user-centered designs and improving user experiences. Proficient in Figma, Adobe XD, and usability testing.\\n\\nSkills:\\n- Design Tools: Figma, Adobe XD, Sketch\\n- Research: Usability Testing, A/B Testing\\n- Prototyping: InVision, Axure\\n- Frontend: HTML, CSS, JavaScript\\n\\nExperience:\\nUX Designer | Creative Studio | April 2019 - Present\\n- Redesigned mobile app interfaces, resulting in a 25% increase in user engagement.\\n- Conducted user research sessions to identify pain points and improve workflows.\\n\\nEducation:\\nB.A. in Graphic Design | Design Institute | May 2018\"\n",
    "]"
   ]
  },
  {
   "cell_type": "markdown",
   "metadata": {
    "vscode": {
     "languageId": "plaintext"
    }
   },
   "source": [
    "### TF-IDF for keyword extraction"
   ]
  },
  {
   "cell_type": "code",
   "execution_count": 10,
   "metadata": {},
   "outputs": [],
   "source": [
    "from sklearn.feature_extraction.text import TfidfVectorizer\n",
    "from pprint import pprint\n",
    "import re"
   ]
  },
  {
   "cell_type": "code",
   "execution_count": 11,
   "metadata": {},
   "outputs": [
    {
     "data": {
      "text/plain": [
       "array(['abc', 'abilities', 'adhering', 'agile', 'apis', 'application',\n",
       "       'applications', 'architecture', 'attention', 'bachelor', 'best',\n",
       "       'boot', 'built', 'clean', 'closely', 'code', 'collaborate',\n",
       "       'collaboration', 'com', 'commerce', 'communication', 'complex',\n",
       "       'computer', 'cross', 'databases', 'debug', 'degree', 'deliver',\n",
       "       'deploy', 'description', 'design', 'designers', 'develop',\n",
       "       'developing', 'development', 'django', 'docker', 'doe', 'downtime',\n",
       "       'dynamic', 'education', 'efficient', 'engineer', 'engineering',\n",
       "       'environment', 'equivalent', 'example', 'excellent', 'experience',\n",
       "       'experienced', 'expertise', 'field', 'frameworks', 'functional',\n",
       "       'gather', 'git', 'growth', 'high', 'innovation', 'java',\n",
       "       'javascript', 'job', 'john', 'johndoe', 'join', 'june',\n",
       "       'knowledge', 'kubernetes', 'languages', 'led', 'linkedin',\n",
       "       'maintain', 'maintainable', 'maintained', 'managers', 'members',\n",
       "       'methodologies', 'microservices', 'migration', 'modern', 'mongodb',\n",
       "       'monolithic', 'optimize', 'passion', 'passionate', 'performance',\n",
       "       'platforms', 'postgresql', 'practices', 'present', 'problem',\n",
       "       'problems', 'product', 'proficiency', 'programming', 'python',\n",
       "       'qualifications', 'quality', 'react', 'reducing', 'refine',\n",
       "       'related', 'requirements', 'responsibilities', 'role',\n",
       "       'scalability', 'scalable', 'science', 'seeking', 'services',\n",
       "       'skills', 'software', 'solutions', 'solve', 'solving', 'spring',\n",
       "       'strong', 'summary', 'support', 'talented', 'team', 'teams',\n",
       "       'teamwork', 'tech', 'test', 'title', 'tools', 'traffic',\n",
       "       'troubleshoot', 'university', 'using', 'values', 'web', 'work',\n",
       "       'write', 'xyz'], dtype=object)"
      ]
     },
     "execution_count": 11,
     "metadata": {},
     "output_type": "execute_result"
    }
   ],
   "source": [
    "corpus = [resumes[0], job_desc]\n",
    "\n",
    "# Remove numbers before extracting keywords\n",
    "corpus = [re.sub(r\"\\d+\", \"\", text) for text in corpus]\n",
    "\n",
    "vectorizer = TfidfVectorizer(stop_words=\"english\")\n",
    "tfidf_matrix = vectorizer.fit_transform(corpus)\n",
    "\n",
    "feature_names = vectorizer.get_feature_names_out()\n",
    "tfidf_scores = tfidf_matrix.toarray()\n",
    "\n",
    "feature_names"
   ]
  },
  {
   "cell_type": "code",
   "execution_count": 12,
   "metadata": {},
   "outputs": [
    {
     "name": "stdout",
     "output_type": "stream",
     "text": [
      "Top Resume Keywords:\n",
      "[('software', 0.2405245183143361),\n",
      " ('engineer', 0.2405245183143361),\n",
      " ('javascript', 0.22536587875688172),\n",
      " ('com', 0.22536587875688172),\n",
      " ('doe', 0.22536587875688172),\n",
      " ('john', 0.22536587875688172),\n",
      " ('python', 0.1603496788762241),\n",
      " ('scalable', 0.1603496788762241),\n",
      " ('migration', 0.11268293937844086),\n",
      " ('microservices', 0.11268293937844086),\n",
      " ('maintained', 0.11268293937844086),\n",
      " ('mongodb', 0.11268293937844086),\n",
      " ('linkedin', 0.11268293937844086),\n",
      " ('monolithic', 0.11268293937844086),\n",
      " ('led', 0.11268293937844086),\n",
      " ('knowledge', 0.11268293937844086),\n",
      " ('passion', 0.11268293937844086),\n",
      " ('june', 0.11268293937844086),\n",
      " ('platforms', 0.11268293937844086),\n",
      " ('postgresql', 0.11268293937844086),\n",
      " ('johndoe', 0.11268293937844086),\n",
      " ('xyz', 0.11268293937844086),\n",
      " ('expertise', 0.11268293937844086),\n",
      " ('git', 0.11268293937844086),\n",
      " ('experienced', 0.11268293937844086),\n",
      " ('example', 0.11268293937844086),\n",
      " ('education', 0.11268293937844086),\n",
      " ('downtime', 0.11268293937844086),\n",
      " ('docker', 0.11268293937844086),\n",
      " ('django', 0.11268293937844086),\n",
      " ('developing', 0.11268293937844086),\n",
      " ('databases', 0.11268293937844086),\n",
      " ('commerce', 0.11268293937844086),\n",
      " ('built', 0.11268293937844086),\n",
      " ('boot', 0.11268293937844086),\n",
      " ('architecture', 0.11268293937844086),\n",
      " ('application', 0.11268293937844086),\n",
      " ('apis', 0.11268293937844086),\n",
      " ('present', 0.11268293937844086),\n",
      " ('kubernetes', 0.11268293937844086),\n",
      " ('abc', 0.11268293937844086),\n",
      " ('tech', 0.11268293937844086),\n",
      " ('support', 0.11268293937844086),\n",
      " ('summary', 0.11268293937844086),\n",
      " ('web', 0.11268293937844086),\n",
      " ('react', 0.11268293937844086),\n",
      " ('reducing', 0.11268293937844086),\n",
      " ('traffic', 0.11268293937844086),\n",
      " ('spring', 0.11268293937844086),\n",
      " ('university', 0.11268293937844086),\n",
      " ('solving', 0.08017483943811204),\n",
      " ('complex', 0.08017483943811204),\n",
      " ('languages', 0.08017483943811204),\n",
      " ('skills', 0.08017483943811204),\n",
      " ('tools', 0.08017483943811204),\n",
      " ('frameworks', 0.08017483943811204),\n",
      " ('java', 0.08017483943811204),\n",
      " ('high', 0.08017483943811204),\n",
      " ('strong', 0.08017483943811204),\n",
      " ('experience', 0.08017483943811204),\n",
      " ('programming', 0.08017483943811204),\n",
      " ('science', 0.08017483943811204),\n",
      " ('computer', 0.08017483943811204),\n",
      " ('problems', 0.08017483943811204),\n",
      " ('applications', 0.08017483943811204),\n",
      " ('troubleshoot', 0.0),\n",
      " ('attention', 0.0),\n",
      " ('teamwork', 0.0),\n",
      " ('abilities', 0.0),\n",
      " ('test', 0.0),\n",
      " ('development', 0.0),\n",
      " ('title', 0.0),\n",
      " ('adhering', 0.0),\n",
      " ('agile', 0.0),\n",
      " ('work', 0.0),\n",
      " ('develop', 0.0),\n",
      " ('values', 0.0),\n",
      " ('designers', 0.0),\n",
      " ('design', 0.0),\n",
      " ('description', 0.0),\n",
      " ('communication', 0.0),\n",
      " ('bachelor', 0.0),\n",
      " ('deploy', 0.0),\n",
      " ('best', 0.0),\n",
      " ('using', 0.0),\n",
      " ('deliver', 0.0),\n",
      " ('degree', 0.0),\n",
      " ('debug', 0.0),\n",
      " ('clean', 0.0),\n",
      " ('closely', 0.0),\n",
      " ('cross', 0.0),\n",
      " ('dynamic', 0.0),\n",
      " ('code', 0.0),\n",
      " ('collaborate', 0.0),\n",
      " ('collaboration', 0.0),\n",
      " ('teams', 0.0),\n",
      " ('qualifications', 0.0),\n",
      " ('team', 0.0),\n",
      " ('optimize', 0.0),\n",
      " ('members', 0.0),\n",
      " ('methodologies', 0.0),\n",
      " ('role', 0.0),\n",
      " ('responsibilities', 0.0),\n",
      " ('modern', 0.0),\n",
      " ('requirements', 0.0),\n",
      " ('related', 0.0),\n",
      " ('refine', 0.0),\n",
      " ('scalability', 0.0),\n",
      " ('passionate', 0.0),\n",
      " ('performance', 0.0),\n",
      " ('practices', 0.0),\n",
      " ('quality', 0.0),\n",
      " ('problem', 0.0),\n",
      " ('product', 0.0),\n",
      " ('proficiency', 0.0),\n",
      " ('managers', 0.0),\n",
      " ('maintainable', 0.0),\n",
      " ('efficient', 0.0),\n",
      " ('growth', 0.0),\n",
      " ('talented', 0.0),\n",
      " ('engineering', 0.0),\n",
      " ('environment', 0.0),\n",
      " ('equivalent', 0.0),\n",
      " ('field', 0.0),\n",
      " ('functional', 0.0),\n",
      " ('gather', 0.0),\n",
      " ('innovation', 0.0),\n",
      " ('maintain', 0.0),\n",
      " ('job', 0.0),\n",
      " ('solve', 0.0),\n",
      " ('solutions', 0.0),\n",
      " ('join', 0.0),\n",
      " ('services', 0.0),\n",
      " ('write', 0.0),\n",
      " ('seeking', 0.0),\n",
      " ('excellent', 0.0)]\n"
     ]
    }
   ],
   "source": [
    "resume_keywords = [\n",
    "    (feature_names[i], tfidf_scores[0][i])\n",
    "    for i in tfidf_scores[0].argsort()[::-1]\n",
    "]\n",
    "print(\"Top Resume Keywords:\")\n",
    "pprint(resume_keywords)"
   ]
  },
  {
   "cell_type": "markdown",
   "metadata": {},
   "source": [
    "TF-IDF isn't ideal for matching keywords between a resume and a job description, since TF-IDF assigns higher scores for words that are *unique*. If a word appears in both the resume and job description, its *uniqueness* score is decreased."
   ]
  },
  {
   "cell_type": "markdown",
   "metadata": {},
   "source": [
    "### Using NLP libraries"
   ]
  },
  {
   "cell_type": "markdown",
   "metadata": {},
   "source": [
    "Part of speech tagging"
   ]
  },
  {
   "cell_type": "code",
   "execution_count": 16,
   "metadata": {},
   "outputs": [],
   "source": [
    "import spacy\n",
    "\n",
    "nlp = spacy.load(\"en_core_web_sm\")\n",
    "\n",
    "doc = nlp(resumes[0])"
   ]
  },
  {
   "cell_type": "code",
   "execution_count": 17,
   "metadata": {},
   "outputs": [
    {
     "data": {
      "text/plain": [
       "John Doe\n",
       "Software Engineer\n",
       "john.doe@example.com | (123) 456-7890 | linkedin.com/in/johndoe\n",
       "\n",
       "Summary:\n",
       "Experienced software engineer with expertise in developing scalable web applications, strong knowledge of Python and JavaScript, and a passion for solving complex problems.\n",
       "\n",
       "Skills:\n",
       "- Programming Languages: Python, JavaScript, Java\n",
       "- Frameworks: Django, React, Spring Boot\n",
       "- Tools: Git, Docker, Kubernetes\n",
       "- Databases: PostgreSQL, MongoDB\n",
       "\n",
       "Experience:\n",
       "Software Engineer | ABC Tech | June 2020 - Present\n",
       "- Built and maintained scalable APIs to support high-traffic e-commerce platforms.\n",
       "- Led migration of a monolithic application to a microservices architecture, reducing downtime by 30%.\n",
       "\n",
       "Education:\n",
       "B.S. in Computer Science | University of XYZ | May 2020"
      ]
     },
     "execution_count": 17,
     "metadata": {},
     "output_type": "execute_result"
    }
   ],
   "source": [
    "doc"
   ]
  },
  {
   "cell_type": "code",
   "execution_count": 20,
   "metadata": {},
   "outputs": [
    {
     "data": {
      "text/plain": [
       "['|',\n",
       " '|',\n",
       " 'Experienced',\n",
       " 'software',\n",
       " 'engineer',\n",
       " 'expertise',\n",
       " 'developing',\n",
       " 'web',\n",
       " 'applications',\n",
       " 'knowledge',\n",
       " 'passion',\n",
       " 'solving',\n",
       " 'problems',\n",
       " 'Skills',\n",
       " 'Languages',\n",
       " 'MongoDB',\n",
       " 'Experience',\n",
       " '|',\n",
       " '|',\n",
       " 'Built',\n",
       " 'maintained',\n",
       " 'APIs',\n",
       " 'support',\n",
       " 'traffic',\n",
       " 'e',\n",
       " '-',\n",
       " 'commerce',\n",
       " 'platforms',\n",
       " 'Led',\n",
       " 'migration',\n",
       " 'application',\n",
       " 'microservices',\n",
       " 'architecture',\n",
       " 'reducing',\n",
       " 'downtime',\n",
       " '%',\n",
       " '|',\n",
       " '|']"
      ]
     },
     "execution_count": 20,
     "metadata": {},
     "output_type": "execute_result"
    }
   ],
   "source": [
    "keywords = [re.sub(f\"[^a-zA-Z]\", \"\", token.text) for token in doc if token.pos_ in (\"NOUN\", \"VERB\")]\n",
    "keywords"
   ]
  },
  {
   "cell_type": "code",
   "execution_count": null,
   "metadata": {},
   "outputs": [],
   "source": []
  }
 ],
 "metadata": {
  "kernelspec": {
   "display_name": "resume",
   "language": "python",
   "name": "python3"
  },
  "language_info": {
   "codemirror_mode": {
    "name": "ipython",
    "version": 3
   },
   "file_extension": ".py",
   "mimetype": "text/x-python",
   "name": "python",
   "nbconvert_exporter": "python",
   "pygments_lexer": "ipython3",
   "version": "3.12.2"
  }
 },
 "nbformat": 4,
 "nbformat_minor": 2
}
