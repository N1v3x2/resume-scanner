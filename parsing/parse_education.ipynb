{
 "cells": [
  {
   "cell_type": "code",
   "execution_count": 5,
   "metadata": {},
   "outputs": [],
   "source": [
    "import json\n",
    "from ollama import chat\n",
    "from pydantic import BaseModel, RootModel, Field\n",
    "from pprint import pprint"
   ]
  },
  {
   "cell_type": "code",
   "execution_count": 3,
   "metadata": {},
   "outputs": [],
   "source": [
    "with open(\"output/resume_sections.json\", \"r\") as file:\n",
    "    resume_sections = json.load(file)"
   ]
  },
  {
   "cell_type": "code",
   "execution_count": 4,
   "metadata": {},
   "outputs": [
    {
     "data": {
      "text/plain": [
       "{'Miscellaneous': ['(832) 416-3570 | kevzhang2022@gmail.com | linkedin.com/in/kevinkz | github.com/n1v3x2'],\n",
       " 'Education': 'Texas A&M University May 2026\\nBS in Computer Science, Minor in Statistics and Math College Station, TX\\nCumulative GPA: 4.0/4.0\\nHonors: Dean’s Honor Roll, Engineering Honors (EH), Dean’s Excellence Award Semi-finalist\\nCoursework: Data Structures & Algorithms, Software Engineering, Computer Systems, Discrete Math, Linear Algebra',\n",
       " 'Experience': 'AI/ML Intern Aug 2024 – Dec 2024\\nSandia National Laboratories Remote\\n• Developed knowledge graph (KG) generation pipeline with internal LLM microservices to allow multi-hop\\nreasoning in 3-stage retrieval augmented generation (RAG) pipeline\\n• Extracted 30+ domain-specific seed topics from text corpus with BERTopic for KG subgraph creation\\n• Achieved100%schema-compliantLLMoutputsviaprompt engineering andgrammar-contrained decoding\\n• Packaged KG generation logic into reusable, object-oriented Python modules used by 30 developers\\nSoftware Engineering Intern May 2024 – Aug 2024\\nSandia National Laboratories Albuquerque, NM\\n• Redesigned 30 year old Java data analysis suite architecture, cutting developer onboarding time by 3 weeks\\n• Used MATLAB profiler to find bottleneck in data preprocessing script, leading to 90% execution time reduction\\n• Built Java class to interface with Javalin REST API, enabling multithreaded network communication\\n• Reduced logic errors by 50% via integration and regression testing in Jenkins CI/CD pipeline\\nUndergraduate Teaching Assistant Jan 2024 – Present\\nTexas A&M University College Station, TX\\n• Leading data structures & algorithms recitations for 60 students semiweekly\\n• Mentoring 15+ students weekly in C++ assignments, leading to 80% reduction in assignment errors\\n• Teaching students core CS concepts including vectors, trees, graphs, sorting algorithms, and recursion\\nFull Stack Developer Intern Jun 2022 – Aug 2022, May 2023 – Aug 2023\\nVertical Automation and Information Technology Katy, TX\\n• Built CRM system with ASP.NET MVC serving 10 users, improving employee efficiency by 50%\\n• Optimized MySQL database performance by eliminating 1,000 duplicate records, improving query speed by 10%\\n• Designed scalable SQL database architecture to support complex entity relationships\\n• Created role-based authorization system with Entity Framework to facilitate project management for managers',\n",
       " 'Projects': 'Credit Card Recommender (Best Financial Hack) | Python, Jupyter, Flask, React, LangChain Nov 2024\\n• Developed LLM-based credit card recommendation system at 24-hour hackathon, competing against 14 teams\\n• Devised chain-of-thought (CoT) recommendation prompt that takes user spending habits into account\\n• Augmented recommendations with self-curated JSON database containing statistics on 50 popular credit cards\\nPoint of Sales System | React, TypeScript, Java, Spring Boot, PostgreSQL, JDBC, Git Sep 2024 – Nov 2024\\n• Designed modular React components and managed application state with React hooks (useState, useContext)\\n• Orchestrated integration of Google OAuth API to manage authentication/authorization\\n• Implemented JDBC backend to query PostgreSQL database and map results to Java data transfer objects\\n• Reviewed 60+ GitHub pull requests, leading to 80% reduction in code smells',\n",
       " 'Skills': 'Languages: Java, Python, C/C++, TypeScript/JavaScript, C#, SQL, HTML/CSS, MATLAB, Bash\\nFrameworks: React, Bootstrap, Flask, JUnit, ASP.NET, Entity Framework, Spring Boot\\nLibraries: Numpy, Pandas, Matplotlib, LangChain, OpenAI, Pydantic, TensorFlow\\nDeveloper Tools: Linux, Git (GitHub, Gerrit), Anaconda, Jupyter, Azure DevOps, Jenkins, Vim, Docker\\nDatabases: PostgreSQL, MySQL, Neo4J'}"
      ]
     },
     "execution_count": 4,
     "metadata": {},
     "output_type": "execute_result"
    }
   ],
   "source": [
    "resume_sections"
   ]
  },
  {
   "cell_type": "code",
   "execution_count": 6,
   "metadata": {},
   "outputs": [],
   "source": [
    "education = resume_sections[\"Education\"]"
   ]
  },
  {
   "cell_type": "code",
   "execution_count": 1,
   "metadata": {},
   "outputs": [
    {
     "ename": "NameError",
     "evalue": "name 'BaseModel' is not defined",
     "output_type": "error",
     "traceback": [
      "\u001b[0;31m---------------------------------------------------------------------------\u001b[0m",
      "\u001b[0;31mNameError\u001b[0m                                 Traceback (most recent call last)",
      "Cell \u001b[0;32mIn[1], line 1\u001b[0m\n\u001b[0;32m----> 1\u001b[0m \u001b[38;5;28;01mclass\u001b[39;00m \u001b[38;5;21;01mSchool\u001b[39;00m(\u001b[43mBaseModel\u001b[49m):\n\u001b[1;32m      2\u001b[0m     name: \u001b[38;5;28mstr\u001b[39m           \u001b[38;5;241m=\u001b[39m Field(\u001b[38;5;241m.\u001b[39m\u001b[38;5;241m.\u001b[39m\u001b[38;5;241m.\u001b[39m, alias\u001b[38;5;241m=\u001b[39m\u001b[38;5;124m\"\u001b[39m\u001b[38;5;124mName\u001b[39m\u001b[38;5;124m\"\u001b[39m)\n\u001b[1;32m      3\u001b[0m     major: \u001b[38;5;28mstr\u001b[39m          \u001b[38;5;241m=\u001b[39m Field(\u001b[38;5;241m.\u001b[39m\u001b[38;5;241m.\u001b[39m\u001b[38;5;241m.\u001b[39m, alias\u001b[38;5;241m=\u001b[39m\u001b[38;5;124m\"\u001b[39m\u001b[38;5;124mMajor\u001b[39m\u001b[38;5;124m\"\u001b[39m)\n",
      "\u001b[0;31mNameError\u001b[0m: name 'BaseModel' is not defined"
     ]
    }
   ],
   "source": [
    "class School(BaseModel):\n",
    "    name: str           = Field(..., alias=\"Name\")\n",
    "    major: str          = Field(..., alias=\"Major\")\n",
    "    minors: list[str]   = Field(None, alias=\"Minors\")\n",
    "    gpa: float          = Field(None, alias=\"GPA\")\n",
    "    grad_year: int      = Field(..., alias=\"Graduation Year\")\n",
    "\n",
    "class Education(BaseModel):\n",
    "    schools: list[School]   = Field(..., alias=\"Schools\")\n",
    "    honors: list[str]       = Field(..., alias=\"Honors\")"
   ]
  },
  {
   "cell_type": "code",
   "execution_count": 38,
   "metadata": {},
   "outputs": [],
   "source": [
    "EDUCATION_EXTRACTION_PROMPT = \"\"\"\n",
    "You are an expert resume parser. Given some resume text, your job is to parse the following information and format it as follows:\n",
    "\n",
    "{{\n",
    "    \"Schools\": [\n",
    "        {{\n",
    "            \"Name\": \"name of school\",\n",
    "            \"Major\": \"major field of study\",\n",
    "            \"Minors\": [\"list\", \"of\", \"minors\"] or null,\n",
    "            \"GPA\": <GPA> or null,\n",
    "            \"Graduation Year\": <graduation_year>\n",
    "        }},\n",
    "        ...\n",
    "    ],\n",
    "    \"Honors\": [\"list\", \"of\", \"honors\"],\n",
    "}}\n",
    "\n",
    "Notes:\n",
    "1. If there are no minors, set \"Minors\" to null.\n",
    "2. If there is no GPA listed, set \"GPA\" to null.\n",
    "3. If any school does not have a graduation year listed, omit the school from the output.\n",
    "4. Output the full name of all degrees, e.g., \"BS in Computer Science\", \"M.S. in Information Science\".\n",
    "5. If the resume does not contain information for one of the sections, return an empty list for that section.\n",
    "\n",
    "Extracted information must be **explicitly contained in the resume.**\n",
    "\n",
    "Resume text:\n",
    "{resume_text}\n",
    "\n",
    "Output:\n",
    "\"\"\""
   ]
  },
  {
   "cell_type": "code",
   "execution_count": 39,
   "metadata": {},
   "outputs": [],
   "source": [
    "def parse_education(education_text: str) -> Education:\n",
    "    response = chat(\n",
    "        model=\"llama3.1\",\n",
    "        messages=[\n",
    "            {\n",
    "                \"role\": \"user\",\n",
    "                \"content\": EDUCATION_EXTRACTION_PROMPT.format(resume_text=education_text)\n",
    "            }\n",
    "        ],\n",
    "        format=Education.model_json_schema()\n",
    "    )\n",
    "\n",
    "    return Education.model_validate_json(response.message.content)"
   ]
  },
  {
   "cell_type": "code",
   "execution_count": 40,
   "metadata": {},
   "outputs": [
    {
     "name": "stdout",
     "output_type": "stream",
     "text": [
      "{'honors': ['Dean’s Honor Roll',\n",
      "            'Engineering Honors (EH)',\n",
      "            'Dean’s Excellence Award Semi-finalist'],\n",
      " 'schools': [{'gpa': 4.0,\n",
      "              'grad_year': 2026,\n",
      "              'major': 'BS in Computer Science',\n",
      "              'minors': ['Statistics', 'Math'],\n",
      "              'name': 'Texas A&M University'}]}\n"
     ]
    }
   ],
   "source": [
    "edu_info = parse_education(education)\n",
    "pprint(edu_info.model_dump())"
   ]
  },
  {
   "cell_type": "code",
   "execution_count": 41,
   "metadata": {},
   "outputs": [],
   "source": [
    "with open(\"../sample-data/job-desc.txt\", \"r\") as file:\n",
    "    job_desc = file.read()\n",
    "    \n",
    "with open(\"../sample-data/resumes.json\", \"r\") as file:\n",
    "    resumes = json.load(file)"
   ]
  },
  {
   "cell_type": "code",
   "execution_count": 42,
   "metadata": {},
   "outputs": [
    {
     "name": "stdout",
     "output_type": "stream",
     "text": [
      "('John Doe\\n'\n",
      " 'Software Engineer\\n'\n",
      " 'john.doe@example.com | (123) 456-7890 | linkedin.com/in/johndoe\\n'\n",
      " '\\n'\n",
      " 'Summary:\\n'\n",
      " 'Experienced software engineer with expertise in developing scalable web '\n",
      " 'applications, strong knowledge of Python and JavaScript, and a passion for '\n",
      " 'solving complex problems.\\n'\n",
      " '\\n'\n",
      " 'Skills:\\n'\n",
      " '- Programming Languages: Python, JavaScript, Java\\n'\n",
      " '- Frameworks: Django, React, Spring Boot\\n'\n",
      " '- Tools: Git, Docker, Kubernetes\\n'\n",
      " '- Databases: PostgreSQL, MongoDB\\n'\n",
      " '\\n'\n",
      " 'Experience:\\n'\n",
      " 'Software Engineer | ABC Tech | June 2020 - Present\\n'\n",
      " '- Built and maintained scalable APIs to support high-traffic e-commerce '\n",
      " 'platforms.\\n'\n",
      " '- Led migration of a monolithic application to a microservices architecture, '\n",
      " 'reducing downtime by 30%.\\n'\n",
      " '\\n'\n",
      " 'Education:\\n'\n",
      " 'B.S. in Computer Science | University of XYZ | May 2020')\n",
      "---\n",
      "{'honors': [],\n",
      " 'schools': [{'gpa': None,\n",
      "              'grad_year': 2020,\n",
      "              'major': 'BS in Computer Science',\n",
      "              'minors': None,\n",
      "              'name': 'University of XYZ'}]}\n",
      "\n",
      "('Jane Smith\\n'\n",
      " 'Data Scientist\\n'\n",
      " 'jane.smith@example.com | (987) 654-3210 | github.com/janesmith\\n'\n",
      " '\\n'\n",
      " 'Summary:\\n'\n",
      " 'Data scientist with a strong background in machine learning, statistical '\n",
      " 'modeling, and data visualization. Skilled in Python, R, and SQL with '\n",
      " 'experience in predictive analytics.\\n'\n",
      " '\\n'\n",
      " 'Skills:\\n'\n",
      " '- Machine Learning: Scikit-learn, TensorFlow, PyTorch\\n'\n",
      " '- Data Visualization: Tableau, Matplotlib, Seaborn\\n'\n",
      " '- Databases: MySQL, PostgreSQL\\n'\n",
      " '- Tools: Jupyter, Excel, Git\\n'\n",
      " '\\n'\n",
      " 'Experience:\\n'\n",
      " 'Data Scientist | DataCorp | March 2018 - Present\\n'\n",
      " '- Developed machine learning models to predict customer churn, improving '\n",
      " 'retention by 20%.\\n'\n",
      " '- Automated ETL pipelines to streamline data processing, saving 15 hours of '\n",
      " 'manual work weekly.\\n'\n",
      " '\\n'\n",
      " 'Education:\\n'\n",
      " 'M.S. in Data Science | University of ABC | December 2017')\n",
      "---\n",
      "{'honors': [],\n",
      " 'schools': [{'gpa': None,\n",
      "              'grad_year': 2017,\n",
      "              'major': 'Data Science',\n",
      "              'minors': None,\n",
      "              'name': 'University of ABC'}]}\n",
      "\n",
      "('Michael Brown\\n'\n",
      " 'Full-Stack Developer\\n'\n",
      " 'michael.brown@example.com | (555) 123-4567 | michaelbrown.dev\\n'\n",
      " '\\n'\n",
      " 'Summary:\\n'\n",
      " 'Full-stack developer with 5+ years of experience building responsive web '\n",
      " 'applications and services. Proficient in JavaScript, TypeScript, and modern '\n",
      " 'frameworks like React and Node.js.\\n'\n",
      " '\\n'\n",
      " 'Skills:\\n'\n",
      " '- Frontend: HTML, CSS, JavaScript, React\\n'\n",
      " '- Backend: Node.js, Express, Python\\n'\n",
      " '- Databases: MongoDB, PostgreSQL\\n'\n",
      " '- Tools: Docker, AWS, Webpack\\n'\n",
      " '\\n'\n",
      " 'Experience:\\n'\n",
      " 'Full-Stack Developer | XYZ Solutions | August 2019 - Present\\n'\n",
      " '- Designed and implemented a customer management system used by over 10,000 '\n",
      " 'users.\\n'\n",
      " '- Improved application load times by 40% through optimized code and caching '\n",
      " 'strategies.\\n'\n",
      " '\\n'\n",
      " 'Education:\\n'\n",
      " 'B.S. in Software Engineering | State University | May 2017')\n",
      "---\n",
      "{'honors': [],\n",
      " 'schools': [{'gpa': None,\n",
      "              'grad_year': 2017,\n",
      "              'major': 'Software Engineering',\n",
      "              'minors': None,\n",
      "              'name': 'State University'}]}\n",
      "\n",
      "('Emily Johnson\\n'\n",
      " 'DevOps Engineer\\n'\n",
      " 'emily.johnson@example.com | (444) 789-0123 | emilyjohnson.dev\\n'\n",
      " '\\n'\n",
      " 'Summary:\\n'\n",
      " 'DevOps engineer with 4+ years of experience in cloud infrastructure, CI/CD '\n",
      " 'pipelines, and container orchestration. Skilled in AWS, Kubernetes, and '\n",
      " 'Terraform.\\n'\n",
      " '\\n'\n",
      " 'Skills:\\n'\n",
      " '- Cloud Platforms: AWS, Azure\\n'\n",
      " '- Tools: Docker, Kubernetes, Terraform, Jenkins\\n'\n",
      " '- Scripting: Bash, Python\\n'\n",
      " '- Monitoring: Prometheus, Grafana\\n'\n",
      " '\\n'\n",
      " 'Experience:\\n'\n",
      " 'DevOps Engineer | CloudTech | July 2020 - Present\\n'\n",
      " '- Automated infrastructure deployment using Terraform, reducing setup time '\n",
      " 'by 50%.\\n'\n",
      " '- Implemented CI/CD pipelines for microservices, accelerating deployments by '\n",
      " '70%.\\n'\n",
      " '\\n'\n",
      " 'Education:\\n'\n",
      " 'B.S. in Information Technology | Tech University | May 2016')\n",
      "---\n",
      "{'honors': [],\n",
      " 'schools': [{'gpa': None,\n",
      "              'grad_year': 2016,\n",
      "              'major': 'BS in Information Technology',\n",
      "              'minors': None,\n",
      "              'name': 'Tech University'}]}\n",
      "\n",
      "('Sophia Williams\\n'\n",
      " 'UX Designer\\n'\n",
      " 'sophia.williams@example.com | (333) 456-7890 | behance.net/sophiawilliams\\n'\n",
      " '\\n'\n",
      " 'Summary:\\n'\n",
      " 'UX designer with a passion for creating user-centered designs and improving '\n",
      " 'user experiences. Proficient in Figma, Adobe XD, and usability testing.\\n'\n",
      " '\\n'\n",
      " 'Skills:\\n'\n",
      " '- Design Tools: Figma, Adobe XD, Sketch\\n'\n",
      " '- Research: Usability Testing, A/B Testing\\n'\n",
      " '- Prototyping: InVision, Axure\\n'\n",
      " '- Frontend: HTML, CSS, JavaScript\\n'\n",
      " '\\n'\n",
      " 'Experience:\\n'\n",
      " 'UX Designer | Creative Studio | April 2019 - Present\\n'\n",
      " '- Redesigned mobile app interfaces, resulting in a 25% increase in user '\n",
      " 'engagement.\\n'\n",
      " '- Conducted user research sessions to identify pain points and improve '\n",
      " 'workflows.\\n'\n",
      " '\\n'\n",
      " 'Education:\\n'\n",
      " 'B.A. in Graphic Design | Design Institute | May 2018')\n",
      "---\n",
      "{'honors': [],\n",
      " 'schools': [{'gpa': None,\n",
      "              'grad_year': 2018,\n",
      "              'major': 'B.A. in Graphic Design',\n",
      "              'minors': None,\n",
      "              'name': 'Design Institute'}]}\n",
      "\n"
     ]
    }
   ],
   "source": [
    "for resume in resumes:\n",
    "    pprint(resume)\n",
    "    print(\"---\")\n",
    "    pprint(parse_education(resume).model_dump())\n",
    "    print()"
   ]
  },
  {
   "cell_type": "code",
   "execution_count": null,
   "metadata": {},
   "outputs": [],
   "source": []
  }
 ],
 "metadata": {
  "kernelspec": {
   "display_name": "resume",
   "language": "python",
   "name": "python3"
  },
  "language_info": {
   "codemirror_mode": {
    "name": "ipython",
    "version": 3
   },
   "file_extension": ".py",
   "mimetype": "text/x-python",
   "name": "python",
   "nbconvert_exporter": "python",
   "pygments_lexer": "ipython3",
   "version": "3.12.8"
  }
 },
 "nbformat": 4,
 "nbformat_minor": 2
}
