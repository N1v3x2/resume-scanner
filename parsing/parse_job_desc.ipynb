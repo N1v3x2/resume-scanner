{
 "cells": [
  {
   "cell_type": "markdown",
   "metadata": {},
   "source": [
    "Important aspects of a job description:\n",
    "1. Job title\n",
    "2. Responsibilities\n",
    "3. Required Qualifications\n",
    "4. Preferred Qualifications\n",
    "\n",
    "Some resumes may have:\n",
    "1. Skills and Competencies\n",
    "2. Experience Requirements (e.g., \"5+ years of marketing experience\")\n",
    "\n",
    "These extra sections can be grouped under \"Required Qualifications\""
   ]
  },
  {
   "cell_type": "code",
   "execution_count": 2,
   "metadata": {},
   "outputs": [],
   "source": [
    "from utils.with_structured_output import with_structured_output\n",
    "from pydantic import BaseModel, RootModel, Field\n",
    "from pprint import pprint"
   ]
  },
  {
   "cell_type": "code",
   "execution_count": null,
   "metadata": {},
   "outputs": [],
   "source": [
    "class JobDescription(BaseModel):\n",
    "    job_title: str = Field(..., alias=\"Job Title\")\n",
    "    responsibilities: str = Field(..., alias=\"Responsibilities\")\n",
    "    required_qualifications: str = Field(..., alias=\"Required Qualifications\")\n",
    "    preferred_qualifications: str = Field(..., alias=\"Preferred Qualifications\")"
   ]
  }
 ],
 "metadata": {
  "kernelspec": {
   "display_name": "resume",
   "language": "python",
   "name": "python3"
  },
  "language_info": {
   "codemirror_mode": {
    "name": "ipython",
    "version": 3
   },
   "file_extension": ".py",
   "mimetype": "text/x-python",
   "name": "python",
   "nbconvert_exporter": "python",
   "pygments_lexer": "ipython3",
   "version": "3.12.8"
  }
 },
 "nbformat": 4,
 "nbformat_minor": 2
}
