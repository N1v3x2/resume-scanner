{
 "cells": [
  {
   "cell_type": "code",
   "execution_count": 1,
   "metadata": {},
   "outputs": [],
   "source": [
    "from ollama import chat\n",
    "from pydantic import BaseModel, RootModel, Field\n",
    "from pprint import pprint\n",
    "import json\n",
    "\n",
    "from utils.with_structured_output import with_structured_output"
   ]
  },
  {
   "cell_type": "code",
   "execution_count": 2,
   "metadata": {},
   "outputs": [],
   "source": [
    "with open(\"../output/parsed_resume.json\", \"r\") as file:\n",
    "    resume_sections = json.load(file)"
   ]
  },
  {
   "cell_type": "code",
   "execution_count": 3,
   "metadata": {},
   "outputs": [],
   "source": [
    "class Experience(BaseModel):\n",
    "    company: str = Field(..., alias=\"Company\")\n",
    "    role: str = Field(..., alias=\"Role\")\n",
    "    contributions: list[str] = Field(..., alias=\"Contributions\")\n",
    "    \n",
    "class Experiences(BaseModel):\n",
    "    experiences: list[Experience] = Field(..., alias=\"Experiences\")\n",
    "    yoe: float = Field(..., alias=\"Total Years of Experience\")"
   ]
  },
  {
   "cell_type": "code",
   "execution_count": 7,
   "metadata": {},
   "outputs": [],
   "source": [
    "EXPERIENCE_EXTRACTION_PROMPT = \"\"\"\n",
    "You are an expert at parsing resumes. Given some resume text, your job is to extract information about the candidate's work experience and format it as a list of JSON objects, where each object has the following format:\n",
    "    {{\n",
    "        \"Experiences\": [\n",
    "            {{\n",
    "                \"Company\": \"<company>\",\n",
    "                \"Role\": \"<applicant's role at the company>\",\n",
    "                \"Contributions\": [\"list\", \"of\", \"contributions\", \"in\", \"the\", \"role\"]\n",
    "            }},\n",
    "            ...\n",
    "        ],\n",
    "        \"Total Years of Experience\": <Total Years of Experience> \n",
    "    }}\n",
    "    \n",
    "The extracted information must be **explicitly contained in the resume.**\n",
    "\n",
    "Calculate \"Total Years of Experience\" by summing up the duration of all experiences, rounded to the nearest quarter-year. **Note that overlapping timeframes should not double-counted.**\n",
    "\n",
    "Resume text:\n",
    "{resume_text}\n",
    "\n",
    "Output:\n",
    "\"\"\""
   ]
  },
  {
   "cell_type": "code",
   "execution_count": 8,
   "metadata": {},
   "outputs": [
    {
     "name": "stdout",
     "output_type": "stream",
     "text": [
      "{'Experiences': [{'Company': 'DIVE (Data Integration Visualization and '\n",
      "                             'Exploration) Lab',\n",
      "                  'Contributions': ['Enhanced the QHNet model’s Hamiltonian '\n",
      "                                    'matrix predictions by experimenting with '\n",
      "                                    'various radial basis functions, leading '\n",
      "                                    'to a 5% increase in model accuracy and '\n",
      "                                    'efficiency in material property '\n",
      "                                    'simulations.',\n",
      "                                    'Currently tying to utilize OMat24 for '\n",
      "                                    'material property prediction to support '\n",
      "                                    'novel materials research, facilitating '\n",
      "                                    'faster identification of viable compounds '\n",
      "                                    'for engineering applications.'],\n",
      "                  'Role': 'Undergraduate Researcher'},\n",
      "                 {'Company': 'Jane Street Capital',\n",
      "                  'Contributions': ['Formulated and implemented a consensus '\n",
      "                                    'algorithm that improved system '\n",
      "                                    'performance by 50 times, significantly '\n",
      "                                    'enhancing data retrieval and analysis '\n",
      "                                    'processes.',\n",
      "                                    'Developed an automation tool that '\n",
      "                                    'accelerated email processing, handling '\n",
      "                                    'tasks from extraction to error reporting.',\n",
      "                                    'Enhanced the Python library for '\n",
      "                                    'calculating Greeks on the Options Desk, '\n",
      "                                    'improving the efficiency of options '\n",
      "                                    'pricing.'],\n",
      "                  'Role': 'Trading Desk Operations Engineering Intern'},\n",
      "                 {'Company': 'SRL (Sketch Recognition Lab)',\n",
      "                  'Contributions': ['Integrated genetics and machine learning '\n",
      "                                    'to enhance early detection of Alzheimer’s '\n",
      "                                    'disease (AD).',\n",
      "                                    'Identified the most important Single '\n",
      "                                    'Nucleotide Polymorphisms (SNPs) from a '\n",
      "                                    'pool of over 700k SNPs.',\n",
      "                                    'Employed Explainable AI techniques like '\n",
      "                                    'LIME and SHAP to elucidate the rationale '\n",
      "                                    'behind identified features.'],\n",
      "                  'Role': 'Undergraduate Research Scholar'},\n",
      "                 {'Company': 'Renesas Electronics',\n",
      "                  'Contributions': ['Worked with an Agile team on a '\n",
      "                                    'mission-critical project, meeting tight '\n",
      "                                    'deadlines with precision and excellence.',\n",
      "                                    'Developed and implemented a robust '\n",
      "                                    'automation solution which detected 91 '\n",
      "                                    'errors in configurations.',\n",
      "                                    'Collaborated in the development of '\n",
      "                                    'software which helped make validation of '\n",
      "                                    'chips 4 times faster.'],\n",
      "                  'Role': 'Software Engineering Intern'},\n",
      "                 {'Company': 'JFF (Jobs For Future)',\n",
      "                  'Contributions': ['Employed advanced NLP algorithms to '\n",
      "                                    'effectively cluster and integrate data, '\n",
      "                                    'resulting in the development of a robust '\n",
      "                                    'data integration tool for a large-scale '\n",
      "                                    'database comprising over 75,000 entries.',\n",
      "                                    'Spearheaded the design and development of '\n",
      "                                    'a user-friendly Sharepoint web '\n",
      "                                    'application to enhance data '\n",
      "                                    'accessibility.',\n",
      "                                    'Conducted analysis of data sources, '\n",
      "                                    'ensuring credibility, by employing '\n",
      "                                    'comprehensive SQL querying techniques.'],\n",
      "                  'Role': 'Data Science Intern'}],\n",
      " 'Total Years of Experience': 2.25}\n"
     ]
    }
   ],
   "source": [
    "experience = with_structured_output(\n",
    "    EXPERIENCE_EXTRACTION_PROMPT.format(resume_text=resume_sections[\"Experience\"]),\n",
    "    Experiences)\n",
    "pprint(experience)"
   ]
  },
  {
   "cell_type": "code",
   "execution_count": null,
   "metadata": {},
   "outputs": [],
   "source": []
  }
 ],
 "metadata": {
  "kernelspec": {
   "display_name": "resume",
   "language": "python",
   "name": "python3"
  },
  "language_info": {
   "codemirror_mode": {
    "name": "ipython",
    "version": 3
   },
   "file_extension": ".py",
   "mimetype": "text/x-python",
   "name": "python",
   "nbconvert_exporter": "python",
   "pygments_lexer": "ipython3",
   "version": "3.12.8"
  }
 },
 "nbformat": 4,
 "nbformat_minor": 2
}
