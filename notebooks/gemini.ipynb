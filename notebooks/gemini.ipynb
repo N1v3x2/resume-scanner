{
 "cells": [
  {
   "cell_type": "code",
   "execution_count": 2,
   "metadata": {},
   "outputs": [
    {
     "name": "stdout",
     "output_type": "stream",
     "text": [
      "Artificial intelligence (AI) doesn't work in a single, unified way.  Instead, it's a broad field encompassing many different techniques and approaches, all aiming to create systems that can perform tasks that typically require human intelligence.  These tasks include things like learning, problem-solving, decision-making, speech recognition, and visual perception.\n",
      "\n",
      "Here's a breakdown of some key concepts:\n",
      "\n",
      "**1. Machine Learning (ML):** This is a subset of AI where systems learn from data without being explicitly programmed.  Instead of relying on pre-defined rules, ML algorithms identify patterns and relationships in data to make predictions or decisions.  There are several types of ML:\n",
      "\n",
      "* **Supervised Learning:** The algorithm is trained on a labeled dataset (data with known inputs and outputs).  It learns to map inputs to outputs and then predicts outputs for new, unseen inputs.  Examples include image classification (identifying objects in images) and spam detection.\n",
      "* **Unsupervised Learning:** The algorithm is trained on an unlabeled dataset (data without known outputs).  It aims to discover hidden patterns, structures, or groupings in the data.  Examples include clustering (grouping similar data points) and dimensionality reduction (reducing the number of variables while retaining important information).\n",
      "* **Reinforcement Learning:** The algorithm learns through trial and error by interacting with an environment.  It receives rewards for desirable actions and penalties for undesirable actions, learning to maximize its cumulative reward over time.  Examples include game playing (e.g., AlphaGo) and robotics.\n",
      "\n",
      "**2. Deep Learning (DL):** This is a subfield of ML that uses artificial neural networks with multiple layers (hence \"deep\"). These networks are inspired by the structure and function of the human brain.  Deep learning excels at processing large amounts of complex data, leading to breakthroughs in areas like image recognition, natural language processing, and speech recognition.  Convolutional Neural Networks (CNNs) are commonly used for image processing, while Recurrent Neural Networks (RNNs) are often used for sequential data like text and speech.\n",
      "\n",
      "**3. Natural Language Processing (NLP):** This focuses on enabling computers to understand, interpret, and generate human language.  NLP techniques are used in applications like machine translation, chatbots, sentiment analysis, and text summarization.\n",
      "\n",
      "**4. Computer Vision:** This involves enabling computers to \"see\" and interpret images and videos.  Computer vision techniques are used in applications like object detection, facial recognition, and self-driving cars.\n",
      "\n",
      "**5. Expert Systems:** These are AI systems designed to mimic the decision-making ability of a human expert in a specific domain. They use a knowledge base of rules and facts to provide advice or make predictions.\n",
      "\n",
      "**In simple terms:**  AI systems learn from data, identify patterns, and use those patterns to make predictions or decisions.  The complexity and sophistication of these systems vary greatly, ranging from simple rule-based systems to highly complex deep learning models.  The specific techniques used depend heavily on the task at hand.  It's not a single \"thing\" but rather a collection of powerful techniques constantly evolving.\n",
      "\n"
     ]
    }
   ],
   "source": [
    "import google.generativeai as genai\n",
    "from dotenv import load_dotenv\n",
    "import os\n",
    "\n",
    "load_dotenv()\n",
    "GEMINI_API_KEY = os.getenv(\"GEMINI_API_KEY\")\n",
    "\n",
    "genai.configure(api_key=GEMINI_API_KEY)\n",
    "model = genai.GenerativeModel(\"gemini-1.5-flash\")\n",
    "response = model.generate_content(\"Explain how AI works\")\n",
    "print(response.text)"
   ]
  },
  {
   "cell_type": "code",
   "execution_count": 16,
   "metadata": {},
   "outputs": [
    {
     "name": "stdout",
     "output_type": "stream",
     "text": [
      "response:\n",
      "GenerateContentResponse(\n",
      "    done=True,\n",
      "    iterator=None,\n",
      "    result=protos.GenerateContentResponse({\n",
      "      \"candidates\": [\n",
      "        {\n",
      "          \"content\": {\n",
      "            \"parts\": [\n",
      "              {\n",
      "                \"text\": \"[{\\\"ingredients\\\": [\\\"1 cup (2 sticks) unsalted butter, softened\\\", \\\"1 1/2 cups granulated sugar\\\", \\\"1 cup packed brown sugar\\\", \\\"2 teaspoons pure vanilla extract\\\", \\\"2 large eggs\\\", \\\"3 cups all-purpose flour\\\", \\\"1 teaspoon baking soda\\\", \\\"1 teaspoon salt\\\", \\\"1 cup chocolate chips\\\"], \\\"recipe_name\\\": \\\"Chocolate Chip Cookies\\\"}, {\\\"ingredients\\\": [\\\"1 cup (2 sticks) unsalted butter, softened\\\", \\\"1 cup granulated sugar\\\", \\\"1/2 cup packed brown sugar\\\", \\\"2 large eggs\\\", \\\"1 teaspoon vanilla extract\\\", \\\"2 1/4 cups all-purpose flour\\\", \\\"1 teaspoon baking soda\\\", \\\"1/2 teaspoon salt\\\", \\\"1/2 cup unsweetened cocoa powder\\\"], \\\"recipe_name\\\": \\\"Chocolate Cookies\\\"}, {\\\"ingredients\\\": [\\\"1/2 cup (1 stick) unsalted butter, softened\\\", \\\"1/2 cup shortening\\\", \\\"1 cup granulated sugar\\\", \\\"1/2 cup packed brown sugar\\\", \\\"1 teaspoon vanilla extract\\\", \\\"1 large egg\\\", \\\"2 1/4 cups all-purpose flour\\\", \\\"1 teaspoon baking soda\\\", \\\"1/2 teaspoon salt\\\", \\\"1 cup peanut butter\\\"], \\\"recipe_name\\\": \\\"Peanut Butter Cookies\\\"}]\"\n",
      "              }\n",
      "            ],\n",
      "            \"role\": \"model\"\n",
      "          },\n",
      "          \"finish_reason\": \"STOP\",\n",
      "          \"citation_metadata\": {\n",
      "            \"citation_sources\": [\n",
      "              {\n",
      "                \"start_index\": 410,\n",
      "                \"end_index\": 556,\n",
      "                \"uri\": \"https://github.com/Ganesh010914/Foodies-Paradise-\"\n",
      "              }\n",
      "            ]\n",
      "          },\n",
      "          \"avg_logprobs\": -0.04265135457079698\n",
      "        }\n",
      "      ],\n",
      "      \"usage_metadata\": {\n",
      "        \"prompt_token_count\": 8,\n",
      "        \"candidates_token_count\": 257,\n",
      "        \"total_token_count\": 265\n",
      "      }\n",
      "    }),\n",
      ")\n"
     ]
    }
   ],
   "source": [
    "# Structured output\n",
    "from pydantic import BaseModel, RootModel\n",
    "from pprint import pprint\n",
    "\n",
    "class Recipe(BaseModel):\n",
    "    recipe_name: str\n",
    "    ingredients: list[str]\n",
    "    \n",
    "result = model.generate_content(\n",
    "    \"List a few popular cookie recipes.\",\n",
    "    generation_config=genai.GenerationConfig(\n",
    "        response_mime_type=\"application/json\", response_schema=list[Recipe]\n",
    "    )\n",
    ")\n",
    "\n",
    "pprint(result)"
   ]
  },
  {
   "cell_type": "code",
   "execution_count": 17,
   "metadata": {},
   "outputs": [
    {
     "data": {
      "text/plain": [
       "'[{\"ingredients\": [\"1 cup (2 sticks) unsalted butter, softened\", \"1 1/2 cups granulated sugar\", \"1 cup packed brown sugar\", \"2 teaspoons pure vanilla extract\", \"2 large eggs\", \"3 cups all-purpose flour\", \"1 teaspoon baking soda\", \"1 teaspoon salt\", \"1 cup chocolate chips\"], \"recipe_name\": \"Chocolate Chip Cookies\"}, {\"ingredients\": [\"1 cup (2 sticks) unsalted butter, softened\", \"1 cup granulated sugar\", \"1/2 cup packed brown sugar\", \"2 large eggs\", \"1 teaspoon vanilla extract\", \"2 1/4 cups all-purpose flour\", \"1 teaspoon baking soda\", \"1/2 teaspoon salt\", \"1/2 cup unsweetened cocoa powder\"], \"recipe_name\": \"Chocolate Cookies\"}, {\"ingredients\": [\"1/2 cup (1 stick) unsalted butter, softened\", \"1/2 cup shortening\", \"1 cup granulated sugar\", \"1/2 cup packed brown sugar\", \"1 teaspoon vanilla extract\", \"1 large egg\", \"2 1/4 cups all-purpose flour\", \"1 teaspoon baking soda\", \"1/2 teaspoon salt\", \"1 cup peanut butter\"], \"recipe_name\": \"Peanut Butter Cookies\"}]'"
      ]
     },
     "execution_count": 17,
     "metadata": {},
     "output_type": "execute_result"
    }
   ],
   "source": [
    "result._result.candidates[0].content.parts[0].text"
   ]
  },
  {
   "cell_type": "code",
   "execution_count": 18,
   "metadata": {},
   "outputs": [],
   "source": [
    "class Recipes(RootModel[list[Recipe]]):\n",
    "    pass\n",
    "\n",
    "recipes = Recipes.model_validate_json(result._result.candidates[0].content.parts[0].text)"
   ]
  },
  {
   "cell_type": "code",
   "execution_count": 20,
   "metadata": {},
   "outputs": [
    {
     "data": {
      "text/plain": [
       "[{'recipe_name': 'Chocolate Chip Cookies',\n",
       "  'ingredients': ['1 cup (2 sticks) unsalted butter, softened',\n",
       "   '1 1/2 cups granulated sugar',\n",
       "   '1 cup packed brown sugar',\n",
       "   '2 teaspoons pure vanilla extract',\n",
       "   '2 large eggs',\n",
       "   '3 cups all-purpose flour',\n",
       "   '1 teaspoon baking soda',\n",
       "   '1 teaspoon salt',\n",
       "   '1 cup chocolate chips']},\n",
       " {'recipe_name': 'Chocolate Cookies',\n",
       "  'ingredients': ['1 cup (2 sticks) unsalted butter, softened',\n",
       "   '1 cup granulated sugar',\n",
       "   '1/2 cup packed brown sugar',\n",
       "   '2 large eggs',\n",
       "   '1 teaspoon vanilla extract',\n",
       "   '2 1/4 cups all-purpose flour',\n",
       "   '1 teaspoon baking soda',\n",
       "   '1/2 teaspoon salt',\n",
       "   '1/2 cup unsweetened cocoa powder']},\n",
       " {'recipe_name': 'Peanut Butter Cookies',\n",
       "  'ingredients': ['1/2 cup (1 stick) unsalted butter, softened',\n",
       "   '1/2 cup shortening',\n",
       "   '1 cup granulated sugar',\n",
       "   '1/2 cup packed brown sugar',\n",
       "   '1 teaspoon vanilla extract',\n",
       "   '1 large egg',\n",
       "   '2 1/4 cups all-purpose flour',\n",
       "   '1 teaspoon baking soda',\n",
       "   '1/2 teaspoon salt',\n",
       "   '1 cup peanut butter']}]"
      ]
     },
     "execution_count": 20,
     "metadata": {},
     "output_type": "execute_result"
    }
   ],
   "source": [
    "recipes.model_dump()"
   ]
  },
  {
   "cell_type": "code",
   "execution_count": null,
   "metadata": {},
   "outputs": [],
   "source": []
  }
 ],
 "metadata": {
  "kernelspec": {
   "display_name": "resume",
   "language": "python",
   "name": "python3"
  },
  "language_info": {
   "codemirror_mode": {
    "name": "ipython",
    "version": 3
   },
   "file_extension": ".py",
   "mimetype": "text/x-python",
   "name": "python",
   "nbconvert_exporter": "python",
   "pygments_lexer": "ipython3",
   "version": "3.12.8"
  }
 },
 "nbformat": 4,
 "nbformat_minor": 2
}
