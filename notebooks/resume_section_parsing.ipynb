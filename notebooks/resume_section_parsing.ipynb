{
 "cells": [
  {
   "cell_type": "markdown",
   "metadata": {
    "vscode": {
     "languageId": "plaintext"
    }
   },
   "source": [
    "# Fine-grained Parsing\n",
    "\n",
    "After initial parsing, let's parse out details from each resume section individually"
   ]
  },
  {
   "cell_type": "code",
   "execution_count": 26,
   "metadata": {},
   "outputs": [],
   "source": [
    "import sys\n",
    "import os\n",
    "import json\n",
    "from pprint import pprint\n",
    "from pydantic import BaseModel, RootModel, Field\n",
    "\n",
    "sys.path.append(os.path.abspath(os.path.join(os.getcwd(), \"..\")))\n",
    "\n",
    "from resume_scanner.utils.with_structured_output import with_structured_output\n",
    "from resume_scanner.parsing.initial_parsing import parse_resume_sections"
   ]
  },
  {
   "cell_type": "code",
   "execution_count": 55,
   "metadata": {},
   "outputs": [],
   "source": [
    "parsed_resume = parse_resume_sections(\"../data/input/resumes/Kevin_resume.pdf\")"
   ]
  },
  {
   "cell_type": "code",
   "execution_count": 56,
   "metadata": {},
   "outputs": [
    {
     "name": "stdout",
     "output_type": "stream",
     "text": [
      "{'Education': 'Texas A&M University May 2026\\n'\n",
      "              'BS in Computer Science, Minor in Statistics and Math College '\n",
      "              'Station, TX\\n'\n",
      "              'Cumulative GPA: 4.0/4.0\\n'\n",
      "              'Honors: Dean’s Honor Roll, Engineering Honors (EH), Dean’s '\n",
      "              'Excellence Award Semi-finalist\\n'\n",
      "              'Coursework: Data Structures & Algorithms, Software Engineering, '\n",
      "              'Computer Systems, Discrete Math, Linear Algebra',\n",
      " 'Experience': 'AI/ML Intern Aug 2024 – Dec 2024\\n'\n",
      "               '• Developed knowledge graph (KG) generation pipeline with '\n",
      "               'internal LLM microservices to allow multi-hop\\n'\n",
      "               'reasoning in 3-stage retrieval augmented generation (RAG) '\n",
      "               'pipeline\\n'\n",
      "               '• Extracted 30+ domain-specific seed topics from text corpus '\n",
      "               'with BERTopic for KG subgraph creation\\n'\n",
      "               '• Achieved100%schema-compliantLLMoutputsviaprompt engineering '\n",
      "               'andgrammar-contrained decoding\\n'\n",
      "               '• Packaged KG generation logic into reusable, object-oriented '\n",
      "               'Python modules used by 30 developers\\n'\n",
      "               'Software Engineering Intern May 2024 – Aug 2024\\n'\n",
      "               '• Redesigned 30 year old Java data analysis suite '\n",
      "               'architecture, cutting developer onboarding time by 3 weeks\\n'\n",
      "               '• Used MATLAB profiler to find bottleneck in data '\n",
      "               'preprocessing script, leading to 90% execution time reduction\\n'\n",
      "               '• Built Java class to interface with Javalin REST API, '\n",
      "               'enabling multithreaded network communication\\n'\n",
      "               '• Reduced logic errors by 50% via integration and regression '\n",
      "               'testing in Jenkins CI/CD pipeline\\n'\n",
      "               'Undergraduate Teaching Assistant Jan 2024 – Present\\n'\n",
      "               '• Leading data structures & algorithms recitations for 60 '\n",
      "               'students semiweekly\\n'\n",
      "               '• Mentoring 15+ students weekly in C++ assignments, leading to '\n",
      "               '80% reduction in assignment errors\\n'\n",
      "               '• Teaching students core CS concepts including vectors, trees, '\n",
      "               'graphs, sorting algorithms, and recursion\\n'\n",
      "               'Full Stack Developer Intern Jun 2022 – Aug 2022, May 2023 – '\n",
      "               'Aug 2023\\n'\n",
      "               '• Built CRM system with ASP.NET MVC serving 10 users, '\n",
      "               'improving employee efficiency by 50%\\n'\n",
      "               '• Optimized MySQL database performance by eliminating 1,000 '\n",
      "               'duplicate records, improving query speed by 10%\\n'\n",
      "               '• Designed scalable SQL database architecture to support '\n",
      "               'complex entity relationships\\n'\n",
      "               '• Created role-based authorization system with Entity '\n",
      "               'Framework to facilitate project management for managers',\n",
      " 'Leadership': '',\n",
      " 'Projects': 'Credit Card Recommender (Best Financial Hack) | Python, Jupyter, '\n",
      "             'Flask, React, LangChain Nov 2024\\n'\n",
      "             '• Developed LLM-based credit card recommendation system at '\n",
      "             '24-hour hackathon, competing against 14 teams\\n'\n",
      "             '• Devised chain-of-thought (CoT) recommendation prompt that '\n",
      "             'takes user spending habits into account\\n'\n",
      "             '• Augmented recommendations with self-curated JSON database '\n",
      "             'containing statistics on 50 popular credit cards\\n'\n",
      "             'Point of Sales System | React, TypeScript, Java, Spring Boot, '\n",
      "             'PostgreSQL, JDBC, Git Sep 2024 – Nov 2024\\n'\n",
      "             '• Designed modular React components and managed application '\n",
      "             'state with React hooks (useState, useContext)\\n'\n",
      "             '• Orchestrated integration of Google OAuth API to manage '\n",
      "             'authentication/authorization\\n'\n",
      "             '• Implemented JDBC backend to query PostgreSQL database and map '\n",
      "             'results to Java data transfer objects\\n'\n",
      "             '• Reviewed 60+ GitHub pull requests, leading to 80% reduction in '\n",
      "             'code smells',\n",
      " 'Research': '',\n",
      " 'Skills': 'Languages: Java, Python, C/C++, TypeScript/JavaScript, C#, SQL, '\n",
      "           'HTML/CSS, MATLAB, Bash\\n'\n",
      "           'Frameworks: React, Bootstrap, Flask, JUnit, ASP.NET, Entity '\n",
      "           'Framework, Spring Boot\\n'\n",
      "           'Libraries: Numpy, Pandas, Matplotlib, LangChain, OpenAI, Pydantic, '\n",
      "           'TensorFlow\\n'\n",
      "           'Developer Tools: Linux, Git (GitHub, Gerrit), Anaconda, Jupyter, '\n",
      "           'Azure DevOps, Jenkins, Vim, Docker\\n'\n",
      "           'Databases: PostgreSQL, MySQL, Neo4J'}\n"
     ]
    }
   ],
   "source": [
    "pprint(parsed_resume)"
   ]
  },
  {
   "cell_type": "markdown",
   "metadata": {},
   "source": [
    "## Parse Education"
   ]
  },
  {
   "cell_type": "code",
   "execution_count": 10,
   "metadata": {},
   "outputs": [],
   "source": [
    "class School(BaseModel):\n",
    "    name: str           = Field(..., alias=\"Name\")\n",
    "    majors: list[str]   = Field(..., alias=\"Majors\")\n",
    "    minors: list[str]   = Field(..., alias=\"Minors\")\n",
    "    gpa: float          = Field(None, alias=\"GPA\")\n",
    "    grad_year: int      = Field(..., alias=\"Graduation Year\")\n",
    "\n",
    "class Education(RootModel[list[School]]):\n",
    "    pass"
   ]
  },
  {
   "cell_type": "code",
   "execution_count": 11,
   "metadata": {},
   "outputs": [],
   "source": [
    "EDUCATION_EXTRACTION_PROMPT = \"\"\"\n",
    "You are an expert resume parser. Given some resume text, your job is to parse education information as a list of JSON objects representing each school attended. Follow this format for each school:\n",
    "    {{\n",
    "        \"Name\": \"<Name of School>\",\n",
    "        \"Majors\": [\"list\", \"of\", \"majors\"],\n",
    "        \"Minors\": [\"list\", \"of\", \"minors\"],\n",
    "        \"GPA\": <GPA>,\n",
    "        \"Graduation Year\": <Graduation Year>\n",
    "    }},\n",
    "\n",
    "Notes:\n",
    "1. If there are no minors, set \"Minors\" to an empty list.\n",
    "2. If there is no GPA listed, set \"GPA\" to None.\n",
    "3. If any school does not have a graduation year listed, omit the school from the output.\n",
    "4. Output the full name of all degrees, e.g., \"BS in Computer Science\", \"M.S. in Information Science\". Note that the resume may contain a double major. If so, output all degrees with their full names, making sure to incldue the type of degree for each major (\"BS,\" \"MS,\" etc.). Please note that some schools offer emphasis areas or modifiers to the major that are not themselves considered majors, e.g. \"Computer Science with statistics emphasis\" is equivalent to \"Computer Science.\"\n",
    "5. If the resume does not contain information for one of the sections, return an empty list for that section.\n",
    "\n",
    "Extracted information must be **explicitly contained in the resume.**\n",
    "\n",
    "Resume text:\n",
    "{resume_text}\n",
    "\n",
    "Output:\n",
    "\"\"\""
   ]
  },
  {
   "cell_type": "code",
   "execution_count": 12,
   "metadata": {},
   "outputs": [],
   "source": [
    "education_info = with_structured_output(\n",
    "    prompt=EDUCATION_EXTRACTION_PROMPT.format(resume_text=parsed_resume[\"Education\"]),\n",
    "    schema=Education)"
   ]
  },
  {
   "cell_type": "code",
   "execution_count": 13,
   "metadata": {},
   "outputs": [
    {
     "data": {
      "text/plain": [
       "[{'Name': 'Texas A&M University',\n",
       "  'Majors': ['BS in Computer Science'],\n",
       "  'Minors': ['Statistics', 'Math'],\n",
       "  'Graduation Year': 2026,\n",
       "  'GPA': 4.0}]"
      ]
     },
     "execution_count": 13,
     "metadata": {},
     "output_type": "execute_result"
    }
   ],
   "source": [
    "education_info"
   ]
  },
  {
   "cell_type": "markdown",
   "metadata": {},
   "source": [
    "## Parse Experience"
   ]
  },
  {
   "cell_type": "code",
   "execution_count": 4,
   "metadata": {},
   "outputs": [],
   "source": [
    "class Experience(BaseModel):\n",
    "    company: str = Field(..., alias=\"Company\")\n",
    "    role: str = Field(..., alias=\"Role\")\n",
    "    contributions: list[str] = Field(..., alias=\"Contributions\")\n",
    "    start_date: str = Field(..., alias=\"Start Date\")\n",
    "    end_date: str = Field(..., alias=\"End Date\")\n",
    "    skills: list[str] = Field(..., alias=\"Skills\")\n",
    "    \n",
    "class Experiences(BaseModel):\n",
    "    roles: list[Experience] = Field(..., alias=\"Roles\")\n",
    "    yoe: float = Field(..., alias=\"YOE\")"
   ]
  },
  {
   "cell_type": "code",
   "execution_count": 8,
   "metadata": {},
   "outputs": [],
   "source": [
    "EXPERIENCE_EXTRACTION_PROMPT = \"\"\"\n",
    "You are an expert at parsing resumes. Given some resume text, your job is to extract information about the candidate's work experience and format it as a list of JSON objects:\n",
    "    {{\n",
    "        \"Roles\": [\n",
    "            {{\n",
    "                \"Company\": \"<company>\",\n",
    "                \"Role\": \"<applicant's role at the company>\",\n",
    "                \"Contributions\": [\"list\", \"of\", \"contributions\", \"in\", \"the\", \"role\"],\n",
    "                \"Start Date\": \"<start date, formatted as MM-yyyy>\",\n",
    "                \"End Date\": \"<end date, formatted as MM-yyyy>\", \n",
    "                \"Skills\": [\"list\", \"of\", \"relevant\", \"skills\"]\n",
    "            }},\n",
    "            ...\n",
    "        ],\n",
    "        \"YOE\": <Total Years of Experience> \n",
    "    }}\n",
    "    \n",
    "The extracted information must be **explicitly contained in the resume.**\n",
    "\n",
    "Calculate \"YOE\" by summing up the duration of all experiences, rounded to the nearest quarter-year. **Note that overlapping timeframes should not double-counted.**\n",
    "\n",
    "When extracting \"Skills\" for each role, please extract specific technical terms AND niche, domain-specific skills.\n",
    "\n",
    "Resume text:\n",
    "{resume_text}\n",
    "\n",
    "Output:\n",
    "\"\"\""
   ]
  },
  {
   "cell_type": "code",
   "execution_count": 11,
   "metadata": {},
   "outputs": [],
   "source": [
    "experience_info = with_structured_output(\n",
    "    EXPERIENCE_EXTRACTION_PROMPT.format(resume_text=parsed_resume[\"Experience\"]),\n",
    "    Experiences)"
   ]
  },
  {
   "cell_type": "code",
   "execution_count": 12,
   "metadata": {},
   "outputs": [
    {
     "name": "stdout",
     "output_type": "stream",
     "text": [
      "{'Roles': [{'Company': 'Internship',\n",
      "            'Contributions': ['Developed knowledge graph (KG) generation '\n",
      "                              'pipeline with internal LLM microservices',\n",
      "                              'Extracted 30+ domain-specific seed topics from '\n",
      "                              'text corpus with BERTopic for KG subgraph '\n",
      "                              'creation',\n",
      "                              'Achieved100%schema-compliantLLMoutputsviaprompt '\n",
      "                              'engineering andgrammar-contrained decoding',\n",
      "                              'Packaged KG generation logic into reusable, '\n",
      "                              'object-oriented Python modules used by 30 '\n",
      "                              'developers'],\n",
      "            'End Date': '12-2024',\n",
      "            'Role': 'AI/ML Intern',\n",
      "            'Skills': ['Knowledge Graph Generation',\n",
      "                       'LLM Microservices',\n",
      "                       'BERTopic',\n",
      "                       'Prompt Engineering',\n",
      "                       'Grammar-Constrained Decoding',\n",
      "                       'Python'],\n",
      "            'Start Date': '08-2024'},\n",
      "           {'Company': 'Internship',\n",
      "            'Contributions': ['Redesigned 30 year old Java data analysis suite '\n",
      "                              'architecture, cutting developer onboarding time '\n",
      "                              'by 3 weeks',\n",
      "                              'Used MATLAB profiler to find bottleneck in data '\n",
      "                              'preprocessing script, leading to 90% execution '\n",
      "                              'time reduction',\n",
      "                              'Built Java class to interface with Javalin REST '\n",
      "                              'API, enabling multithreaded network '\n",
      "                              'communication',\n",
      "                              'Reduced logic errors by 50% via integration and '\n",
      "                              'regression testing in Jenkins CI/CD pipeline'],\n",
      "            'End Date': '08-2024',\n",
      "            'Role': 'Software Engineering Intern',\n",
      "            'Skills': ['Java',\n",
      "                       'MATLAB',\n",
      "                       'Javalin REST API',\n",
      "                       'Jenkins CI/CD Pipeline'],\n",
      "            'Start Date': '05-2024'},\n",
      "           {'Company': 'University',\n",
      "            'Contributions': ['Leading data structures & algorithms '\n",
      "                              'recitations for 60 students semiweekly',\n",
      "                              'Mentoring 15+ students weekly in C++ '\n",
      "                              'assignments, leading to 80% reduction in '\n",
      "                              'assignment errors',\n",
      "                              'Teaching students core CS concepts including '\n",
      "                              'vectors, trees, graphs, sorting algorithms, and '\n",
      "                              'recursion'],\n",
      "            'End Date': 'Present',\n",
      "            'Role': 'Undergraduate Teaching Assistant',\n",
      "            'Skills': ['Data Structures & Algorithms',\n",
      "                       'C++',\n",
      "                       'Recitation Leadership'],\n",
      "            'Start Date': '01-2024'},\n",
      "           {'Company': 'Internship',\n",
      "            'Contributions': ['Built CRM system with ASP.NET MVC serving 10 '\n",
      "                              'users, improving employee efficiency by 50%',\n",
      "                              'Optimized MySQL database performance by '\n",
      "                              'eliminating 1,000 duplicate records, improving '\n",
      "                              'query speed by 10%',\n",
      "                              'Designed scalable SQL database architecture to '\n",
      "                              'support complex entity relationships',\n",
      "                              'Created role-based authorization system with '\n",
      "                              'Entity Framework to facilitate project '\n",
      "                              'management for managers'],\n",
      "            'End Date': '08-2022',\n",
      "            'Role': 'Full Stack Developer Intern',\n",
      "            'Skills': ['ASP.NET MVC',\n",
      "                       'MySQL',\n",
      "                       'SQL Database Architecture',\n",
      "                       'Entity Framework'],\n",
      "            'Start Date': '06-2022'},\n",
      "           {'Company': 'Internship',\n",
      "            'Contributions': ['Built CRM system with ASP.NET MVC serving 10 '\n",
      "                              'users, improving employee efficiency by 50%',\n",
      "                              'Optimized MySQL database performance by '\n",
      "                              'eliminating 1,000 duplicate records, improving '\n",
      "                              'query speed by 10%',\n",
      "                              'Designed scalable SQL database architecture to '\n",
      "                              'support complex entity relationships',\n",
      "                              'Created role-based authorization system with '\n",
      "                              'Entity Framework to facilitate project '\n",
      "                              'management for managers'],\n",
      "            'End Date': '08-2023',\n",
      "            'Role': 'Full Stack Developer Intern',\n",
      "            'Skills': ['ASP.NET MVC',\n",
      "                       'MySQL',\n",
      "                       'SQL Database Architecture',\n",
      "                       'Entity Framework'],\n",
      "            'Start Date': '05-2023'}],\n",
      " 'YOE': 2.25}\n"
     ]
    }
   ],
   "source": [
    "pprint(experience_info)"
   ]
  },
  {
   "cell_type": "markdown",
   "metadata": {},
   "source": [
    "## Parse Projects"
   ]
  },
  {
   "cell_type": "code",
   "execution_count": 17,
   "metadata": {},
   "outputs": [],
   "source": [
    "class Project(BaseModel):\n",
    "    name: str = Field(..., alias=\"Name\")\n",
    "    contributions: list[str] = Field(..., alias=\"Contributions\")\n",
    "    skills: list[str] = Field(..., alias=\"Skills\")\n",
    "    \n",
    "class Projects(RootModel[list[Project]]):\n",
    "    pass"
   ]
  },
  {
   "cell_type": "code",
   "execution_count": 18,
   "metadata": {},
   "outputs": [],
   "source": [
    "PROJECTS_EXTRACTION_PROMPT = \"\"\"\n",
    "You are an expert at parsing resumes. Given some resume text, your job is to extract information about the candidate's project experience and format it as a list of JSON objects, where each object has the following format:\n",
    "    {{\n",
    "        \"Name\": \"<name of project>\",\n",
    "        \"Contributions\": [\"list\", \"of\", \"contributions\", \"in\", \"the\", \"project\"],\n",
    "        \"Skills\": [\"list\", \"of\", \"relevant\", \"skills\"]\n",
    "    }}\n",
    "    \n",
    "The extracted information must be **explicitly contained in the resume.**\n",
    "\n",
    "When extracting \"Skills\" for each project, please extract specific technical terms AND niche, domain-specific skills.\n",
    "\n",
    "Resume text:\n",
    "{resume_text}\n",
    "\n",
    "Output:\n",
    "\"\"\""
   ]
  },
  {
   "cell_type": "code",
   "execution_count": 33,
   "metadata": {},
   "outputs": [],
   "source": [
    "project_info = with_structured_output(\n",
    "    PROJECTS_EXTRACTION_PROMPT.format(resume_text=parsed_resume[\"Projects\"]),\n",
    "    Projects)"
   ]
  },
  {
   "cell_type": "code",
   "execution_count": 34,
   "metadata": {},
   "outputs": [
    {
     "name": "stdout",
     "output_type": "stream",
     "text": [
      "[{'Contributions': ['Built AI bots to compete in Pop Tac Toe',\n",
      "                    'Made bots using heuristics, minimax with alpha-beta '\n",
      "                    'pruning, and reinforcement learning',\n",
      "                    'Created a bot combining heuristics and minimax'],\n",
      "  'Name': 'Pop Tac Toe AI Bots',\n",
      "  'Skills': ['heuristics',\n",
      "             'minimax',\n",
      "             'alpha-beta pruning',\n",
      "             'reinforcement learning']},\n",
      " {'Contributions': ['Designed an algorithm using K-means clustering to analyze '\n",
      "                    'and cluster the embeddings of news articles',\n",
      "                    'Implemented the algorithm to find the most relevant topic '\n",
      "                    'label by comparing the cosine similarity of two articles',\n",
      "                    'Used the algorithm to predict 5 mystery articles topic '\n",
      "                    'labels and content'],\n",
      "  'Name': 'Embedding Crackers',\n",
      "  'Skills': ['K-means clustering', 'cosine similarity']},\n",
      " {'Contributions': ['Created an app to encourage safe driving practices using '\n",
      "                    'NodeJS',\n",
      "                    'Used computer vision to detect overspeeding, sudden '\n",
      "                    'braking, and following distance of a car using the phone '\n",
      "                    'camera',\n",
      "                    'The app provides a score based on your driving practices '\n",
      "                    'and motivates people to drive better'],\n",
      "  'Name': 'Not Another Driver',\n",
      "  'Skills': ['NodeJS', 'computer vision']}]\n"
     ]
    }
   ],
   "source": [
    "pprint(project_info)"
   ]
  },
  {
   "cell_type": "markdown",
   "metadata": {},
   "source": [
    "## Parse Leadership"
   ]
  },
  {
   "cell_type": "code",
   "execution_count": 22,
   "metadata": {},
   "outputs": [],
   "source": [
    "class Leadership(BaseModel):\n",
    "    org: str = Field(..., alias=\"Organization\")\n",
    "    role: str = Field(..., alias=\"Role\")\n",
    "    contributions: list[str] = Field(..., alias=\"Contributions\")"
   ]
  },
  {
   "cell_type": "code",
   "execution_count": 21,
   "metadata": {},
   "outputs": [],
   "source": [
    "LEADERSHIP_EXTRACTION_PROMPT = \"\"\"\n",
    "You are an expert at parsing resumes. Given some resume text, your job is to extract information about the candidate's leadership experience and format it as a list of JSON objects, where each object has the following format:\n",
    "    {{\n",
    "        \"Organization\": \"<name of organization>\",\n",
    "        \"Role\": \"<applicant's role at organization>\",\n",
    "        \"Contributions\": [\"list\", \"of\", \"contributions\", \"in\", \"the\", \"position\"]\n",
    "    }}\n",
    "    \n",
    "The extracted information must be **explicitly contained in the resume.**\n",
    "\n",
    "Resume text:\n",
    "{resume_text}\n",
    "\n",
    "Output:\n",
    "\"\"\""
   ]
  },
  {
   "cell_type": "code",
   "execution_count": 40,
   "metadata": {},
   "outputs": [],
   "source": [
    "leadership_info = with_structured_output(\n",
    "    LEADERSHIP_EXTRACTION_PROMPT.format(resume_text=parsed_resume[\"Leadership\"]),\n",
    "    Leadership)"
   ]
  },
  {
   "cell_type": "code",
   "execution_count": 41,
   "metadata": {},
   "outputs": [
    {
     "data": {
      "text/plain": [
       "{'Organization': 'Texas A&M AIAA CanSat Team',\n",
       " 'Role': 'Electrical Team Lead',\n",
       " 'Contributions': ['Designed electrical power and avionics subsystems of a 300 cubic inch satellite for AIAA’s annual CanSat design-build-launch competition with a team of two other students.',\n",
       "  'Created schedules for electrical system progress and assigned tasks to team members.',\n",
       "  'Utilized EasyEDA to create preliminary PCB design, fitting over 15 components into a 63 mm radius space.',\n",
       "  'Performed trade studies of air pressure sensors, pitot tubes, microcontrollers, GPS units, XBee radios, gyroscopes, and cameras with a $1000 budget and 700g mass budget.',\n",
       "  'Presented 10 slides covering the electrical power subsystem, microcontroller, and inertial measurement unit to competition judges as part of the Preliminary Design Review and Cumulative Design Review.',\n",
       "  'Soldered over 20 electrical components and 2 independent electrical systems on satellite, including avionics and power for each system.']}"
      ]
     },
     "execution_count": 41,
     "metadata": {},
     "output_type": "execute_result"
    }
   ],
   "source": [
    "leadership_info"
   ]
  },
  {
   "cell_type": "markdown",
   "metadata": {},
   "source": [
    "## Parse Research"
   ]
  },
  {
   "cell_type": "code",
   "execution_count": 44,
   "metadata": {},
   "outputs": [],
   "source": [
    "class ResearchRole(BaseModel):\n",
    "    institution: str = Field(..., alias=\"Institution\")\n",
    "    role: str = Field(..., alias=\"Role\")\n",
    "    contributions: list[str] = Field(..., alias=\"Contributions\")\n",
    "    start_date: str = Field(..., alias=\"Start Date\")\n",
    "    end_date: str = Field(..., alias=\"End Date\")\n",
    "    skills: list[str] = Field(..., alias=\"Skills\")\n",
    "    \n",
    "class Research(BaseModel):\n",
    "    roles: list[ResearchRole] = Field(..., alias=\"Roles\")\n",
    "    publications: list[str] = Field(..., alias=\"Publications\")"
   ]
  },
  {
   "cell_type": "code",
   "execution_count": 45,
   "metadata": {},
   "outputs": [],
   "source": [
    "RESEARCH_EXTRACTION_PROMPT = \"\"\"\n",
    "You are an expert at parsing resumes. Given some resume text, your job is to extract information about the candidate's project experience and format it as a JSON object with the following fields:\n",
    "    {{\n",
    "        \"Roles\": [\n",
    "            {{\n",
    "                \"Institution\": \"<name of research institution>\",\n",
    "                \"Role\": \"<applicant's research role>\",\n",
    "                \"Contributions\": [\"list\", \"of\", \"contributions\", \"in\", \"the\", \"role\"],\n",
    "                \"Start Date\": \"<start date, formatted as MM-yyyy>\",\n",
    "                \"End Date\": \"<end date, formatted as MM-yyyy>\", \n",
    "                \"Skills\": [\"list\", \"of\", \"relevant\", \"skills\"]\n",
    "            }},\n",
    "            ...\n",
    "        ],\n",
    "        \"Publications\": [\"list\", \"of\", \"publications\"]\n",
    "    }}\n",
    "    \n",
    "The extracted information must be **explicitly contained in the resume.**\n",
    "\n",
    "When extracting \"Skills\" for each research role, please extract specific technical terms AND niche, domain-specific skills.\n",
    "\n",
    "Resume text:\n",
    "{resume_text}\n",
    "\n",
    "Output:\n",
    "\"\"\""
   ]
  },
  {
   "cell_type": "code",
   "execution_count": 48,
   "metadata": {},
   "outputs": [],
   "source": [
    "research_info = with_structured_output(\n",
    "    LEADERSHIP_EXTRACTION_PROMPT.format(resume_text=parsed_resume[\"Projects\"]),\n",
    "    Research)"
   ]
  },
  {
   "cell_type": "code",
   "execution_count": 49,
   "metadata": {},
   "outputs": [
    {
     "name": "stdout",
     "output_type": "stream",
     "text": [
      "{'Publications': [],\n",
      " 'Roles': [{'Contributions': ['Designed electrical power and avionics '\n",
      "                              'subsystems of a 300 cubic inch satellite for '\n",
      "                              'AIAA’s annual CanSat design-build-launch '\n",
      "                              'competition with a team of two other students.',\n",
      "                              'Created schedules for electrical system '\n",
      "                              'progress and assigned tasks to team members.',\n",
      "                              'Utilized EasyEDA to create preliminary PCB '\n",
      "                              'design, fitting over 15 components into a 63 mm '\n",
      "                              'radius space.',\n",
      "                              'Performed trade studies of air pressure '\n",
      "                              'sensors, pitot tubes, microcontrollers, GPS '\n",
      "                              'units, XBee radios, gyroscopes, and cameras '\n",
      "                              'with a $1000 budget and 700g mass budget.',\n",
      "                              'Presented 10 slides covering the electrical '\n",
      "                              'power subsystem, microcontroller, and inertial '\n",
      "                              'measurement unit to competition judges as part '\n",
      "                              'of the Preliminary Design Review and Cumulative '\n",
      "                              'Design Review.',\n",
      "                              'Soldered over 20 electrical components and 2 '\n",
      "                              'independent electrical systems on satellite, '\n",
      "                              'including avionics and power for each system.'],\n",
      "            'End Date': 'May 2024',\n",
      "            'Institution': 'Texas A&M AIAA CanSat Team',\n",
      "            'Role': 'Electrical Team Lead',\n",
      "            'Skills': ['Leadership',\n",
      "                       'Project Management',\n",
      "                       'Design',\n",
      "                       'Soldering',\n",
      "                       'Communication'],\n",
      "            'Start Date': 'Oct 2022'},\n",
      "           {'Contributions': ['Conducted research aiming to predict hazards '\n",
      "                              'associated with Li-Ion battery combustion, '\n",
      "                              'including amount of energy released, final '\n",
      "                              'temperature, and chemical composition of '\n",
      "                              'reaction products.',\n",
      "                              'Reviewed scientific literature to determine '\n",
      "                              'thermal decomposition properties of various '\n",
      "                              'battery cathodes.'],\n",
      "            'End Date': 'Dec 2023',\n",
      "            'Institution': 'Texas A&M Turbomachinery Lab',\n",
      "            'Role': 'Undergraduate Researcher',\n",
      "            'Skills': ['Research', 'Literature Review', 'Data Analysis'],\n",
      "            'Start Date': 'Feb 2023'}]}\n"
     ]
    }
   ],
   "source": [
    "pprint(research_info)"
   ]
  },
  {
   "cell_type": "markdown",
   "metadata": {},
   "source": [
    "## Skill Parsing "
   ]
  },
  {
   "cell_type": "code",
   "execution_count": 57,
   "metadata": {},
   "outputs": [],
   "source": [
    "class Skills(RootModel[list[str]]):\n",
    "    pass"
   ]
  },
  {
   "cell_type": "code",
   "execution_count": 58,
   "metadata": {},
   "outputs": [
    {
     "data": {
      "text/plain": [
       "'Languages: Java, Python, C/C++, TypeScript/JavaScript, C#, SQL, HTML/CSS, MATLAB, Bash\\nFrameworks: React, Bootstrap, Flask, JUnit, ASP.NET, Entity Framework, Spring Boot\\nLibraries: Numpy, Pandas, Matplotlib, LangChain, OpenAI, Pydantic, TensorFlow\\nDeveloper Tools: Linux, Git (GitHub, Gerrit), Anaconda, Jupyter, Azure DevOps, Jenkins, Vim, Docker\\nDatabases: PostgreSQL, MySQL, Neo4J'"
      ]
     },
     "execution_count": 58,
     "metadata": {},
     "output_type": "execute_result"
    }
   ],
   "source": [
    "parsed_resume[\"Skills\"]"
   ]
  },
  {
   "cell_type": "code",
   "execution_count": 51,
   "metadata": {},
   "outputs": [],
   "source": [
    "SKILL_EXTRACTION_TEMPLATE = \"\"\"\n",
    "You are an expert are parsing resumes. Given a resume, your job is to parse the specific technical skills.\n",
    "\n",
    "Format your output as a JSON list of strings.\n",
    "\n",
    "Resume text:\n",
    "{resume_text}\n",
    "\n",
    "Output:\n",
    "\"\"\""
   ]
  },
  {
   "cell_type": "code",
   "execution_count": 59,
   "metadata": {},
   "outputs": [],
   "source": [
    "skills_info = with_structured_output(\n",
    "    prompt=SKILL_EXTRACTION_TEMPLATE.format(resume_text=parsed_resume[\"Skills\"]),\n",
    "    schema=Skills)"
   ]
  },
  {
   "cell_type": "code",
   "execution_count": 60,
   "metadata": {},
   "outputs": [
    {
     "data": {
      "text/plain": [
       "['Java',\n",
       " 'Python',\n",
       " 'C/C++',\n",
       " 'TypeScript/JavaScript',\n",
       " 'C#',\n",
       " 'SQL',\n",
       " 'HTML/CSS',\n",
       " 'MATLAB',\n",
       " 'Bash',\n",
       " 'React',\n",
       " 'Bootstrap',\n",
       " 'Flask',\n",
       " 'JUnit',\n",
       " 'ASP.NET',\n",
       " 'Entity Framework',\n",
       " 'Spring Boot',\n",
       " 'Numpy',\n",
       " 'Pandas',\n",
       " 'Matplotlib',\n",
       " 'LangChain',\n",
       " 'OpenAI',\n",
       " 'Pydantic',\n",
       " 'TensorFlow',\n",
       " 'Linux',\n",
       " 'Git',\n",
       " 'Anaconda',\n",
       " 'Jupyter',\n",
       " 'Azure DevOps',\n",
       " 'Jenkins',\n",
       " 'Vim',\n",
       " 'Docker',\n",
       " 'PostgreSQL',\n",
       " 'MySQL',\n",
       " 'Neo4J']"
      ]
     },
     "execution_count": 60,
     "metadata": {},
     "output_type": "execute_result"
    }
   ],
   "source": [
    "skills_info"
   ]
  },
  {
   "cell_type": "markdown",
   "metadata": {},
   "source": [
    "### Putting it all together"
   ]
  },
  {
   "cell_type": "code",
   "execution_count": 22,
   "metadata": {},
   "outputs": [
    {
     "name": "stdout",
     "output_type": "stream",
     "text": [
      "{'Education': [{'GPA': 4.0,\n",
      "                'Graduation Year': 2026,\n",
      "                'Majors': ['BS in Computer Science'],\n",
      "                'Minors': ['Statistics', 'Math'],\n",
      "                'Name': 'Texas A&M University'}],\n",
      " 'Skills': {'Domain-Specific Skills': ['Knowledge Graph (KG) generation '\n",
      "                                       'pipeline',\n",
      "                                       'LLM microservices',\n",
      "                                       'Multi-hop reasoning in RAG pipeline',\n",
      "                                       'BERTopic for KG subgraph creation',\n",
      "                                       'Prompt engineering and '\n",
      "                                       'grammar-constrained decoding',\n",
      "                                       'Object-oriented Python modules',\n",
      "                                       'Java data analysis suite architecture '\n",
      "                                       'redesign',\n",
      "                                       'MATLAB profiler for bottleneck '\n",
      "                                       'identification',\n",
      "                                       'Data preprocessing script optimization',\n",
      "                                       'Javalin REST API interface with Java '\n",
      "                                       'class',\n",
      "                                       'Multithreaded network communication',\n",
      "                                       'Integration and regression testing in '\n",
      "                                       'Jenkins CI/CD pipeline',\n",
      "                                       'Data structures & algorithms '\n",
      "                                       'recitations',\n",
      "                                       'Mentoring students in C++ assignments',\n",
      "                                       'Core CS concepts including vectors, '\n",
      "                                       'trees, graphs, sorting algorithms, and '\n",
      "                                       'recursion',\n",
      "                                       'CRM system with ASP.NET MVC',\n",
      "                                       'Scalable SQL database architecture '\n",
      "                                       'design',\n",
      "                                       'Role-based authorization system with '\n",
      "                                       'Entity Framework',\n",
      "                                       'Chain-of-thought (CoT) recommendation '\n",
      "                                       'prompt',\n",
      "                                       'LLM-based credit card recommendation '\n",
      "                                       'system',\n",
      "                                       'Self-curated JSON database for '\n",
      "                                       'recommendations',\n",
      "                                       'Modular React components and '\n",
      "                                       'application state management',\n",
      "                                       'Google OAuth API integration',\n",
      "                                       'JDBC backend for PostgreSQL database '\n",
      "                                       'query',\n",
      "                                       'Code review and reduction of code '\n",
      "                                       'smells'],\n",
      "            'Technical Skills': ['Python',\n",
      "                                 'Java',\n",
      "                                 'C/C++',\n",
      "                                 'TypeScript/JavaScript',\n",
      "                                 'C#',\n",
      "                                 'SQL',\n",
      "                                 'HTML/CSS',\n",
      "                                 'MATLAB',\n",
      "                                 'Bash',\n",
      "                                 'React',\n",
      "                                 'Bootstrap',\n",
      "                                 'Flask',\n",
      "                                 'JUnit',\n",
      "                                 'ASP.NET',\n",
      "                                 'Entity Framework',\n",
      "                                 'Spring Boot',\n",
      "                                 'Numpy',\n",
      "                                 'Pandas',\n",
      "                                 'Matplotlib',\n",
      "                                 'LangChain',\n",
      "                                 'OpenAI',\n",
      "                                 'Pydantic',\n",
      "                                 'TensorFlow',\n",
      "                                 'Linux',\n",
      "                                 'Git (GitHub, Gerrit)',\n",
      "                                 'Anaconda',\n",
      "                                 'Jupyter',\n",
      "                                 'Azure DevOps',\n",
      "                                 'Jenkins',\n",
      "                                 'Vim',\n",
      "                                 'Docker',\n",
      "                                 'PostgreSQL',\n",
      "                                 'MySQL',\n",
      "                                 'Neo4J']},\n",
      " 'Work Experience': {'Experiences': [{'Company': 'Full Stack Developer Intern',\n",
      "                                      'Contributions': ['Built CRM system with '\n",
      "                                                        'ASP.NET MVC serving '\n",
      "                                                        '10 users, improving '\n",
      "                                                        'employee efficiency '\n",
      "                                                        'by 50%',\n",
      "                                                        'Optimized MySQL '\n",
      "                                                        'database performance '\n",
      "                                                        'by eliminating 1,000 '\n",
      "                                                        'duplicate records, '\n",
      "                                                        'improving query speed '\n",
      "                                                        'by 10%',\n",
      "                                                        'Designed scalable SQL '\n",
      "                                                        'database architecture '\n",
      "                                                        'to support complex '\n",
      "                                                        'entity relationships',\n",
      "                                                        'Created role-based '\n",
      "                                                        'authorization system '\n",
      "                                                        'with Entity Framework '\n",
      "                                                        'to facilitate project '\n",
      "                                                        'management for '\n",
      "                                                        'managers'],\n",
      "                                      'Role': 'Full Stack Developer Intern'},\n",
      "                                     {'Company': 'Software Engineering Intern',\n",
      "                                      'Contributions': ['Redesigned 30 year '\n",
      "                                                        'old Java data '\n",
      "                                                        'analysis suite '\n",
      "                                                        'architecture, cutting '\n",
      "                                                        'developer onboarding '\n",
      "                                                        'time by 3 weeks',\n",
      "                                                        'Used MATLAB profiler '\n",
      "                                                        'to find bottleneck in '\n",
      "                                                        'data preprocessing '\n",
      "                                                        'script, leading to '\n",
      "                                                        '90% execution time '\n",
      "                                                        'reduction',\n",
      "                                                        'Built Java class to '\n",
      "                                                        'interface with '\n",
      "                                                        'Javalin REST API, '\n",
      "                                                        'enabling '\n",
      "                                                        'multithreaded network '\n",
      "                                                        'communication',\n",
      "                                                        'Reduced logic errors '\n",
      "                                                        'by 50% via '\n",
      "                                                        'integration and '\n",
      "                                                        'regression testing in '\n",
      "                                                        'Jenkins CI/CD '\n",
      "                                                        'pipeline'],\n",
      "                                      'Role': 'Software Engineering Intern'},\n",
      "                                     {'Company': 'AI/ML Intern',\n",
      "                                      'Contributions': ['Developed knowledge '\n",
      "                                                        'graph (KG) generation '\n",
      "                                                        'pipeline with '\n",
      "                                                        'internal LLM '\n",
      "                                                        'microservices to '\n",
      "                                                        'allow multi-hop '\n",
      "                                                        'reasoning in 3-stage '\n",
      "                                                        'retrieval augmented '\n",
      "                                                        'generation (RAG) '\n",
      "                                                        'pipeline',\n",
      "                                                        'Extracted 30+ '\n",
      "                                                        'domain-specific seed '\n",
      "                                                        'topics from text '\n",
      "                                                        'corpus with BERTopic '\n",
      "                                                        'for KG subgraph '\n",
      "                                                        'creation',\n",
      "                                                        'Achieved100%schema-compliantLLMoutputsviaprompt '\n",
      "                                                        'engineering '\n",
      "                                                        'andgrammar-contrained '\n",
      "                                                        'decoding',\n",
      "                                                        'Packaged KG '\n",
      "                                                        'generation logic into '\n",
      "                                                        'reusable, '\n",
      "                                                        'object-oriented '\n",
      "                                                        'Python modules used '\n",
      "                                                        'by 30 developers'],\n",
      "                                      'Role': 'AI/ML Intern'},\n",
      "                                     {'Company': 'Undergraduate Teaching '\n",
      "                                                 'Assistant',\n",
      "                                      'Contributions': ['Leading data '\n",
      "                                                        'structures & '\n",
      "                                                        'algorithms '\n",
      "                                                        'recitations for 60 '\n",
      "                                                        'students semiweekly',\n",
      "                                                        'Mentoring 15+ '\n",
      "                                                        'students weekly in '\n",
      "                                                        'C++ assignments, '\n",
      "                                                        'leading to 80% '\n",
      "                                                        'reduction in '\n",
      "                                                        'assignment errors',\n",
      "                                                        'Teaching students '\n",
      "                                                        'core CS concepts '\n",
      "                                                        'including vectors, '\n",
      "                                                        'trees, graphs, '\n",
      "                                                        'sorting algorithms, '\n",
      "                                                        'and recursion'],\n",
      "                                      'Role': 'Undergraduate Teaching '\n",
      "                                              'Assistant'}],\n",
      "                     'Total Years of Experience': 2.25}}\n"
     ]
    }
   ],
   "source": [
    "parsed_info = {\n",
    "    \"Education\": education_info,\n",
    "    \"Work Experience\": experience_info,\n",
    "    \"Skills\": skills_info\n",
    "}\n",
    "pprint(parsed_info)"
   ]
  },
  {
   "cell_type": "code",
   "execution_count": 23,
   "metadata": {},
   "outputs": [],
   "source": [
    "with open(\"../output/parsed_resume_info.json\", \"w\") as file:\n",
    "    json.dump(parsed_info, file, indent=4)"
   ]
  },
  {
   "cell_type": "code",
   "execution_count": null,
   "metadata": {},
   "outputs": [],
   "source": []
  }
 ],
 "metadata": {
  "kernelspec": {
   "display_name": "resume",
   "language": "python",
   "name": "python3"
  },
  "language_info": {
   "codemirror_mode": {
    "name": "ipython",
    "version": 3
   },
   "file_extension": ".py",
   "mimetype": "text/x-python",
   "name": "python",
   "nbconvert_exporter": "python",
   "pygments_lexer": "ipython3",
   "version": "3.12.8"
  }
 },
 "nbformat": 4,
 "nbformat_minor": 2
}
