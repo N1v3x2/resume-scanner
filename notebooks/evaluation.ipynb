{
 "cells": [
  {
   "cell_type": "code",
   "execution_count": 36,
   "metadata": {},
   "outputs": [],
   "source": [
    "import sys\n",
    "import os\n",
    "from pprint import pprint\n",
    "\n",
    "sys.path.append(os.path.abspath(os.path.join(os.getcwd(), \"..\")))\n",
    "\n",
    "from resume_scanner.parsing.parsing import parse_resume\n",
    "from resume_scanner.scoring.scoring import score_resume"
   ]
  },
  {
   "cell_type": "code",
   "execution_count": 37,
   "metadata": {},
   "outputs": [],
   "source": [
    "parsed_resume = parse_resume(\"../data/input/resumes/Kareem_resume.pdf\")"
   ]
  },
  {
   "cell_type": "code",
   "execution_count": 38,
   "metadata": {},
   "outputs": [],
   "source": [
    "with open(\"../data/input/jobs/c1_swe.txt\", \"r\") as file:\n",
    "    job_desc = file.read()"
   ]
  },
  {
   "cell_type": "code",
   "execution_count": 39,
   "metadata": {},
   "outputs": [],
   "source": [
    "scored_resume = score_resume(parsed_resume, job_desc)"
   ]
  },
  {
   "cell_type": "code",
   "execution_count": 40,
   "metadata": {},
   "outputs": [
    {
     "name": "stdout",
     "output_type": "stream",
     "text": [
      "{'final_score': 0.76,\n",
      " 'resume_eval': {'education': {'alignment': 5,\n",
      "                               'comment': 'The candidate is pursuing a '\n",
      "                                          'Bachelor of Science in Computer '\n",
      "                                          'Science with a strong GPA and '\n",
      "                                          'relevant coursework, meeting the '\n",
      "                                          'educational requirements for the '\n",
      "                                          'internship.'},\n",
      "                 'experience': {'comment': 'The candidate has relevant '\n",
      "                                           'experience in machine learning and '\n",
      "                                           'software development, which aligns '\n",
      "                                           \"well with the internship's focus \"\n",
      "                                           'on technology and programming. The '\n",
      "                                           'contributions demonstrate '\n",
      "                                           'substantial work on real-world '\n",
      "                                           'projects, particularly in AI and '\n",
      "                                           'web development, which are '\n",
      "                                           'valuable for the role.',\n",
      "                                'depth': 4,\n",
      "                                'impact': 4,\n",
      "                                'relevance': 4},\n",
      "                 'leadership': {'comment': 'The leadership role as Head '\n",
      "                                           'Developer demonstrates some level '\n",
      "                                           'of responsibility and initiative, '\n",
      "                                           'but lacks specific measurable '\n",
      "                                           'outcomes or achievements that '\n",
      "                                           'would enhance its impact.',\n",
      "                                'depth': 3,\n",
      "                                'impact': 3,\n",
      "                                'relevance': 3},\n",
      "                 'overall_comment': \"The candidate's resume presents a strong \"\n",
      "                                    'alignment with the internship '\n",
      "                                    'requirements, particularly in experience '\n",
      "                                    'and education. The projects and skills '\n",
      "                                    'are relevant and demonstrate a solid '\n",
      "                                    'foundation in software engineering. '\n",
      "                                    'However, the leadership section could be '\n",
      "                                    'strengthened with more specific '\n",
      "                                    'achievements, and the absence of research '\n",
      "                                    'experience is noted. Overall, this '\n",
      "                                    'candidate is a strong contender for the '\n",
      "                                    'internship.',\n",
      "                 'projects': {'comment': 'The projects showcase practical '\n",
      "                                         'application of skills in web '\n",
      "                                         'development and accessibility, which '\n",
      "                                         \"are relevant to the internship's \"\n",
      "                                         'focus on software engineering and '\n",
      "                                         'customer-facing applications. The '\n",
      "                                         'use of modern frameworks like React '\n",
      "                                         'and Django is a plus.',\n",
      "                              'depth': 4,\n",
      "                              'impact': 4,\n",
      "                              'relevance': 4},\n",
      "                 'research': {'comment': 'No research experience is provided, '\n",
      "                                         'which is not a requirement for the '\n",
      "                                         'internship but could have added '\n",
      "                                         'value.',\n",
      "                              'depth': 0,\n",
      "                              'impact': 0,\n",
      "                              'relevance': 0},\n",
      "                 'skills': {'alignment': 4,\n",
      "                            'comment': 'The candidate possesses a strong set '\n",
      "                                       'of programming skills, including '\n",
      "                                       'Python, Java, and web development '\n",
      "                                       'technologies, which align well with '\n",
      "                                       \"the internship's requirements. \"\n",
      "                                       'However, there are some preferred '\n",
      "                                       'languages and technologies mentioned '\n",
      "                                       'in the job description that are not '\n",
      "                                       'listed.'}},\n",
      " 'resume_weights': {'education': 0.25,\n",
      "                    'experience': 0.2,\n",
      "                    'leadership': 0.05,\n",
      "                    'projects': 0.2,\n",
      "                    'reasoning': 'Given that this is an internship position, '\n",
      "                                 'the emphasis should be on education and '\n",
      "                                 'skills, as candidates are likely to have '\n",
      "                                 'limited professional experience. Education '\n",
      "                                 'is crucial since candidates must be pursuing '\n",
      "                                 \"a Bachelor's degree or higher, and skills \"\n",
      "                                 'are essential for the technical nature of '\n",
      "                                 'the role. Experience is still important but '\n",
      "                                 'will be weighted less than in a full-time '\n",
      "                                 'position. Projects are also significant for '\n",
      "                                 'interns, as they can demonstrate practical '\n",
      "                                 'application of skills, but they should not '\n",
      "                                 'outweigh experience or skills. Leadership '\n",
      "                                 'and research are less relevant for this '\n",
      "                                 'internship role, so they will receive '\n",
      "                                 'minimal weight.',\n",
      "                    'research': 0.0,\n",
      "                    'skills': 0.3,\n",
      "                    'validation': 'Education: 0.25 + Experience: 0.20 + '\n",
      "                                  'Projects: 0.20 + Leadership: 0.05 + '\n",
      "                                  'Research: 0.00 + Skills: 0.30 = 1.00'}}\n"
     ]
    }
   ],
   "source": [
    "pprint(scored_resume.model_dump())"
   ]
  },
  {
   "cell_type": "code",
   "execution_count": null,
   "metadata": {},
   "outputs": [],
   "source": []
  }
 ],
 "metadata": {
  "kernelspec": {
   "display_name": "resume",
   "language": "python",
   "name": "python3"
  },
  "language_info": {
   "codemirror_mode": {
    "name": "ipython",
    "version": 3
   },
   "file_extension": ".py",
   "mimetype": "text/x-python",
   "name": "python",
   "nbconvert_exporter": "python",
   "pygments_lexer": "ipython3",
   "version": "3.12.8"
  }
 },
 "nbformat": 4,
 "nbformat_minor": 2
}
