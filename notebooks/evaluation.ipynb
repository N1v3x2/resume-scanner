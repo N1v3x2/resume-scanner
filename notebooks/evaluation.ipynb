{
 "cells": [
  {
   "cell_type": "markdown",
   "metadata": {},
   "source": [
    "# Evaluation\n",
    "\n",
    "Let's compare my workflow to a baseline of feeding the entire job description + entire resume (without parsing) to an LLM and asking it to predict a score"
   ]
  },
  {
   "cell_type": "code",
   "execution_count": 1,
   "metadata": {},
   "outputs": [],
   "source": [
    "import json\n",
    "import sys\n",
    "import os\n",
    "from pprint import pprint\n",
    "from pydantic import BaseModel, RootModel, Field\n",
    "from concurrent.futures import ThreadPoolExecutor, as_completed\n",
    "from tqdm import tqdm\n",
    "\n",
    "sys.path.append(os.path.abspath(os.path.join(os.getcwd(), \"..\")))\n",
    "\n",
    "from resume_scanner.utils.decode import decode_with_ollama, decode_with_openai\n",
    "from resume_scanner.parsing.parsing import parse_resume\n",
    "from resume_scanner.scoring.scoring import score_resume"
   ]
  },
  {
   "cell_type": "code",
   "execution_count": 2,
   "metadata": {},
   "outputs": [],
   "source": [
    "parsed_resume = parse_resume(\"../data/input/resumes/Kareem_resume.pdf\")"
   ]
  },
  {
   "cell_type": "code",
   "execution_count": 3,
   "metadata": {},
   "outputs": [
    {
     "name": "stdout",
     "output_type": "stream",
     "text": [
      "ResumeInfo(education=Education(root=[School(name='Texas A&M University', majors=['Bachelor of Science in Computer Science'], minors=[], gpa=None, grad_year=2026, honors=['Engineering Academic Excellence Award', \"Jeffrey John Becker '82 Scholarship\"], coursework=['Software Engineering', 'Data Structures & Algorithms', 'Computer Systems', 'Computer Architecture', 'Discrete Math', 'Linear Algebra', 'Calculus III'])]), experience=Experiences(roles=[Experience(company='Qatar Computing Research Institute', role='Artificial Intelligence Intern', contributions=['Optimized machine learning models (Inception v3, EfficientNet, ResNet) on a dataset of 60,000+ images for DNA Enhancer Sequence Prediction, achieving 98.8% testing accuracy on unseen data.', 'Conducted extensive experiments comparing the accuracy of different models and tuning various hyperparameters to enhance overall model performance.', 'Applied advanced image processing techniques (movement probability matrix, wave transforms) to enhance model generalizability while maintaining high performance.'], start_date='05-2024', end_date='07-2024', skills=['machine learning', 'image processing', 'hyperparameter tuning']), Experience(company='Qatar Computing Research Institute', role='Arabic Language Technologies Intern', contributions=['Trained and tested 10+ Machine Learning models on a 30,000+ Arabic news articles to evaluate the factual accuracy of user claims.', 'Utilized the company’s web API for lemmatization and spell checking during data preprocessing.', 'Developed an application using React and Flask, providing an intuitive user interface for users to interact with the machine learning models.'], start_date='05-2023', end_date='07-2023', skills=['machine learning', 'natural language processing', 'web development']), Experience(company='Department of Engineering', role='Python Course Peer Teacher', contributions=['Assisted the professor in teaching 100+ students Python through small group sessions, explaining key concepts in the context of lab assignments.', 'Led office hours, assisting multiple students in debugging their code simultaneously, and enhancing their problem-solving skills in Python'], start_date='08-2023', end_date='12-2023', skills=['python teaching', 'peer mentoring'])], yoe=1.25), projects=Projects(root=[Project(name='Pandas POS System', contributions=['Developing a POS system for Pandas that is compliant with WCAG 2.1 accessibility standards using React for the frontend and Django for the backend, connected to AWS.', 'Implementing the Agile development methodology, focusing on usability testing and accessibility, while creating a multi-user application with interfaces for managers, cashiers, and customers via a self-service kiosk.', 'Integrating third-party APIs, including Google OAuth2 for authentication, Google Translate for translation, and a weather service to enhance the user experience.'], skills=['React', 'Django', 'AWS', 'Agile development methodology', 'WCAG 2.1 accessibility standards']), Project(name='Students For Refugees Website', contributions=['Developed and maintained the StudentsForRefugees.org website using React JS and Tailwind CSS, serving as a central hub for information, events, and updates for the organization’s 10+ branches.', 'Integrated a backend in Go, making API calls to Google Drive and Google Calendar, as well as integrating Stripe for donations, successfully raising over $1000.'], skills=['React JS', 'Tailwind CSS', 'Go', 'Google Drive', 'Google Calendar', 'Stripe'])]), leadership=Leadership(org='Students For Refugees', role='Head Developer', contributions=['Manage the Google Nonprofit Workspace, overseeing user account creation, drive management, and overall administration of Google Workspace services, including access control, data storage policies, and app integration.', 'Organized and supervised 10+ multi-branch events in the Houston metropolitan area, including food drives, health fairs, and mental health awareness campaigns for refugees.']), research=None, skills=Skills(root=['Python', 'Java', 'JavaScript', 'C++', 'Go', 'SQL', 'R', 'HTML', 'CSS', 'React', 'Node.js', 'Express.js', 'Django', 'Flask', 'Selenium', 'JavaFX', 'PyTorch', 'Tailwind CSS', 'Agile', 'Waterfall', 'Git', 'AWS', 'Linux', 'PostgreSQL', 'VS Code', 'PyCharm', 'IntelliJ', 'Oracle VM VirtualBox']))\n"
     ]
    }
   ],
   "source": [
    "pprint(parsed_resume)"
   ]
  },
  {
   "cell_type": "code",
   "execution_count": 4,
   "metadata": {},
   "outputs": [],
   "source": [
    "with open(\"../data/input/jobs/spacex_hardware.txt\", \"r\") as file:\n",
    "    job_desc = file.read()"
   ]
  },
  {
   "cell_type": "code",
   "execution_count": 5,
   "metadata": {},
   "outputs": [],
   "source": [
    "FINAL_SCORING_TEMPLATE = \"\"\"\n",
    "### Instruction\n",
    "\n",
    "You are an expert at evaluating resumes for a job opening. Your goal is to score each resume based on its alignment with the provided job description. Use the scoring criteria below to evaluate each section and calculate an overall score. Provide concise, explainable feedback for each score. \n",
    "\n",
    "NOTE: since you are an automated system for screening candidates, you must be brutally honest and cold. If a resume does not closely match a niche skillset required by a job, you MUST score the resume lower.\n",
    "\n",
    "For example, if a job is looking for hardware experience and a resume only has software experience, the experience section should score at most a 2.\n",
    "\n",
    "#### Scoring Criteria\n",
    "\n",
    "For each section, score based on the following criteria:\n",
    "1. **Relevance (0-5)**: How well does the content align with the job description?\n",
    "2. **Depth (0-5)**: How substantial and well-developed is the content?\n",
    "3. **Impact (0-5)**: Does the content demonstrate measurable outcomes or achievements?\n",
    "\n",
    "If a section is missing, assign a score of 0 for that section.\n",
    "\n",
    "#### Scoring Rubric\n",
    "\n",
    "| Score | Meaning |\n",
    "|-------|---------|\n",
    "| **0** | **Not Applicable / Missing**: No content provided, or the section is irrelevant to the job. |\n",
    "| **1** | **Poor**: Content exists but is highly generic, irrelevant, or underdeveloped. Little to no measurable impact is demonstrated. |\n",
    "| **2** | **Below Average**: Somewhat relevant but lacks depth or specificity. Minimal impact or achievements are demonstrated. |\n",
    "| **3** | **Average**: Content is moderately relevant, with adequate detail. Some measurable impact or effort is evident, but not exceptional. |\n",
    "| **4** | **Good**: Content is highly relevant, well-detailed, and demonstrates meaningful contributions or achievements. Could be improved slightly to reach exceptional quality. |\n",
    "| **5** | **Excellent**: Content is exceptionally relevant, detailed, and impactful, showcasing strong alignment with job requirements and significant measurable outcomes. |\n",
    "\n",
    "---\n",
    "\n",
    "### Output Format\n",
    "\n",
    "```json\n",
    "{{\n",
    "   \"experience\": {{\n",
    "      \"relevance\": [Score],\n",
    "      \"depth\": [Score],\n",
    "      \"impact\": [Score],\n",
    "      \"comment\": \"[Explanation for score that mentions experience requirements (e.g. \"5+ years experience with...\") from job description]\"\n",
    "   }},\n",
    "   \"education\": {{\n",
    "      \"alignment\": [Score]\n",
    "      \"comment\": \"[Explanation for score that mentions education requirements from job description]\"\n",
    "   }},\n",
    "   \"projects\": {{\n",
    "      \"relevance\": [Score],\n",
    "      \"depth\": [Score],\n",
    "      \"impact\": [Score],\n",
    "      \"comment\": \"[Explanation for score that mentions specific requirements from job description]\"\n",
    "   }},\n",
    "   \"leadership\": {{\n",
    "      \"relevance\": [Score],\n",
    "      \"depth\": [Score],\n",
    "      \"impact\": [Score],\n",
    "      \"comment\": \"[Explanation for score that mentions specific requirements from job description]\"\n",
    "   }},\n",
    "   \"research\": {{\n",
    "      \"relevance\": [Score],\n",
    "      \"depth\": [Score],\n",
    "      \"impact\": [Score],\n",
    "      \"comment\": \"[Explanation for score that mentions specific requirements from job description]\"\n",
    "   }},\n",
    "   \"skills\": {{\n",
    "      \"alignment\": [Score]\n",
    "      \"comment\": \"[Explanation for score that mentions specific requirements from job description]\"\n",
    "   }}\n",
    "   \"overall_comment\": \"[General comments about the candidate's resume, including strengths, weaknesses, and alignment with the job description]\"\n",
    "}}\n",
    "```\n",
    "\n",
    "---\n",
    "\n",
    "### Input\n",
    "\n",
    "Work Experience:\n",
    "```{work_experience}```\n",
    "\n",
    "Education:\n",
    "```{education}```\n",
    "\n",
    "Projects:\n",
    "```{projects}```\n",
    "\n",
    "Leadership:\n",
    "```{leadership}```\n",
    "\n",
    "Research:\n",
    "```{research}```\n",
    "\n",
    "Skills:\n",
    "```{skills}```\n",
    "\n",
    "Job description:\n",
    "```{job_desc}```\n",
    "\n",
    "Output:\n",
    "\"\"\""
   ]
  },
  {
   "cell_type": "code",
   "execution_count": 6,
   "metadata": {},
   "outputs": [],
   "source": [
    "class SectionScore(BaseModel):\n",
    "    relevance: int  = Field(..., description=\"Relevance score (0-5)\")\n",
    "    depth: int      = Field(..., description=\"Depth score (0-5)\")\n",
    "    impact: int     = Field(..., description=\"Impact score (0-5)\")\n",
    "    comment: str    = Field(..., description=\"Explanation for the scores in this section\")\n",
    "    \n",
    "class ReducedSectionScore(BaseModel):\n",
    "    alignment: int  = Field(..., description=\"Alignment score (0-5)\")\n",
    "    comment: str    = Field(..., description=\"Explanation for the score in this section\")\n",
    "\n",
    "class ResumeEvaluation(BaseModel):\n",
    "    experience: SectionScore      \n",
    "    education: ReducedSectionScore\n",
    "    projects: SectionScore        \n",
    "    leadership: SectionScore      \n",
    "    research: SectionScore        \n",
    "    skills: ReducedSectionScore   \n",
    "    overall_comment: str             = Field(..., description=\"General comments about the resume, including strengths and weaknesses\")"
   ]
  },
  {
   "cell_type": "code",
   "execution_count": 10,
   "metadata": {},
   "outputs": [],
   "source": [
    "from openai import OpenAI\n",
    "\n",
    "client = OpenAI()\n",
    "\n",
    "def score_resume_gpt(resume: dict, job_desc: str):\n",
    "    DEFAULT = \"Unavailable.\"\n",
    "    \n",
    "    response = client.beta.chat.completions.parse(\n",
    "        model=\"gpt-4o-2024-11-20\",\n",
    "        messages=[\n",
    "            {\n",
    "                \"role\": \"user\",\n",
    "                \"content\": FINAL_SCORING_TEMPLATE.format(\n",
    "                    job_desc=job_desc,\n",
    "                    work_experience=resume.experience or DEFAULT,\n",
    "                    education=resume.education or DEFAULT,\n",
    "                    projects=resume.projects or DEFAULT,\n",
    "                    leadership=resume.leadership or DEFAULT,\n",
    "                    research=resume.research or DEFAULT,\n",
    "                    skills=resume.skills or DEFAULT\n",
    "                ),\n",
    "            }\n",
    "        ],\n",
    "        response_format=ResumeEvaluation\n",
    "    )\n",
    "    \n",
    "    return response.choices[0].message.parsed"
   ]
  },
  {
   "cell_type": "code",
   "execution_count": 3,
   "metadata": {},
   "outputs": [
    {
     "ename": "NameError",
     "evalue": "name 'FINAL_SCORING_TEMPLATE' is not defined",
     "output_type": "error",
     "traceback": [
      "\u001b[0;31m---------------------------------------------------------------------------\u001b[0m",
      "\u001b[0;31mNameError\u001b[0m                                 Traceback (most recent call last)",
      "Cell \u001b[0;32mIn[3], line 2\u001b[0m\n\u001b[1;32m      1\u001b[0m \u001b[38;5;28meval\u001b[39m \u001b[38;5;241m=\u001b[39m decode_with_openai(\n\u001b[0;32m----> 2\u001b[0m     prompt\u001b[38;5;241m=\u001b[39m\u001b[43mFINAL_SCORING_TEMPLATE\u001b[49m\u001b[38;5;241m.\u001b[39mformat(\n\u001b[1;32m      3\u001b[0m         job_desc\u001b[38;5;241m=\u001b[39mjob_desc,\n\u001b[1;32m      4\u001b[0m         work_experience\u001b[38;5;241m=\u001b[39mparsed_resume\u001b[38;5;241m.\u001b[39mget(\u001b[38;5;124m\"\u001b[39m\u001b[38;5;124mWork Experience\u001b[39m\u001b[38;5;124m\"\u001b[39m, \u001b[38;5;124m\"\u001b[39m\u001b[38;5;124mUnavailable.\u001b[39m\u001b[38;5;124m\"\u001b[39m),\n\u001b[1;32m      5\u001b[0m         education\u001b[38;5;241m=\u001b[39mparsed_resume\u001b[38;5;241m.\u001b[39mget(\u001b[38;5;124m\"\u001b[39m\u001b[38;5;124mEducation\u001b[39m\u001b[38;5;124m\"\u001b[39m, \u001b[38;5;124m\"\u001b[39m\u001b[38;5;124mUnavailable.\u001b[39m\u001b[38;5;124m\"\u001b[39m),\n\u001b[1;32m      6\u001b[0m         projects\u001b[38;5;241m=\u001b[39mparsed_resume\u001b[38;5;241m.\u001b[39mget(\u001b[38;5;124m\"\u001b[39m\u001b[38;5;124mProjects\u001b[39m\u001b[38;5;124m\"\u001b[39m, \u001b[38;5;124m\"\u001b[39m\u001b[38;5;124mUnavailable.\u001b[39m\u001b[38;5;124m\"\u001b[39m),\n\u001b[1;32m      7\u001b[0m         leadership\u001b[38;5;241m=\u001b[39mparsed_resume\u001b[38;5;241m.\u001b[39mget(\u001b[38;5;124m\"\u001b[39m\u001b[38;5;124mLeadership\u001b[39m\u001b[38;5;124m\"\u001b[39m, \u001b[38;5;124m\"\u001b[39m\u001b[38;5;124mUnavailable.\u001b[39m\u001b[38;5;124m\"\u001b[39m),\n\u001b[1;32m      8\u001b[0m         research\u001b[38;5;241m=\u001b[39mparsed_resume\u001b[38;5;241m.\u001b[39mget(\u001b[38;5;124m\"\u001b[39m\u001b[38;5;124mResearch\u001b[39m\u001b[38;5;124m\"\u001b[39m, \u001b[38;5;124m\"\u001b[39m\u001b[38;5;124mUnavailable.\u001b[39m\u001b[38;5;124m\"\u001b[39m),\n\u001b[1;32m      9\u001b[0m         skills\u001b[38;5;241m=\u001b[39mparsed_resume\u001b[38;5;241m.\u001b[39mget(\u001b[38;5;124m\"\u001b[39m\u001b[38;5;124mSkills\u001b[39m\u001b[38;5;124m\"\u001b[39m, \u001b[38;5;124m\"\u001b[39m\u001b[38;5;124mUnavailable.\u001b[39m\u001b[38;5;124m\"\u001b[39m)\n\u001b[1;32m     10\u001b[0m     ),\n\u001b[1;32m     11\u001b[0m     schema\u001b[38;5;241m=\u001b[39mResumeEvaluation\n\u001b[1;32m     12\u001b[0m )\n",
      "\u001b[0;31mNameError\u001b[0m: name 'FINAL_SCORING_TEMPLATE' is not defined"
     ]
    }
   ],
   "source": [
    "DEFAULT = \"Unavailable.\"\n",
    "eval = decode_with_openai(\n",
    "    prompt=FINAL_SCORING_TEMPLATE.formatFINAL_SCORING_TEMPLATE.format(\n",
    "        job_desc=job_desc,\n",
    "        work_experience=parsed_resume.experience or DEFAULT,\n",
    "        education=parsed_resume.education or DEFAULT,\n",
    "        projects=parsed_resume.projects or DEFAULT,\n",
    "        leadership=parsed_resume.leadership or DEFAULT,\n",
    "        research=parsed_resume.research or DEFAULT,\n",
    "        skills=parsed_resume.skills or DEFAULT\n",
    "    ),\n",
    "    schema=ResumeEvaluation\n",
    ")"
   ]
  },
  {
   "cell_type": "code",
   "execution_count": 409,
   "metadata": {},
   "outputs": [
    {
     "name": "stdout",
     "output_type": "stream",
     "text": [
      "{'education': {'alignment': 3,\n",
      "               'comment': 'The obtained degree in Computer Science is '\n",
      "                          'technically relevant, though not directly aligned '\n",
      "                          'with the preferred engineering disciplines.'},\n",
      " 'experience': {'comment': 'The candidate has a strong background in software '\n",
      "                           'development and machine learning, which is less '\n",
      "                           'aligned with the required thermal systems '\n",
      "                           'experience.',\n",
      "                'depth': 3,\n",
      "                'impact': 3,\n",
      "                'relevance': 2},\n",
      " 'leadership': {'comment': 'Leadership experiences indicate organizational '\n",
      "                           'effectiveness but do not relate closely to thermal '\n",
      "                           'systems engineering challenges.',\n",
      "                'depth': 2,\n",
      "                'impact': 2,\n",
      "                'relevance': 1},\n",
      " 'overall_comment': 'The candidate demonstrates considerable technical '\n",
      "                    'expertise and achievements more focused on software '\n",
      "                    'engineering and machine learning. Alignment with the '\n",
      "                    'specific thermal hardware engineering scope is moderate '\n",
      "                    'to low due to the mismatch in specialized experience and '\n",
      "                    'academic focus. While the capabilities displayed are '\n",
      "                    'commendable, additional experience or education in fields '\n",
      "                    'such as materials science or mechanical engineering '\n",
      "                    'focusing on thermal protection would enhance suitability '\n",
      "                    'for this role.',\n",
      " 'projects': {'comment': 'The projects showcase technical depth in software '\n",
      "                         'applications but lack orientation towards '\n",
      "                         'aerothermal or thermal protection systems.',\n",
      "              'depth': 3,\n",
      "              'impact': 3,\n",
      "              'relevance': 2},\n",
      " 'research': {'comment': 'The absence of research work reduces the evaluation '\n",
      "                         'of experience in this context.',\n",
      "              'depth': 0,\n",
      "              'impact': 0,\n",
      "              'relevance': 0},\n",
      " 'skills': {'alignment': 3,\n",
      "            'comment': 'Broad technical proficiencies are visible, yet '\n",
      "                       'specialization in thermal system analysis or reentry '\n",
      "                       'vehicle mechanics is not evident.'}}\n"
     ]
    }
   ],
   "source": [
    "eval = score_resume_gpt(parsed_resume, job_desc)\n",
    "eval = eval.model_dump()\n",
    "pprint(eval)"
   ]
  },
  {
   "cell_type": "markdown",
   "metadata": {},
   "source": [
    "## Assign weights to the sections\n",
    "\n",
    "Let's ask the LLM to generate weights for each resume section based on the job description"
   ]
  },
  {
   "cell_type": "code",
   "execution_count": 268,
   "metadata": {},
   "outputs": [],
   "source": [
    "SECTION_WEIGHT_TEMPLATE = \"\"\"\n",
    "### Instruction\n",
    "\n",
    "You are an expert at evaluating job descriptions. Given a job description, your job is to assign weights to resume sections that will be used to score resumes against the job description.\n",
    "\n",
    "There are six resume sections:\n",
    "1. Education\n",
    "2. Experience\n",
    "3. Projects\n",
    "4. Leadership\n",
    "5. Research\n",
    "6. Skills\n",
    "\n",
    "Assign a percentage weight between 0 and 1 that determines how important each resume section is when evaluating a resume's fit to a provided job description.\n",
    "\n",
    "Notes on weight assignments:\n",
    "- In general, work experience should be given substantially more weight than other sections.\n",
    "- For non-research roles, research should be given a weight of 0.\n",
    "- Senior-level roles should have a project weight of 0.\n",
    "\n",
    "**ALL WEIGHTS MUST SUM TO 1**\n",
    "\n",
    "Please think step-by-step and output your reasoning in the \"Reasoning\" section before assigning weights. **You must explicitly sum up the scores you provided and validate that it adds up to 1. If it is not, please re-compute the weights.**\n",
    "\n",
    "### Output Format\n",
    "\n",
    "```json\n",
    "{{\n",
    "    \"reasoning\": \"<reasoning leading to weight assignments>\",\n",
    "    \"validation\": \"<step-by-step caluclations that ensure scores add up to 1>\",\n",
    "    \"education\": <weight between 0 and 1>,\n",
    "    \"experience\": <weight between 0 and 1>,\n",
    "    \"projects\": <weight between 0 and 1>,\n",
    "    \"leadership\": <weight between 0 and 1>,\n",
    "    \"research\": <weight between 0 and 1>,\n",
    "    \"skills\": <weight between 0 and 1>\n",
    "}}\n",
    "```\n",
    "\n",
    "---\n",
    "\n",
    "### Input\n",
    "\n",
    "Job Description:\n",
    "{job_desc}\n",
    "\n",
    "Output:\n",
    "\"\"\""
   ]
  },
  {
   "cell_type": "code",
   "execution_count": 217,
   "metadata": {},
   "outputs": [],
   "source": [
    "class ResumeWeights(BaseModel):\n",
    "    reasoning: str\n",
    "    validation: str\n",
    "    education: float\n",
    "    experience: float\n",
    "    projects: float\n",
    "    leadership: float\n",
    "    research: float\n",
    "    skills: float"
   ]
  },
  {
   "cell_type": "code",
   "execution_count": 89,
   "metadata": {},
   "outputs": [],
   "source": [
    "weights = decode_with_ollama(\n",
    "    prompt=SECTION_WEIGHT_TEMPLATE.format(job_desc=job_desc),\n",
    "    schema=ResumeWeights\n",
    ")"
   ]
  },
  {
   "cell_type": "code",
   "execution_count": 161,
   "metadata": {},
   "outputs": [],
   "source": [
    "def get_weights_gpt(job_desc: str):\n",
    "    response = client.beta.chat.completions.parse(\n",
    "        model=\"gpt-4o-2024-11-20\",\n",
    "        messages=[\n",
    "            {\n",
    "                \"role\": \"user\",\n",
    "                \"content\": SECTION_WEIGHT_TEMPLATE.format(job_desc=job_desc)\n",
    "            }\n",
    "        ],\n",
    "        response_format=ResumeWeights\n",
    "    )\n",
    "    \n",
    "    return response.choices[0].message.parsed"
   ]
  },
  {
   "cell_type": "code",
   "execution_count": 410,
   "metadata": {},
   "outputs": [
    {
     "name": "stdout",
     "output_type": "stream",
     "text": [
      "{'education': 0.1,\n",
      " 'experience': 0.5,\n",
      " 'leadership': 0.1,\n",
      " 'projects': 0.2,\n",
      " 'reasoning': 'Based on the Starship Thermal Hardware Engineer job '\n",
      "              'description, with the primary focus being technical expertise, '\n",
      "              'practical experience, collaboration capabilities, and design '\n",
      "              'innovation, weights have been assigned prioritizing these '\n",
      "              'aspects.',\n",
      " 'research': 0.0,\n",
      " 'skills': 0.1,\n",
      " 'validation': 'Summing the weights: 0.1 (Education) + 0.5 (Experience) + 0.2 '\n",
      "               '(Projects) + 0.1 (Leadership) + 0.0 (Research) + 0.1 (Skills) '\n",
      "               '= 1.0. The total is 1, meeting the requirements.'}\n"
     ]
    }
   ],
   "source": [
    "weights = get_weights_gpt(job_desc)\n",
    "pprint(weights.model_dump())\n",
    "weights = weights.model_dump()"
   ]
  },
  {
   "cell_type": "markdown",
   "metadata": {},
   "source": [
    "## Final Scoring"
   ]
  },
  {
   "cell_type": "code",
   "execution_count": 411,
   "metadata": {},
   "outputs": [
    {
     "data": {
      "text/plain": [
       "0.43800000000000006"
      ]
     },
     "execution_count": 411,
     "metadata": {},
     "output_type": "execute_result"
    }
   ],
   "source": [
    "edu_score = eval[\"education\"][\"alignment\"] / 5 * weights[\"education\"]\n",
    "exp_score = (eval[\"experience\"][\"depth\"] + eval[\"experience\"][\"impact\"] * eval[\"experience\"][\"relevance\"] / 5) / 10 * weights[\"experience\"]\n",
    "proj_score = (eval[\"projects\"][\"depth\"] + eval[\"projects\"][\"impact\"] * eval[\"projects\"][\"relevance\"] / 5) / 10 * weights[\"projects\"]\n",
    "research_score = (eval[\"research\"][\"depth\"] + eval[\"research\"][\"impact\"] * eval[\"research\"][\"relevance\"] / 5) / 10 * weights[\"research\"]\n",
    "leadership_score = (eval[\"leadership\"][\"depth\"] + eval[\"leadership\"][\"impact\"] * eval[\"leadership\"][\"relevance\"] / 5) / 10 * weights[\"leadership\"]\n",
    "skills_score = eval[\"skills\"][\"alignment\"] / 5 * weights[\"skills\"]\n",
    "\n",
    "final_score = edu_score + exp_score + proj_score + research_score + leadership_score + skills_score\n",
    "final_score"
   ]
  },
  {
   "cell_type": "code",
   "execution_count": null,
   "metadata": {},
   "outputs": [],
   "source": []
  }
 ],
 "metadata": {
  "kernelspec": {
   "display_name": "resume",
   "language": "python",
   "name": "python3"
  },
  "language_info": {
   "codemirror_mode": {
    "name": "ipython",
    "version": 3
   },
   "file_extension": ".py",
   "mimetype": "text/x-python",
   "name": "python",
   "nbconvert_exporter": "python",
   "pygments_lexer": "ipython3",
   "version": "3.12.8"
  }
 },
 "nbformat": 4,
 "nbformat_minor": 2
}
