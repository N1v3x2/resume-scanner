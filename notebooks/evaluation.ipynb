{
 "cells": [
  {
   "cell_type": "code",
   "execution_count": 1,
   "metadata": {},
   "outputs": [],
   "source": [
    "import sys\n",
    "import os\n",
    "from pprint import pprint\n",
    "\n",
    "sys.path.append(os.path.abspath(os.path.join(os.getcwd(), \"..\")))\n",
    "\n",
    "from resume_scanner.parsing.parsing import parse_resume\n",
    "from resume_scanner.scoring.scoring import score_resume"
   ]
  },
  {
   "cell_type": "code",
   "execution_count": 33,
   "metadata": {},
   "outputs": [],
   "source": [
    "parsed_resume = parse_resume(\"../data/input/resumes/Kareem_resume.pdf\")"
   ]
  },
  {
   "cell_type": "code",
   "execution_count": 30,
   "metadata": {},
   "outputs": [],
   "source": [
    "with open(\"../data/input/jobs/c1_swe.txt\", \"r\") as file:\n",
    "    job_desc = file.read()"
   ]
  },
  {
   "cell_type": "code",
   "execution_count": 34,
   "metadata": {},
   "outputs": [],
   "source": [
    "scored_resume = score_resume(parsed_resume, job_desc)"
   ]
  },
  {
   "cell_type": "code",
   "execution_count": 35,
   "metadata": {},
   "outputs": [
    {
     "name": "stdout",
     "output_type": "stream",
     "text": [
      "{'final_score': 0.74,\n",
      " 'resume_eval': {'education': {'alignment': 5,\n",
      "                               'comment': 'The candidate is pursuing a '\n",
      "                                          'Bachelor of Science in Computer '\n",
      "                                          'Science with a strong GPA and '\n",
      "                                          'relevant coursework, meeting the '\n",
      "                                          'educational requirements for the '\n",
      "                                          'internship.'},\n",
      "                 'experience': {'comment': 'The candidate has relevant '\n",
      "                                           'experience in machine learning and '\n",
      "                                           'software development, which aligns '\n",
      "                                           \"well with the internship's focus \"\n",
      "                                           'on technology and programming. The '\n",
      "                                           'contributions demonstrate '\n",
      "                                           'substantial work on real-world '\n",
      "                                           'projects, particularly in '\n",
      "                                           'optimizing models and developing '\n",
      "                                           'applications, which is valuable '\n",
      "                                           'for the role.',\n",
      "                                'depth': 4,\n",
      "                                'impact': 4,\n",
      "                                'relevance': 4},\n",
      "                 'leadership': {'comment': 'The leadership role as Head '\n",
      "                                           'Developer demonstrates some level '\n",
      "                                           'of responsibility and management, '\n",
      "                                           'but lacks specific metrics or '\n",
      "                                           'outcomes that would enhance its '\n",
      "                                           'impact score.',\n",
      "                                'depth': 3,\n",
      "                                'impact': 3,\n",
      "                                'relevance': 3},\n",
      "                 'overall_comment': 'The candidate presents a strong resume '\n",
      "                                    'with relevant experience, education, and '\n",
      "                                    'skills that align well with the '\n",
      "                                    'internship requirements. The experience '\n",
      "                                    'in machine learning and software '\n",
      "                                    'development is particularly valuable. '\n",
      "                                    'However, the leadership section could be '\n",
      "                                    'strengthened with more measurable '\n",
      "                                    'outcomes, and the absence of research '\n",
      "                                    'experience is noted. Overall, this '\n",
      "                                    'candidate is a strong contender for the '\n",
      "                                    'internship.',\n",
      "                 'projects': {'comment': 'The projects showcase practical '\n",
      "                                         'application of skills in web '\n",
      "                                         'development and software '\n",
      "                                         'engineering, particularly with React '\n",
      "                                         'and Django, which are relevant to '\n",
      "                                         'the technologies mentioned in the '\n",
      "                                         'job description.',\n",
      "                              'depth': 4,\n",
      "                              'impact': 4,\n",
      "                              'relevance': 4},\n",
      "                 'research': {'comment': 'No research experience is provided, '\n",
      "                                         'which is not a requirement but could '\n",
      "                                         'enhance the profile.',\n",
      "                              'depth': 0,\n",
      "                              'impact': 0,\n",
      "                              'relevance': 0},\n",
      "                 'skills': {'alignment': 4,\n",
      "                            'comment': 'The skills listed are highly relevant '\n",
      "                                       'to the internship, particularly '\n",
      "                                       'programming languages and frameworks '\n",
      "                                       'like Python, React, and AWS, which are '\n",
      "                                       'mentioned in the job description.'}},\n",
      " 'resume_weights': {'education': 0.25,\n",
      "                    'experience': 0.15,\n",
      "                    'leadership': 0.1,\n",
      "                    'projects': 0.25,\n",
      "                    'reasoning': 'This job description is for a Technology '\n",
      "                                 'Internship Program, which typically '\n",
      "                                 'emphasizes education and relevant skills '\n",
      "                                 'over extensive work experience. Since this '\n",
      "                                 'is an internship, candidates are likely to '\n",
      "                                 'have limited professional experience, so the '\n",
      "                                 'weight for experience should be lower than '\n",
      "                                 'for a full-time position. Education is '\n",
      "                                 'crucial as candidates must be pursuing a '\n",
      "                                 'degree, so it should carry a significant '\n",
      "                                 'weight. Projects are important for interns, '\n",
      "                                 'especially in technical fields, as they can '\n",
      "                                 'demonstrate practical skills and knowledge. '\n",
      "                                 'Leadership is less critical for an '\n",
      "                                 'internship role but still relevant, '\n",
      "                                 'particularly if it showcases teamwork or '\n",
      "                                 'initiative. Research is not applicable here '\n",
      "                                 'since the role does not focus on research '\n",
      "                                 'tasks. Skills are vital, especially '\n",
      "                                 'programming and technical skills, so they '\n",
      "                                 'should also carry a substantial weight. '\n",
      "                                 'Given these considerations, the weights are '\n",
      "                                 'assigned as follows: Education (0.25), '\n",
      "                                 'Experience (0.15), Projects (0.25), '\n",
      "                                 'Leadership (0.1), Research (0), Skills '\n",
      "                                 '(0.25).',\n",
      "                    'research': 0.0,\n",
      "                    'skills': 0.25,\n",
      "                    'validation': '0.25 (Education) + 0.15 (Experience) + 0.25 '\n",
      "                                  '(Projects) + 0.1 (Leadership) + 0 '\n",
      "                                  '(Research) + 0.25 (Skills) = 1.00'}}\n"
     ]
    }
   ],
   "source": [
    "pprint(scored_resume.model_dump())"
   ]
  },
  {
   "cell_type": "code",
   "execution_count": null,
   "metadata": {},
   "outputs": [],
   "source": []
  }
 ],
 "metadata": {
  "kernelspec": {
   "display_name": "resume",
   "language": "python",
   "name": "python3"
  },
  "language_info": {
   "codemirror_mode": {
    "name": "ipython",
    "version": 3
   },
   "file_extension": ".py",
   "mimetype": "text/x-python",
   "name": "python",
   "nbconvert_exporter": "python",
   "pygments_lexer": "ipython3",
   "version": "3.12.8"
  }
 },
 "nbformat": 4,
 "nbformat_minor": 2
}
