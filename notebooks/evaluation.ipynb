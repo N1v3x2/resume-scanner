{
 "cells": [
  {
   "cell_type": "code",
   "execution_count": 1,
   "metadata": {},
   "outputs": [],
   "source": [
    "import sys\n",
    "import os\n",
    "from pprint import pprint\n",
    "\n",
    "sys.path.append(os.path.abspath(os.path.join(os.getcwd(), \"..\")))\n",
    "\n",
    "from resume_scanner.parsing.parsing import parse_resume\n",
    "from resume_scanner.scoring.scoring import score_resume"
   ]
  },
  {
   "cell_type": "code",
   "execution_count": 2,
   "metadata": {},
   "outputs": [],
   "source": [
    "parsed_resume = parse_resume(\"../data/input/resumes/Kareem_resume.pdf\")"
   ]
  },
  {
   "cell_type": "code",
   "execution_count": 3,
   "metadata": {},
   "outputs": [],
   "source": [
    "with open(\"../data/input/jobs/c1_swe.txt\", \"r\") as file:\n",
    "    job_desc = file.read()"
   ]
  },
  {
   "cell_type": "code",
   "execution_count": 4,
   "metadata": {},
   "outputs": [],
   "source": [
    "scored_resume = score_resume(parsed_resume, job_desc)"
   ]
  },
  {
   "cell_type": "code",
   "execution_count": 5,
   "metadata": {},
   "outputs": [
    {
     "name": "stdout",
     "output_type": "stream",
     "text": [
      "{'final_score': 0.7,\n",
      " 'resume_eval': {'education': {'alignment': 5,\n",
      "                               'comment': 'The candidate is pursuing a '\n",
      "                                          'Bachelor of Science in Computer '\n",
      "                                          'Science, which directly meets the '\n",
      "                                          'educational requirements of the '\n",
      "                                          'internship. The honors and relevant '\n",
      "                                          'coursework further strengthen this '\n",
      "                                          'alignment.'},\n",
      "                 'experience': {'comment': 'The candidate has relevant '\n",
      "                                           'experience in machine learning and '\n",
      "                                           'software development, which aligns '\n",
      "                                           \"well with the internship's focus \"\n",
      "                                           'on technology and programming. The '\n",
      "                                           'contributions demonstrate '\n",
      "                                           'substantial work on real-world '\n",
      "                                           'projects, particularly in '\n",
      "                                           'optimizing models and developing '\n",
      "                                           'applications, which is valuable '\n",
      "                                           'for the role.',\n",
      "                                'depth': 4,\n",
      "                                'impact': 4,\n",
      "                                'relevance': 4},\n",
      "                 'leadership': {'comment': 'The leadership role as Head '\n",
      "                                           'Developer demonstrates some level '\n",
      "                                           'of responsibility and initiative, '\n",
      "                                           'but lacks specific metrics or '\n",
      "                                           'outcomes that would enhance its '\n",
      "                                           'impact. Organizing events is a '\n",
      "                                           'positive aspect, but more '\n",
      "                                           'technical leadership experience '\n",
      "                                           'would be beneficial.',\n",
      "                                'depth': 3,\n",
      "                                'impact': 3,\n",
      "                                'relevance': 3},\n",
      "                 'overall_comment': 'The candidate presents a strong resume '\n",
      "                                    'with relevant experience and education '\n",
      "                                    'for the Technology Internship Program at '\n",
      "                                    'Capital One. The experience in machine '\n",
      "                                    'learning and software development is '\n",
      "                                    'particularly valuable, and the '\n",
      "                                    'educational background aligns perfectly '\n",
      "                                    'with the requirements. However, the '\n",
      "                                    'leadership section could be strengthened '\n",
      "                                    'with more technical leadership examples, '\n",
      "                                    'and the absence of research experience is '\n",
      "                                    'noted. Overall, the candidate is '\n",
      "                                    'well-suited for the internship, with a '\n",
      "                                    'few areas for improvement.',\n",
      "                 'projects': {'comment': 'The projects showcase practical '\n",
      "                                         'application of skills in web '\n",
      "                                         'development and software '\n",
      "                                         'engineering, particularly with '\n",
      "                                         'technologies like React and Django. '\n",
      "                                         'The focus on accessibility and user '\n",
      "                                         'experience is a plus, aligning with '\n",
      "                                         \"the internship's emphasis on \"\n",
      "                                         'innovative tech solutions.',\n",
      "                              'depth': 4,\n",
      "                              'impact': 4,\n",
      "                              'relevance': 4},\n",
      "                 'research': {'comment': 'No research experience is provided, '\n",
      "                                         'which is not a requirement for the '\n",
      "                                         'internship but could enhance the '\n",
      "                                         \"candidate's profile.\",\n",
      "                              'depth': 0,\n",
      "                              'impact': 0,\n",
      "                              'relevance': 0},\n",
      "                 'skills': {'alignment': 4,\n",
      "                            'comment': 'The candidate possesses a strong set '\n",
      "                                       'of programming skills relevant to the '\n",
      "                                       'internship, including Python, Java, '\n",
      "                                       'JavaScript, and Go. However, there is '\n",
      "                                       'a lack of specific mention of some '\n",
      "                                       'preferred technologies like C# or '\n",
      "                                       '.NET, which could improve alignment.'}},\n",
      " 'resume_weights': {'education': 0.2,\n",
      "                    'experience': 0.4,\n",
      "                    'leadership': 0.1,\n",
      "                    'projects': 0.2,\n",
      "                    'reasoning': 'This job description is for a Technology '\n",
      "                                 'Internship Program, which is targeted at '\n",
      "                                 \"students currently pursuing a Bachelor's \"\n",
      "                                 'degree or higher. Given that this is an '\n",
      "                                 'internship role, education will be '\n",
      "                                 'important, but not as heavily weighted as '\n",
      "                                 'experience, since candidates are expected to '\n",
      "                                 'have limited professional experience. '\n",
      "                                 'Experience is still crucial, as any relevant '\n",
      "                                 'internships or projects will be highly '\n",
      "                                 'valued. Projects will have a moderate weight '\n",
      "                                 'since entry-level candidates may have '\n",
      "                                 'academic or personal projects to showcase '\n",
      "                                 'their skills. Leadership is less critical '\n",
      "                                 'for an internship role, but some weight is '\n",
      "                                 'still appropriate for candidates who have '\n",
      "                                 'demonstrated leadership in academic or '\n",
      "                                 'extracurricular settings. Research is not '\n",
      "                                 'relevant for this role, so it will receive a '\n",
      "                                 'weight of 0. Skills are very important, '\n",
      "                                 'especially technical skills related to '\n",
      "                                 'programming and software development, so '\n",
      "                                 'this section will receive a significant '\n",
      "                                 'weight. Overall, the weights reflect the '\n",
      "                                 'importance of education, experience, and '\n",
      "                                 'skills for this internship position.',\n",
      "                    'research': 0.0,\n",
      "                    'skills': 0.1,\n",
      "                    'validation': 'Education: 0.2 + Experience: 0.4 + '\n",
      "                                  'Projects: 0.2 + Leadership: 0.1 + Research: '\n",
      "                                  '0 + Skills: 0.1 = 1.0'}}\n"
     ]
    }
   ],
   "source": [
    "pprint(scored_resume.model_dump())"
   ]
  },
  {
   "cell_type": "code",
   "execution_count": null,
   "metadata": {},
   "outputs": [],
   "source": []
  }
 ],
 "metadata": {
  "kernelspec": {
   "display_name": "resume",
   "language": "python",
   "name": "python3"
  },
  "language_info": {
   "codemirror_mode": {
    "name": "ipython",
    "version": 3
   },
   "file_extension": ".py",
   "mimetype": "text/x-python",
   "name": "python",
   "nbconvert_exporter": "python",
   "pygments_lexer": "ipython3",
   "version": "3.12.8"
  }
 },
 "nbformat": 4,
 "nbformat_minor": 2
}
