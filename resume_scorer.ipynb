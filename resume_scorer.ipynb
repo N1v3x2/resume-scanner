{
 "cells": [
  {
   "cell_type": "code",
   "execution_count": 3,
   "metadata": {},
   "outputs": [],
   "source": [
    "from sentence_transformers import SentenceTransformer, util\n",
    "from pprint import pprint\n",
    "from typing import Dict, Any\n",
    "\n",
    "import json"
   ]
  },
  {
   "cell_type": "code",
   "execution_count": 4,
   "metadata": {},
   "outputs": [],
   "source": [
    "with open(\"sample-data/job-desc.txt\", \"r\") as file:\n",
    "    job_desc = file.read()"
   ]
  },
  {
   "cell_type": "code",
   "execution_count": 5,
   "metadata": {},
   "outputs": [],
   "source": [
    "with open(\"sample-data/resumes.json\", \"r\") as file:\n",
    "    resumes = json.load(file)"
   ]
  },
  {
   "cell_type": "markdown",
   "metadata": {},
   "source": [
    "### Compute job descrption to resume similarity scores"
   ]
  },
  {
   "cell_type": "code",
   "execution_count": 6,
   "metadata": {},
   "outputs": [],
   "source": [
    "def compute_sim_scores(job_desc: str, resumes: list[str]) -> list[float]:\n",
    "    # TODO: Experiment with different models:\n",
    "    # - sentence-BERT?\n",
    "    # - models fine-tuned for resume scanning tasks?\n",
    "    model = SentenceTransformer(\"all-MiniLM-L6-v2\")\n",
    "    \n",
    "    job_embedding = model.encode(job_desc, convert_to_tensor=True)\n",
    "    resume_embeddings = model.encode(resumes, convert_to_tensor=True)\n",
    "    \n",
    "    return util.cos_sim(job_embedding, resume_embeddings).squeeze().tolist()"
   ]
  },
  {
   "cell_type": "code",
   "execution_count": 7,
   "metadata": {},
   "outputs": [
    {
     "data": {
      "text/plain": [
       "[0.5131857991218567,\n",
       " 0.3369634449481964,\n",
       " 0.38393259048461914,\n",
       " 0.40572261810302734,\n",
       " 0.3709218502044678]"
      ]
     },
     "execution_count": 7,
     "metadata": {},
     "output_type": "execute_result"
    }
   ],
   "source": [
    "compute_sim_scores(job_desc, resumes)"
   ]
  },
  {
   "cell_type": "markdown",
   "metadata": {},
   "source": [
    "### Compute resume keyword scores"
   ]
  },
  {
   "cell_type": "code",
   "execution_count": 6,
   "metadata": {},
   "outputs": [],
   "source": [
    "def compute_keyword_scores(resumes: list[str]) -> list[float]:\n",
    "    # TODO: add logic to extract keywords from job description\n",
    "    key_skills = {\n",
    "        \"Python\": 0.2,\n",
    "        \"Java\": 0.5,\n",
    "        \"C++\": 0.6,\n",
    "        \"Agile\": 0.3,\n",
    "        \"Software Development\": 0.6,\n",
    "    }\n",
    "    \n",
    "    # TODO: add logic to extract keywords from resumes\n",
    "    def calculate_weighted_score(resume):\n",
    "        skill_score = 0\n",
    "        for skill, weight in key_skills.items():\n",
    "            if skill.lower() in resume.lower():\n",
    "                skill_score += weight\n",
    "        return skill_score\n",
    "    \n",
    "    return [calculate_weighted_score(resume) for resume in resumes]"
   ]
  },
  {
   "cell_type": "code",
   "execution_count": 7,
   "metadata": {},
   "outputs": [
    {
     "data": {
      "text/plain": [
       "[0.7, 0.2, 0.7, 0.2, 0.5]"
      ]
     },
     "execution_count": 7,
     "metadata": {},
     "output_type": "execute_result"
    }
   ],
   "source": [
    "compute_keyword_scores(resumes)"
   ]
  },
  {
   "cell_type": "markdown",
   "metadata": {},
   "source": [
    "### Putting it all together"
   ]
  },
  {
   "cell_type": "code",
   "execution_count": 8,
   "metadata": {},
   "outputs": [],
   "source": [
    "def score_resumes(job_desc: str, resumes: list[str]) -> list[dict[str, Any]]:\n",
    "    sim_scores = compute_sim_scores(job_desc, resumes)\n",
    "    keyword_scores = compute_keyword_scores(resumes)\n",
    "    \n",
    "    final_scores = [\n",
    "        {\"resume\": resumes[i], \"score\": sim_scores[i] + keyword_scores[i]}\n",
    "        for i in range(len(resumes))\n",
    "    ]\n",
    "    \n",
    "    final_scores_sorted = sorted(final_scores, key=lambda x: x[\"score\"], reverse=True)\n",
    "    \n",
    "    return final_scores_sorted"
   ]
  },
  {
   "cell_type": "code",
   "execution_count": 9,
   "metadata": {},
   "outputs": [
    {
     "name": "stdout",
     "output_type": "stream",
     "text": [
      "[{'resume': 'John Doe\\n'\n",
      "            'Software Engineer\\n'\n",
      "            'john.doe@example.com | (123) 456-7890 | linkedin.com/in/johndoe\\n'\n",
      "            '\\n'\n",
      "            'Summary:\\n'\n",
      "            'Experienced software engineer with expertise in developing '\n",
      "            'scalable web applications, strong knowledge of Python and '\n",
      "            'JavaScript, and a passion for solving complex problems.\\n'\n",
      "            '\\n'\n",
      "            'Skills:\\n'\n",
      "            '- Programming Languages: Python, JavaScript, Java\\n'\n",
      "            '- Frameworks: Django, React, Spring Boot\\n'\n",
      "            '- Tools: Git, Docker, Kubernetes\\n'\n",
      "            '- Databases: PostgreSQL, MongoDB\\n'\n",
      "            '\\n'\n",
      "            'Experience:\\n'\n",
      "            'Software Engineer | ABC Tech | June 2020 - Present\\n'\n",
      "            '- Built and maintained scalable APIs to support high-traffic '\n",
      "            'e-commerce platforms.\\n'\n",
      "            '- Led migration of a monolithic application to a microservices '\n",
      "            'architecture, reducing downtime by 30%.\\n'\n",
      "            '\\n'\n",
      "            'Education:\\n'\n",
      "            'B.S. in Computer Science | University of XYZ | May 2020',\n",
      "  'score': 1.2131857991218566},\n",
      " {'resume': 'Michael Brown\\n'\n",
      "            'Full-Stack Developer\\n'\n",
      "            'michael.brown@example.com | (555) 123-4567 | michaelbrown.dev\\n'\n",
      "            '\\n'\n",
      "            'Summary:\\n'\n",
      "            'Full-stack developer with 5+ years of experience building '\n",
      "            'responsive web applications and services. Proficient in '\n",
      "            'JavaScript, TypeScript, and modern frameworks like React and '\n",
      "            'Node.js.\\n'\n",
      "            '\\n'\n",
      "            'Skills:\\n'\n",
      "            '- Frontend: HTML, CSS, JavaScript, React\\n'\n",
      "            '- Backend: Node.js, Express, Python\\n'\n",
      "            '- Databases: MongoDB, PostgreSQL\\n'\n",
      "            '- Tools: Docker, AWS, Webpack\\n'\n",
      "            '\\n'\n",
      "            'Experience:\\n'\n",
      "            'Full-Stack Developer | XYZ Solutions | August 2019 - Present\\n'\n",
      "            '- Designed and implemented a customer management system used by '\n",
      "            'over 10,000 users.\\n'\n",
      "            '- Improved application load times by 40% through optimized code '\n",
      "            'and caching strategies.\\n'\n",
      "            '\\n'\n",
      "            'Education:\\n'\n",
      "            'B.S. in Software Engineering | State University | May 2017',\n",
      "  'score': 1.083932590484619},\n",
      " {'resume': 'Sophia Williams\\n'\n",
      "            'UX Designer\\n'\n",
      "            'sophia.williams@example.com | (333) 456-7890 | '\n",
      "            'behance.net/sophiawilliams\\n'\n",
      "            '\\n'\n",
      "            'Summary:\\n'\n",
      "            'UX designer with a passion for creating user-centered designs and '\n",
      "            'improving user experiences. Proficient in Figma, Adobe XD, and '\n",
      "            'usability testing.\\n'\n",
      "            '\\n'\n",
      "            'Skills:\\n'\n",
      "            '- Design Tools: Figma, Adobe XD, Sketch\\n'\n",
      "            '- Research: Usability Testing, A/B Testing\\n'\n",
      "            '- Prototyping: InVision, Axure\\n'\n",
      "            '- Frontend: HTML, CSS, JavaScript\\n'\n",
      "            '\\n'\n",
      "            'Experience:\\n'\n",
      "            'UX Designer | Creative Studio | April 2019 - Present\\n'\n",
      "            '- Redesigned mobile app interfaces, resulting in a 25% increase '\n",
      "            'in user engagement.\\n'\n",
      "            '- Conducted user research sessions to identify pain points and '\n",
      "            'improve workflows.\\n'\n",
      "            '\\n'\n",
      "            'Education:\\n'\n",
      "            'B.A. in Graphic Design | Design Institute | May 2018',\n",
      "  'score': 0.8709218502044678},\n",
      " {'resume': 'Emily Johnson\\n'\n",
      "            'DevOps Engineer\\n'\n",
      "            'emily.johnson@example.com | (444) 789-0123 | emilyjohnson.dev\\n'\n",
      "            '\\n'\n",
      "            'Summary:\\n'\n",
      "            'DevOps engineer with 4+ years of experience in cloud '\n",
      "            'infrastructure, CI/CD pipelines, and container orchestration. '\n",
      "            'Skilled in AWS, Kubernetes, and Terraform.\\n'\n",
      "            '\\n'\n",
      "            'Skills:\\n'\n",
      "            '- Cloud Platforms: AWS, Azure\\n'\n",
      "            '- Tools: Docker, Kubernetes, Terraform, Jenkins\\n'\n",
      "            '- Scripting: Bash, Python\\n'\n",
      "            '- Monitoring: Prometheus, Grafana\\n'\n",
      "            '\\n'\n",
      "            'Experience:\\n'\n",
      "            'DevOps Engineer | CloudTech | July 2020 - Present\\n'\n",
      "            '- Automated infrastructure deployment using Terraform, reducing '\n",
      "            'setup time by 50%.\\n'\n",
      "            '- Implemented CI/CD pipelines for microservices, accelerating '\n",
      "            'deployments by 70%.\\n'\n",
      "            '\\n'\n",
      "            'Education:\\n'\n",
      "            'B.S. in Information Technology | Tech University | May 2016',\n",
      "  'score': 0.6057225883007049},\n",
      " {'resume': 'Jane Smith\\n'\n",
      "            'Data Scientist\\n'\n",
      "            'jane.smith@example.com | (987) 654-3210 | github.com/janesmith\\n'\n",
      "            '\\n'\n",
      "            'Summary:\\n'\n",
      "            'Data scientist with a strong background in machine learning, '\n",
      "            'statistical modeling, and data visualization. Skilled in Python, '\n",
      "            'R, and SQL with experience in predictive analytics.\\n'\n",
      "            '\\n'\n",
      "            'Skills:\\n'\n",
      "            '- Machine Learning: Scikit-learn, TensorFlow, PyTorch\\n'\n",
      "            '- Data Visualization: Tableau, Matplotlib, Seaborn\\n'\n",
      "            '- Databases: MySQL, PostgreSQL\\n'\n",
      "            '- Tools: Jupyter, Excel, Git\\n'\n",
      "            '\\n'\n",
      "            'Experience:\\n'\n",
      "            'Data Scientist | DataCorp | March 2018 - Present\\n'\n",
      "            '- Developed machine learning models to predict customer churn, '\n",
      "            'improving retention by 20%.\\n'\n",
      "            '- Automated ETL pipelines to streamline data processing, saving '\n",
      "            '15 hours of manual work weekly.\\n'\n",
      "            '\\n'\n",
      "            'Education:\\n'\n",
      "            'M.S. in Data Science | University of ABC | December 2017',\n",
      "  'score': 0.536963415145874}]\n"
     ]
    }
   ],
   "source": [
    "pprint(score_resumes(job_desc, resumes))"
   ]
  },
  {
   "cell_type": "code",
   "execution_count": null,
   "metadata": {},
   "outputs": [],
   "source": []
  }
 ],
 "metadata": {
  "kernelspec": {
   "display_name": "resume",
   "language": "python",
   "name": "python3"
  },
  "language_info": {
   "codemirror_mode": {
    "name": "ipython",
    "version": 3
   },
   "file_extension": ".py",
   "mimetype": "text/x-python",
   "name": "python",
   "nbconvert_exporter": "python",
   "pygments_lexer": "ipython3",
   "version": "3.12.8"
  }
 },
 "nbformat": 4,
 "nbformat_minor": 2
}
