{
 "cells": [
  {
   "cell_type": "markdown",
   "metadata": {},
   "source": [
    "# LLM-based Final Scoring\n",
    "\n",
    "If resumes make it to this stage, we can assume they meet the minimum requirements. Here, our job is to filter out ~80% of resumes\n",
    "\n",
    "At the end of this, let's compare our scoring methodology to a baseline: feeding the entire resume and asking the LLM to make a recommendation"
   ]
  },
  {
   "cell_type": "code",
   "execution_count": 13,
   "metadata": {},
   "outputs": [],
   "source": [
    "import json\n",
    "from pprint import pprint\n",
    "from pydantic import BaseModel, Field\n",
    "\n",
    "from utils.with_structured_output import with_structured_output"
   ]
  },
  {
   "cell_type": "code",
   "execution_count": 3,
   "metadata": {},
   "outputs": [],
   "source": [
    "with open(\"../output/parsed_resume_info.json\", \"r\") as file:\n",
    "    parsed_resume_info = json.load(file)\n",
    "    \n",
    "with open(\"../output/parsed_job_desc.json\", \"r\") as file:\n",
    "    parsed_job_info = json.load(file)"
   ]
  },
  {
   "cell_type": "code",
   "execution_count": 16,
   "metadata": {},
   "outputs": [],
   "source": [
    "class ResumeScore(BaseModel):\n",
    "    score: int                  = Field(..., alias=\"Score\", ge=0, le=10)\n",
    "    justification: list[str]    = Field(..., alias=\"Justification\")"
   ]
  },
  {
   "cell_type": "code",
   "execution_count": 17,
   "metadata": {},
   "outputs": [],
   "source": [
    "FINAL_SCORING_TEMPLATE = \"\"\"\n",
    "You are an expert resume evaluator. Given a parsed resume and parsed job description, both represented as JSON strings, your job is to evaluate how well the resume fits the job description.\n",
    "\n",
    "Please output a score between 0 and 10 that measures the degree of fit, where:\n",
    "    0 – 2: Not recommended\n",
    "        Candidate has significant shortcomings that outweigh any strengths.\n",
    "    3 – 4: Weak fit\n",
    "        Candidate meets some qualifications but lacks essential skills or experiences necessary for the role.\n",
    "    5 – 6: Average fit\n",
    "        Candidate meets minimum qualifications and shows potential but may required **significant** training or support.\n",
    "    7 – 8: Strong fit\n",
    "        Candidate is well-qualified and likely to succeed with minimal training or onboarding. **A strong contender for the role.**\n",
    "    9 – 10: Exceptional fit\n",
    "        Candidate exceeds expectations and demonstrates outstanding qualifications, skills, or cultural alignment. **A top-tier hire.**\n",
    "        \n",
    "In addition to your score, please output comprehensive feedback as a list of concise points that justifies your score. \n",
    "\n",
    "Output format:\n",
    "    {{\n",
    "        \"Score\": <Integer between 0-10 that describes resume's alignment>,\n",
    "        \"Justification\": [\"list\", \"of\", \"points\", \"justifying\", \"score\"]\n",
    "    }}\n",
    "---\n",
    "Resume:\n",
    "{resume_info}\n",
    "\n",
    "Job Description:\n",
    "{job_info}\n",
    "\n",
    "Output:\n",
    "\"\"\""
   ]
  },
  {
   "cell_type": "code",
   "execution_count": 18,
   "metadata": {},
   "outputs": [],
   "source": [
    "final_score = with_structured_output(\n",
    "    prompt=FINAL_SCORING_TEMPLATE.format(\n",
    "        resume_info=parsed_resume_info,\n",
    "        job_info=parsed_job_info),\n",
    "    schema=ResumeScore)"
   ]
  },
  {
   "cell_type": "code",
   "execution_count": null,
   "metadata": {},
   "outputs": [],
   "source": [
    "pprint(final_score)"
   ]
  },
  {
   "cell_type": "markdown",
   "metadata": {},
   "source": [
    "### OpenAI o1-mini Reasoning Model"
   ]
  },
  {
   "cell_type": "code",
   "execution_count": null,
   "metadata": {},
   "outputs": [],
   "source": []
  }
 ],
 "metadata": {
  "kernelspec": {
   "display_name": "resume",
   "language": "python",
   "name": "python3"
  },
  "language_info": {
   "codemirror_mode": {
    "name": "ipython",
    "version": 3
   },
   "file_extension": ".py",
   "mimetype": "text/x-python",
   "name": "python",
   "nbconvert_exporter": "python",
   "pygments_lexer": "ipython3",
   "version": "3.12.8"
  }
 },
 "nbformat": 4,
 "nbformat_minor": 2
}
