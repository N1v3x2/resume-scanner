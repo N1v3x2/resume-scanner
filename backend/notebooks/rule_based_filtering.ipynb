{
 "cells": [
  {
   "cell_type": "markdown",
   "metadata": {},
   "source": [
    "# Rule-based initial filtering\n",
    "\n",
    "1. Minimum experience requirements: must have minimum years of experience\n",
    "2. Minimum skill requirements: must match at least one required skill\n",
    "3. Minimum education requirements: must have at least one required degree"
   ]
  },
  {
   "cell_type": "code",
   "execution_count": 4,
   "metadata": {},
   "outputs": [],
   "source": [
    "import json"
   ]
  },
  {
   "cell_type": "code",
   "execution_count": 5,
   "metadata": {},
   "outputs": [],
   "source": [
    "with open(\"../output/parsed_resume_info.json\", \"r\") as file:\n",
    "    resume_info = json.load(file)"
   ]
  },
  {
   "cell_type": "code",
   "execution_count": null,
   "metadata": {},
   "outputs": [],
   "source": [
    "resume_info"
   ]
  },
  {
   "cell_type": "code",
   "execution_count": 7,
   "metadata": {},
   "outputs": [],
   "source": [
    "with open(\"../output/parsed_job_desc.json\", \"r\") as file:\n",
    "    job_info = json.load(file)"
   ]
  },
  {
   "cell_type": "code",
   "execution_count": null,
   "metadata": {},
   "outputs": [],
   "source": [
    "job_info"
   ]
  },
  {
   "cell_type": "markdown",
   "metadata": {},
   "source": [
    "### Filter minimum education\n",
    "\n",
    "May be more difficult to filter this with rules (how do you match \"Pursuing BS or MS in CS/CE/EE or equivalent\" to resumes?)\n",
    "\n",
    "For now, just toss out resumes without any education information"
   ]
  },
  {
   "cell_type": "code",
   "execution_count": 9,
   "metadata": {},
   "outputs": [],
   "source": [
    "def meets_min_education(resume_info: dict) -> bool:\n",
    "    return len(resume_info[\"Education\"]) > 0"
   ]
  },
  {
   "cell_type": "code",
   "execution_count": null,
   "metadata": {},
   "outputs": [],
   "source": [
    "meets_min_education(resume_info)"
   ]
  },
  {
   "cell_type": "markdown",
   "metadata": {},
   "source": [
    "### Filter minimum skill requirements\n",
    "\n",
    "Does the resume contain *at least one* of the required skills?"
   ]
  },
  {
   "cell_type": "code",
   "execution_count": 11,
   "metadata": {},
   "outputs": [],
   "source": [
    "def meets_min_skills(job_info: dict, resume_info: dict) -> bool:\n",
    "    job_skills = job_info[\"Required Skills\"]\n",
    "    if len(job_skills) == 0:\n",
    "        return True\n",
    "    \n",
    "    resume_skills = resume_info[\"Skills\"][\"Technical Skills\"]\n",
    "    for skill in job_skills:\n",
    "        if skill in resume_skills:\n",
    "            return True\n",
    "    return False"
   ]
  },
  {
   "cell_type": "code",
   "execution_count": null,
   "metadata": {},
   "outputs": [],
   "source": [
    "meets_min_skills(job_info, resume_info)"
   ]
  },
  {
   "cell_type": "markdown",
   "metadata": {},
   "source": [
    "### Filter minimum experience \n",
    "\n",
    "Maybe use fuzzy matching here to check whether any of the resume's experiences are similar to the job's required experiences"
   ]
  },
  {
   "cell_type": "code",
   "execution_count": 13,
   "metadata": {},
   "outputs": [],
   "source": [
    "from rapidfuzz import fuzz"
   ]
  },
  {
   "cell_type": "code",
   "execution_count": 33,
   "metadata": {},
   "outputs": [],
   "source": [
    "def meets_min_experience(job_info: dict, resume_info: dict) -> bool:\n",
    "    job_exp = job_info[\"Required Experience\"]\n",
    "    if len(job_exp) == 0:\n",
    "        return True\n",
    "    \n",
    "    resume_skills = resume_info[\"Skills\"][\"Technical Skills\"] + resume_info[\"Skills\"][\"Domain-Specific Skills\"]\n",
    "    for experience in job_exp:\n",
    "        for skill in resume_skills:\n",
    "            if fuzz.partial_ratio(skill, experience) > 45:\n",
    "                print(skill, \":\", experience, fuzz.partial_ratio(skill, experience))"
   ]
  },
  {
   "cell_type": "code",
   "execution_count": null,
   "metadata": {},
   "outputs": [],
   "source": [
    "meets_min_experience(job_info, resume_info)"
   ]
  },
  {
   "cell_type": "markdown",
   "metadata": {},
   "source": [
    "There doesn't seem to be an easy to way create a rule-based system for filtering out minimum experience requirements; this likely requires a little bit of reasoning"
   ]
  },
  {
   "cell_type": "markdown",
   "metadata": {},
   "source": []
  }
 ],
 "metadata": {
  "kernelspec": {
   "display_name": "resume",
   "language": "python",
   "name": "python3"
  },
  "language_info": {
   "codemirror_mode": {
    "name": "ipython",
    "version": 3
   },
   "file_extension": ".py",
   "mimetype": "text/x-python",
   "name": "python",
   "nbconvert_exporter": "python",
   "pygments_lexer": "ipython3",
   "version": "3.12.8"
  }
 },
 "nbformat": 4,
 "nbformat_minor": 2
}
