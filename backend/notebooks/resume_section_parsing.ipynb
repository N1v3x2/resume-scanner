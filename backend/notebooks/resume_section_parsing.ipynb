{
 "cells": [
  {
   "cell_type": "markdown",
   "metadata": {
    "vscode": {
     "languageId": "plaintext"
    }
   },
   "source": [
    "# Fine-grained Parsing\n",
    "\n",
    "After initial parsing, let's parse out details from each resume section individually"
   ]
  },
  {
   "cell_type": "code",
   "execution_count": 26,
   "metadata": {},
   "outputs": [],
   "source": [
    "import sys\n",
    "import os\n",
    "import json\n",
    "from pprint import pprint\n",
    "from pydantic import BaseModel, RootModel, Field\n",
    "\n",
    "sys.path.append(os.path.abspath(os.path.join(os.getcwd(), \"..\")))\n",
    "\n",
    "from resume_scanner.utils.with_structured_output import with_structured_output\n",
    "from resume_scanner.parsing.initial_parsing import parse_resume_sections"
   ]
  },
  {
   "cell_type": "code",
   "execution_count": 55,
   "metadata": {},
   "outputs": [],
   "source": [
    "parsed_resume = parse_resume_sections(\"../data/input/resumes/Kevin_resume.pdf\")"
   ]
  },
  {
   "cell_type": "code",
   "execution_count": null,
   "metadata": {},
   "outputs": [],
   "source": [
    "pprint(parsed_resume)"
   ]
  },
  {
   "cell_type": "markdown",
   "metadata": {},
   "source": [
    "## Parse Education"
   ]
  },
  {
   "cell_type": "code",
   "execution_count": 10,
   "metadata": {},
   "outputs": [],
   "source": [
    "class School(BaseModel):\n",
    "    name: str           = Field(..., alias=\"Name\")\n",
    "    majors: list[str]   = Field(..., alias=\"Majors\")\n",
    "    minors: list[str]   = Field(..., alias=\"Minors\")\n",
    "    gpa: float          = Field(None, alias=\"GPA\")\n",
    "    grad_year: int      = Field(..., alias=\"Graduation Year\")\n",
    "\n",
    "class Education(RootModel[list[School]]):\n",
    "    pass"
   ]
  },
  {
   "cell_type": "code",
   "execution_count": 11,
   "metadata": {},
   "outputs": [],
   "source": [
    "EDUCATION_EXTRACTION_PROMPT = \"\"\"\n",
    "You are an expert resume parser. Given some resume text, your job is to parse education information as a list of JSON objects representing each school attended. Follow this format for each school:\n",
    "    {{\n",
    "        \"Name\": \"<Name of School>\",\n",
    "        \"Majors\": [\"list\", \"of\", \"majors\"],\n",
    "        \"Minors\": [\"list\", \"of\", \"minors\"],\n",
    "        \"GPA\": <GPA>,\n",
    "        \"Graduation Year\": <Graduation Year>\n",
    "    }},\n",
    "\n",
    "Notes:\n",
    "1. If there are no minors, set \"Minors\" to an empty list.\n",
    "2. If there is no GPA listed, set \"GPA\" to None.\n",
    "3. If any school does not have a graduation year listed, omit the school from the output.\n",
    "4. Output the full name of all degrees, e.g., \"BS in Computer Science\", \"M.S. in Information Science\". Note that the resume may contain a double major. If so, output all degrees with their full names, making sure to incldue the type of degree for each major (\"BS,\" \"MS,\" etc.). Please note that some schools offer emphasis areas or modifiers to the major that are not themselves considered majors, e.g. \"Computer Science with statistics emphasis\" is equivalent to \"Computer Science.\"\n",
    "5. If the resume does not contain information for one of the sections, return an empty list for that section.\n",
    "\n",
    "Extracted information must be **explicitly contained in the resume.**\n",
    "\n",
    "Resume text:\n",
    "{resume_text}\n",
    "\n",
    "Output:\n",
    "\"\"\""
   ]
  },
  {
   "cell_type": "code",
   "execution_count": 12,
   "metadata": {},
   "outputs": [],
   "source": [
    "education_info = with_structured_output(\n",
    "    prompt=EDUCATION_EXTRACTION_PROMPT.format(resume_text=parsed_resume[\"Education\"]),\n",
    "    schema=Education)"
   ]
  },
  {
   "cell_type": "code",
   "execution_count": null,
   "metadata": {},
   "outputs": [],
   "source": [
    "education_info"
   ]
  },
  {
   "cell_type": "markdown",
   "metadata": {},
   "source": [
    "## Parse Experience"
   ]
  },
  {
   "cell_type": "code",
   "execution_count": 4,
   "metadata": {},
   "outputs": [],
   "source": [
    "class Experience(BaseModel):\n",
    "    company: str = Field(..., alias=\"Company\")\n",
    "    role: str = Field(..., alias=\"Role\")\n",
    "    contributions: list[str] = Field(..., alias=\"Contributions\")\n",
    "    start_date: str = Field(..., alias=\"Start Date\")\n",
    "    end_date: str = Field(..., alias=\"End Date\")\n",
    "    skills: list[str] = Field(..., alias=\"Skills\")\n",
    "    \n",
    "class Experiences(BaseModel):\n",
    "    roles: list[Experience] = Field(..., alias=\"Roles\")\n",
    "    yoe: float = Field(..., alias=\"YOE\")"
   ]
  },
  {
   "cell_type": "code",
   "execution_count": 8,
   "metadata": {},
   "outputs": [],
   "source": [
    "EXPERIENCE_EXTRACTION_PROMPT = \"\"\"\n",
    "You are an expert at parsing resumes. Given some resume text, your job is to extract information about the candidate's work experience and format it as a list of JSON objects:\n",
    "    {{\n",
    "        \"Roles\": [\n",
    "            {{\n",
    "                \"Company\": \"<company>\",\n",
    "                \"Role\": \"<applicant's role at the company>\",\n",
    "                \"Contributions\": [\"list\", \"of\", \"contributions\", \"in\", \"the\", \"role\"],\n",
    "                \"Start Date\": \"<start date, formatted as MM-yyyy>\",\n",
    "                \"End Date\": \"<end date, formatted as MM-yyyy>\", \n",
    "                \"Skills\": [\"list\", \"of\", \"relevant\", \"skills\"]\n",
    "            }},\n",
    "            ...\n",
    "        ],\n",
    "        \"YOE\": <Total Years of Experience> \n",
    "    }}\n",
    "    \n",
    "The extracted information must be **explicitly contained in the resume.**\n",
    "\n",
    "Calculate \"YOE\" by summing up the duration of all experiences, rounded to the nearest quarter-year. **Note that overlapping timeframes should not double-counted.**\n",
    "\n",
    "When extracting \"Skills\" for each role, please extract specific technical terms AND niche, domain-specific skills.\n",
    "\n",
    "Resume text:\n",
    "{resume_text}\n",
    "\n",
    "Output:\n",
    "\"\"\""
   ]
  },
  {
   "cell_type": "code",
   "execution_count": 11,
   "metadata": {},
   "outputs": [],
   "source": [
    "experience_info = with_structured_output(\n",
    "    EXPERIENCE_EXTRACTION_PROMPT.format(resume_text=parsed_resume[\"Experience\"]),\n",
    "    Experiences)"
   ]
  },
  {
   "cell_type": "code",
   "execution_count": null,
   "metadata": {},
   "outputs": [],
   "source": [
    "pprint(experience_info)"
   ]
  },
  {
   "cell_type": "markdown",
   "metadata": {},
   "source": [
    "## Parse Projects"
   ]
  },
  {
   "cell_type": "code",
   "execution_count": 17,
   "metadata": {},
   "outputs": [],
   "source": [
    "class Project(BaseModel):\n",
    "    name: str = Field(..., alias=\"Name\")\n",
    "    contributions: list[str] = Field(..., alias=\"Contributions\")\n",
    "    skills: list[str] = Field(..., alias=\"Skills\")\n",
    "    \n",
    "class Projects(RootModel[list[Project]]):\n",
    "    pass"
   ]
  },
  {
   "cell_type": "code",
   "execution_count": 18,
   "metadata": {},
   "outputs": [],
   "source": [
    "PROJECTS_EXTRACTION_PROMPT = \"\"\"\n",
    "You are an expert at parsing resumes. Given some resume text, your job is to extract information about the candidate's project experience and format it as a list of JSON objects, where each object has the following format:\n",
    "    {{\n",
    "        \"Name\": \"<name of project>\",\n",
    "        \"Contributions\": [\"list\", \"of\", \"contributions\", \"in\", \"the\", \"project\"],\n",
    "        \"Skills\": [\"list\", \"of\", \"relevant\", \"skills\"]\n",
    "    }}\n",
    "    \n",
    "The extracted information must be **explicitly contained in the resume.**\n",
    "\n",
    "When extracting \"Skills\" for each project, please extract specific technical terms AND niche, domain-specific skills.\n",
    "\n",
    "Resume text:\n",
    "{resume_text}\n",
    "\n",
    "Output:\n",
    "\"\"\""
   ]
  },
  {
   "cell_type": "code",
   "execution_count": 33,
   "metadata": {},
   "outputs": [],
   "source": [
    "project_info = with_structured_output(\n",
    "    PROJECTS_EXTRACTION_PROMPT.format(resume_text=parsed_resume[\"Projects\"]),\n",
    "    Projects)"
   ]
  },
  {
   "cell_type": "code",
   "execution_count": null,
   "metadata": {},
   "outputs": [],
   "source": [
    "pprint(project_info)"
   ]
  },
  {
   "cell_type": "markdown",
   "metadata": {},
   "source": [
    "## Parse Leadership"
   ]
  },
  {
   "cell_type": "code",
   "execution_count": 22,
   "metadata": {},
   "outputs": [],
   "source": [
    "class Leadership(BaseModel):\n",
    "    org: str = Field(..., alias=\"Organization\")\n",
    "    role: str = Field(..., alias=\"Role\")\n",
    "    contributions: list[str] = Field(..., alias=\"Contributions\")"
   ]
  },
  {
   "cell_type": "code",
   "execution_count": 21,
   "metadata": {},
   "outputs": [],
   "source": [
    "LEADERSHIP_EXTRACTION_PROMPT = \"\"\"\n",
    "You are an expert at parsing resumes. Given some resume text, your job is to extract information about the candidate's leadership experience and format it as a list of JSON objects, where each object has the following format:\n",
    "    {{\n",
    "        \"Organization\": \"<name of organization>\",\n",
    "        \"Role\": \"<applicant's role at organization>\",\n",
    "        \"Contributions\": [\"list\", \"of\", \"contributions\", \"in\", \"the\", \"position\"]\n",
    "    }}\n",
    "    \n",
    "The extracted information must be **explicitly contained in the resume.**\n",
    "\n",
    "Resume text:\n",
    "{resume_text}\n",
    "\n",
    "Output:\n",
    "\"\"\""
   ]
  },
  {
   "cell_type": "code",
   "execution_count": 40,
   "metadata": {},
   "outputs": [],
   "source": [
    "leadership_info = with_structured_output(\n",
    "    LEADERSHIP_EXTRACTION_PROMPT.format(resume_text=parsed_resume[\"Leadership\"]),\n",
    "    Leadership)"
   ]
  },
  {
   "cell_type": "code",
   "execution_count": null,
   "metadata": {},
   "outputs": [],
   "source": [
    "leadership_info"
   ]
  },
  {
   "cell_type": "markdown",
   "metadata": {},
   "source": [
    "## Parse Research"
   ]
  },
  {
   "cell_type": "code",
   "execution_count": 44,
   "metadata": {},
   "outputs": [],
   "source": [
    "class ResearchRole(BaseModel):\n",
    "    institution: str = Field(..., alias=\"Institution\")\n",
    "    role: str = Field(..., alias=\"Role\")\n",
    "    contributions: list[str] = Field(..., alias=\"Contributions\")\n",
    "    start_date: str = Field(..., alias=\"Start Date\")\n",
    "    end_date: str = Field(..., alias=\"End Date\")\n",
    "    skills: list[str] = Field(..., alias=\"Skills\")\n",
    "    \n",
    "class Research(BaseModel):\n",
    "    roles: list[ResearchRole] = Field(..., alias=\"Roles\")\n",
    "    publications: list[str] = Field(..., alias=\"Publications\")"
   ]
  },
  {
   "cell_type": "code",
   "execution_count": 45,
   "metadata": {},
   "outputs": [],
   "source": [
    "RESEARCH_EXTRACTION_PROMPT = \"\"\"\n",
    "You are an expert at parsing resumes. Given some resume text, your job is to extract information about the candidate's project experience and format it as a JSON object with the following fields:\n",
    "    {{\n",
    "        \"Roles\": [\n",
    "            {{\n",
    "                \"Institution\": \"<name of research institution>\",\n",
    "                \"Role\": \"<applicant's research role>\",\n",
    "                \"Contributions\": [\"list\", \"of\", \"contributions\", \"in\", \"the\", \"role\"],\n",
    "                \"Start Date\": \"<start date, formatted as MM-yyyy>\",\n",
    "                \"End Date\": \"<end date, formatted as MM-yyyy>\", \n",
    "                \"Skills\": [\"list\", \"of\", \"relevant\", \"skills\"]\n",
    "            }},\n",
    "            ...\n",
    "        ],\n",
    "        \"Publications\": [\"list\", \"of\", \"publications\"]\n",
    "    }}\n",
    "    \n",
    "The extracted information must be **explicitly contained in the resume.**\n",
    "\n",
    "When extracting \"Skills\" for each research role, please extract specific technical terms AND niche, domain-specific skills.\n",
    "\n",
    "Resume text:\n",
    "{resume_text}\n",
    "\n",
    "Output:\n",
    "\"\"\""
   ]
  },
  {
   "cell_type": "code",
   "execution_count": 48,
   "metadata": {},
   "outputs": [],
   "source": [
    "research_info = with_structured_output(\n",
    "    LEADERSHIP_EXTRACTION_PROMPT.format(resume_text=parsed_resume[\"Projects\"]),\n",
    "    Research)"
   ]
  },
  {
   "cell_type": "code",
   "execution_count": null,
   "metadata": {},
   "outputs": [],
   "source": [
    "pprint(research_info)"
   ]
  },
  {
   "cell_type": "markdown",
   "metadata": {},
   "source": [
    "## Skill Parsing "
   ]
  },
  {
   "cell_type": "code",
   "execution_count": 57,
   "metadata": {},
   "outputs": [],
   "source": [
    "class Skills(RootModel[list[str]]):\n",
    "    pass"
   ]
  },
  {
   "cell_type": "code",
   "execution_count": null,
   "metadata": {},
   "outputs": [],
   "source": [
    "parsed_resume[\"Skills\"]"
   ]
  },
  {
   "cell_type": "code",
   "execution_count": 51,
   "metadata": {},
   "outputs": [],
   "source": [
    "SKILL_EXTRACTION_TEMPLATE = \"\"\"\n",
    "You are an expert are parsing resumes. Given a resume, your job is to parse the specific technical skills.\n",
    "\n",
    "Format your output as a JSON list of strings.\n",
    "\n",
    "Resume text:\n",
    "{resume_text}\n",
    "\n",
    "Output:\n",
    "\"\"\""
   ]
  },
  {
   "cell_type": "code",
   "execution_count": 59,
   "metadata": {},
   "outputs": [],
   "source": [
    "skills_info = with_structured_output(\n",
    "    prompt=SKILL_EXTRACTION_TEMPLATE.format(resume_text=parsed_resume[\"Skills\"]),\n",
    "    schema=Skills)"
   ]
  },
  {
   "cell_type": "code",
   "execution_count": null,
   "metadata": {},
   "outputs": [],
   "source": [
    "skills_info"
   ]
  },
  {
   "cell_type": "markdown",
   "metadata": {},
   "source": [
    "### Putting it all together"
   ]
  },
  {
   "cell_type": "code",
   "execution_count": null,
   "metadata": {},
   "outputs": [],
   "source": [
    "parsed_info = {\n",
    "    \"Education\": education_info,\n",
    "    \"Work Experience\": experience_info,\n",
    "    \"Skills\": skills_info\n",
    "}\n",
    "pprint(parsed_info)"
   ]
  },
  {
   "cell_type": "code",
   "execution_count": 23,
   "metadata": {},
   "outputs": [],
   "source": [
    "with open(\"../output/parsed_resume_info.json\", \"w\") as file:\n",
    "    json.dump(parsed_info, file, indent=4)"
   ]
  },
  {
   "cell_type": "code",
   "execution_count": null,
   "metadata": {},
   "outputs": [],
   "source": []
  }
 ],
 "metadata": {
  "kernelspec": {
   "display_name": "resume",
   "language": "python",
   "name": "python3"
  },
  "language_info": {
   "codemirror_mode": {
    "name": "ipython",
    "version": 3
   },
   "file_extension": ".py",
   "mimetype": "text/x-python",
   "name": "python",
   "nbconvert_exporter": "python",
   "pygments_lexer": "ipython3",
   "version": "3.12.8"
  }
 },
 "nbformat": 4,
 "nbformat_minor": 2
}
