{
 "cells": [
  {
   "cell_type": "markdown",
   "metadata": {},
   "source": [
    "# LLM-based Final Scoring\n",
    "\n",
    "If resumes make it to this stage, we can assume they meet the minimum requirements. Here, our job is to filter out ~80% of resumes\n",
    "\n",
    "At the end of this, let's compare our scoring methodology to a baseline: feeding the entire resume and asking the LLM to make a recommendation"
   ]
  },
  {
   "cell_type": "code",
   "execution_count": 1,
   "metadata": {},
   "outputs": [],
   "source": [
    "import json\n",
    "from pprint import pprint\n",
    "from pydantic import BaseModel, Field"
   ]
  },
  {
   "cell_type": "code",
   "execution_count": 3,
   "metadata": {},
   "outputs": [],
   "source": [
    "with open(\"../output/parsed_resume_info.json\", \"r\") as file:\n",
    "    parsed_resume_info = json.load(file)\n",
    "    \n",
    "with open(\"../output/parsed_job_desc.json\", \"r\") as file:\n",
    "    parsed_job_info = json.load(file)"
   ]
  },
  {
   "cell_type": "code",
   "execution_count": null,
   "metadata": {},
   "outputs": [],
   "source": [
    "FINAL_SCORING_TEMPLATE = \"\"\"\n",
    "You are an expert resume evaluator. Given a parsed resume and parsed job description, both represented as JSON strings, your job is to evaluate how well the resume fits the job description.\n",
    "\n",
    "The resume will be broken down into multiple sections as follows:\n",
    "\n",
    "\n",
    "\"\"\""
   ]
  }
 ],
 "metadata": {
  "kernelspec": {
   "display_name": "resume",
   "language": "python",
   "name": "python3"
  },
  "language_info": {
   "codemirror_mode": {
    "name": "ipython",
    "version": 3
   },
   "file_extension": ".py",
   "mimetype": "text/x-python",
   "name": "python",
   "nbconvert_exporter": "python",
   "pygments_lexer": "ipython3",
   "version": "3.12.8"
  }
 },
 "nbformat": 4,
 "nbformat_minor": 2
}
