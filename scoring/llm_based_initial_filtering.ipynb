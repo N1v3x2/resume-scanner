{
 "cells": [
  {
   "cell_type": "markdown",
   "metadata": {},
   "source": [
    "# LLM-based Initial Filtering\n",
    "\n",
    "Since we couldn't easily filter stuff like minimum education requirements and experience, let's try using an LLM to filter for that"
   ]
  },
  {
   "cell_type": "code",
   "execution_count": 12,
   "metadata": {},
   "outputs": [],
   "source": [
    "import json\n",
    "from pydantic import BaseModel, Field\n",
    "from pprint import pprint\n",
    "\n",
    "from utils.with_structured_output import with_structured_output"
   ]
  },
  {
   "cell_type": "code",
   "execution_count": 3,
   "metadata": {},
   "outputs": [],
   "source": [
    "with open(\"../output/parsed_resume_info.json\", \"r\") as file:\n",
    "    resume_info = json.load(file)\n",
    "\n",
    "with open(\"../output/parsed_job_desc.json\", \"r\") as file:\n",
    "    job_info = json.load(file)"
   ]
  },
  {
   "cell_type": "markdown",
   "metadata": {},
   "source": [
    "## Filter Education"
   ]
  },
  {
   "cell_type": "code",
   "execution_count": 20,
   "metadata": {},
   "outputs": [],
   "source": [
    "class MinReq(BaseModel):\n",
    "    meets_req: bool = Field(..., alias=\"Meets Requirements\")\n",
    "    reasoning: str = Field(..., alias=\"Reasoning\")"
   ]
  },
  {
   "cell_type": "code",
   "execution_count": 15,
   "metadata": {},
   "outputs": [],
   "source": [
    "FILTER_EDUCATION_TEMPLATE = \"\"\"\n",
    "You are an expert resume evaluator. Given a resume's education section and a job description's minimum education requirements, your job is to determine whether the resume meets the minimum requirements.\n",
    "\n",
    "Both the resume and job description education information will be provided as JSON strings.\n",
    "\n",
    "Format your output as follows:\n",
    "    {{\n",
    "        \"Meets Requirements\": <Boolean indicating whether the resume meets the minimum education requirements>\n",
    "        \"Reasoning\": \"Brief reasoning (1-2 sentences) behind the decision.\"\n",
    "    }}\n",
    "    \n",
    "Resume's Education Information:\n",
    "{resume_edu}\n",
    "\n",
    "Job Description Minimum Education Requirements:\n",
    "{min_education_req}\n",
    "\n",
    "Output:\n",
    "\"\"\""
   ]
  },
  {
   "cell_type": "code",
   "execution_count": 16,
   "metadata": {},
   "outputs": [],
   "source": [
    "meets_req = with_structured_output(\n",
    "    prompt=FILTER_EDUCATION_TEMPLATE.format(\n",
    "        resume_edu=resume_info[\"Education\"],\n",
    "        min_education_req=job_info[\"Required Education\"]),\n",
    "    schema=MinReq)"
   ]
  },
  {
   "cell_type": "code",
   "execution_count": 17,
   "metadata": {},
   "outputs": [
    {
     "name": "stdout",
     "output_type": "stream",
     "text": [
      "{'Meets Requirements': True,\n",
      " 'Reasoning': 'The resume lists a degree from Texas A&M University with a '\n",
      "              \"major in Computer Science, which matches the job description's \"\n",
      "              'minimum education requirements.'}\n"
     ]
    }
   ],
   "source": [
    "pprint(meets_req)"
   ]
  },
  {
   "cell_type": "markdown",
   "metadata": {},
   "source": [
    "## Filter Experience"
   ]
  },
  {
   "cell_type": "code",
   "execution_count": 21,
   "metadata": {},
   "outputs": [],
   "source": [
    "FILTER_EXPERIENCE_TEMPLATE = \"\"\"\n",
    "You are an expert resume evaluator. Given a resume and job description's minimum experience requirements, your job is to determine whether the resume meets the **minimum** experience requirements.\n",
    "\n",
    "Both the resume and job description are represented as JSON strings.\n",
    "\n",
    "Format your output as follows:\n",
    "    {{\n",
    "        \"Meets Requirements\": <Boolean indicating whether the resume meets the minimum experience requirements>\n",
    "        \"Reasoning\": \"Brief reasoning (1-2 sentences) behind the decision.\"\n",
    "    }}\n",
    "    \n",
    "Resume YOE: {resume_yoe} years\n",
    "\n",
    "Resume Skill Information:\n",
    "{resume_skills}\n",
    "\n",
    "Job Description Minimum Experience Requirements:\n",
    "{min_experience_req}\n",
    "\n",
    "Output:\n",
    "\"\"\""
   ]
  },
  {
   "cell_type": "code",
   "execution_count": 26,
   "metadata": {},
   "outputs": [],
   "source": [
    "meets_req = with_structured_output(\n",
    "    prompt=FILTER_EXPERIENCE_TEMPLATE.format(\n",
    "        resume_yoe=resume_info[\"Work Experience\"][\"Total Years of Experience\"]\n",
    "        resume_skills=resume_info[\"Skills\"][\"Technical Skills\"] + resume_info[\"Skills\"][\"Domain-Specific Skills\"],\n",
    "        min_experience_req=job_info[\"Required Experience\"]),\n",
    "    schema=MinReq)"
   ]
  },
  {
   "cell_type": "code",
   "execution_count": 27,
   "metadata": {},
   "outputs": [
    {
     "name": "stdout",
     "output_type": "stream",
     "text": [
      "{'Meets Requirements': False,\n",
      " 'Reasoning': 'The resume does not mention any direct experience with Linux '\n",
      "              'kernel or application-level system software, which are '\n",
      "              \"explicitly mentioned in the job description's minimum \"\n",
      "              'experience requirements.'}\n"
     ]
    }
   ],
   "source": [
    "pprint(meets_req)"
   ]
  },
  {
   "cell_type": "code",
   "execution_count": null,
   "metadata": {},
   "outputs": [],
   "source": []
  }
 ],
 "metadata": {
  "kernelspec": {
   "display_name": "resume",
   "language": "python",
   "name": "python3"
  },
  "language_info": {
   "codemirror_mode": {
    "name": "ipython",
    "version": 3
   },
   "file_extension": ".py",
   "mimetype": "text/x-python",
   "name": "python",
   "nbconvert_exporter": "python",
   "pygments_lexer": "ipython3",
   "version": "3.12.8"
  }
 },
 "nbformat": 4,
 "nbformat_minor": 2
}
