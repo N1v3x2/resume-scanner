{
 "cells": [
  {
   "cell_type": "markdown",
   "metadata": {},
   "source": [
    "# Rule-based initial filtering\n",
    "\n",
    "1. Minimum experience requirements: must have minimum years of experience\n",
    "2. Minimum skill requirements: must match at least one required skill\n",
    "3. Minimum education requirements: must have at least one required degree"
   ]
  },
  {
   "cell_type": "code",
   "execution_count": 4,
   "metadata": {},
   "outputs": [],
   "source": [
    "import json"
   ]
  },
  {
   "cell_type": "code",
   "execution_count": 5,
   "metadata": {},
   "outputs": [],
   "source": [
    "with open(\"../output/parsed_resume_info.json\", \"r\") as file:\n",
    "    resume_info = json.load(file)"
   ]
  },
  {
   "cell_type": "code",
   "execution_count": 6,
   "metadata": {},
   "outputs": [
    {
     "data": {
      "text/plain": [
       "{'Education': [{'Name': 'Texas A&M University',\n",
       "   'Majors': ['BS in Computer Science'],\n",
       "   'Minors': ['Statistics', 'Math'],\n",
       "   'Graduation Year': 2026,\n",
       "   'GPA': 4.0}],\n",
       " 'Work Experience': {'Experiences': [{'Company': 'Full Stack Developer Intern',\n",
       "    'Role': 'Full Stack Developer Intern',\n",
       "    'Contributions': ['Built CRM system with ASP.NET MVC serving 10 users, improving employee efficiency by 50%',\n",
       "     'Optimized MySQL database performance by eliminating 1,000 duplicate records, improving query speed by 10%',\n",
       "     'Designed scalable SQL database architecture to support complex entity relationships',\n",
       "     'Created role-based authorization system with Entity Framework to facilitate project management for managers']},\n",
       "   {'Company': 'Software Engineering Intern',\n",
       "    'Role': 'Software Engineering Intern',\n",
       "    'Contributions': ['Redesigned 30 year old Java data analysis suite architecture, cutting developer onboarding time by 3 weeks',\n",
       "     'Used MATLAB profiler to find bottleneck in data preprocessing script, leading to 90% execution time reduction',\n",
       "     'Built Java class to interface with Javalin REST API, enabling multithreaded network communication',\n",
       "     'Reduced logic errors by 50% via integration and regression testing in Jenkins CI/CD pipeline']},\n",
       "   {'Company': 'AI/ML Intern',\n",
       "    'Role': 'AI/ML Intern',\n",
       "    'Contributions': ['Developed knowledge graph (KG) generation pipeline with internal LLM microservices to allow multi-hop reasoning in 3-stage retrieval augmented generation (RAG) pipeline',\n",
       "     'Extracted 30+ domain-specific seed topics from text corpus with BERTopic for KG subgraph creation',\n",
       "     'Achieved100%schema-compliantLLMoutputsviaprompt engineering andgrammar-contrained decoding',\n",
       "     'Packaged KG generation logic into reusable, object-oriented Python modules used by 30 developers']},\n",
       "   {'Company': 'Undergraduate Teaching Assistant',\n",
       "    'Role': 'Undergraduate Teaching Assistant',\n",
       "    'Contributions': ['Leading data structures & algorithms recitations for 60 students semiweekly',\n",
       "     'Mentoring 15+ students weekly in C++ assignments, leading to 80% reduction in assignment errors',\n",
       "     'Teaching students core CS concepts including vectors, trees, graphs, sorting algorithms, and recursion']}],\n",
       "  'Total Years of Experience': 2.25},\n",
       " 'Skills': {'Technical Skills': ['Python',\n",
       "   'Java',\n",
       "   'C/C++',\n",
       "   'TypeScript/JavaScript',\n",
       "   'C#',\n",
       "   'SQL',\n",
       "   'HTML/CSS',\n",
       "   'MATLAB',\n",
       "   'Bash',\n",
       "   'React',\n",
       "   'Bootstrap',\n",
       "   'Flask',\n",
       "   'JUnit',\n",
       "   'ASP.NET',\n",
       "   'Entity Framework',\n",
       "   'Spring Boot',\n",
       "   'Numpy',\n",
       "   'Pandas',\n",
       "   'Matplotlib',\n",
       "   'LangChain',\n",
       "   'OpenAI',\n",
       "   'Pydantic',\n",
       "   'TensorFlow',\n",
       "   'Linux',\n",
       "   'Git (GitHub, Gerrit)',\n",
       "   'Anaconda',\n",
       "   'Jupyter',\n",
       "   'Azure DevOps',\n",
       "   'Jenkins',\n",
       "   'Vim',\n",
       "   'Docker',\n",
       "   'PostgreSQL',\n",
       "   'MySQL',\n",
       "   'Neo4J'],\n",
       "  'Domain-Specific Skills': ['Knowledge Graph (KG) generation pipeline',\n",
       "   'LLM microservices',\n",
       "   'Multi-hop reasoning in RAG pipeline',\n",
       "   'BERTopic for KG subgraph creation',\n",
       "   'Prompt engineering and grammar-constrained decoding',\n",
       "   'Object-oriented Python modules',\n",
       "   'Java data analysis suite architecture redesign',\n",
       "   'MATLAB profiler for bottleneck identification',\n",
       "   'Data preprocessing script optimization',\n",
       "   'Javalin REST API interface with Java class',\n",
       "   'Multithreaded network communication',\n",
       "   'Integration and regression testing in Jenkins CI/CD pipeline',\n",
       "   'Data structures & algorithms recitations',\n",
       "   'Mentoring students in C++ assignments',\n",
       "   'Core CS concepts including vectors, trees, graphs, sorting algorithms, and recursion',\n",
       "   'CRM system with ASP.NET MVC',\n",
       "   'Scalable SQL database architecture design',\n",
       "   'Role-based authorization system with Entity Framework',\n",
       "   'Chain-of-thought (CoT) recommendation prompt',\n",
       "   'LLM-based credit card recommendation system',\n",
       "   'Self-curated JSON database for recommendations',\n",
       "   'Modular React components and application state management',\n",
       "   'Google OAuth API integration',\n",
       "   'JDBC backend for PostgreSQL database query',\n",
       "   'Code review and reduction of code smells']}}"
      ]
     },
     "execution_count": 6,
     "metadata": {},
     "output_type": "execute_result"
    }
   ],
   "source": [
    "resume_info"
   ]
  },
  {
   "cell_type": "code",
   "execution_count": 7,
   "metadata": {},
   "outputs": [],
   "source": [
    "with open(\"../output/parsed_job_desc.json\", \"r\") as file:\n",
    "    job_info = json.load(file)"
   ]
  },
  {
   "cell_type": "code",
   "execution_count": 8,
   "metadata": {},
   "outputs": [
    {
     "data": {
      "text/plain": [
       "{'Required Skills': ['Python',\n",
       "  'C',\n",
       "  'C++',\n",
       "  'Linux kernel',\n",
       "  'application-level system software'],\n",
       " 'Preferred Skills': ['Deep Learning',\n",
       "  'Transformer',\n",
       "  'NLP',\n",
       "  'LLM technology',\n",
       "  'QNX RTOS',\n",
       "  'CAN and tools',\n",
       "  'RADAR',\n",
       "  'LiDAR'],\n",
       " 'Required Experience': ['Experience in research and development of Deep Learning/Transformer/NLP/LLM technology',\n",
       "  'Strong Linux kernel, application-level system software experience'],\n",
       " 'Preferred Experience': ['Prior experience in the Automotive field',\n",
       "  'Background in QNX RTOS and debug tools',\n",
       "  'Experience in developing and maintaining AI or machine learning infrastructure, preferably in the context of large language models'],\n",
       " 'Required Education': ['Pursuing BS or MS in CS/CE/EE or equivalent program'],\n",
       " 'Preferred Education': []}"
      ]
     },
     "execution_count": 8,
     "metadata": {},
     "output_type": "execute_result"
    }
   ],
   "source": [
    "job_info"
   ]
  },
  {
   "cell_type": "markdown",
   "metadata": {},
   "source": [
    "### Filter minimum education\n",
    "\n",
    "May be more difficult to filter this with rules (how do you match \"Pursuing BS or MS in CS/CE/EE or equivalent\" to resumes?)\n",
    "\n",
    "For now, just toss out resumes without any education information"
   ]
  },
  {
   "cell_type": "code",
   "execution_count": 9,
   "metadata": {},
   "outputs": [],
   "source": [
    "def meets_min_education(resume_info: dict) -> bool:\n",
    "    return len(resume_info[\"Education\"]) > 0"
   ]
  },
  {
   "cell_type": "code",
   "execution_count": 10,
   "metadata": {},
   "outputs": [
    {
     "data": {
      "text/plain": [
       "True"
      ]
     },
     "execution_count": 10,
     "metadata": {},
     "output_type": "execute_result"
    }
   ],
   "source": [
    "meets_min_education(resume_info)"
   ]
  },
  {
   "cell_type": "markdown",
   "metadata": {},
   "source": [
    "### Filter minimum skill requirements\n",
    "\n",
    "Does the resume contain *at least one* of the required skills?"
   ]
  },
  {
   "cell_type": "code",
   "execution_count": 11,
   "metadata": {},
   "outputs": [],
   "source": [
    "def meets_min_skills(job_info: dict, resume_info: dict) -> bool:\n",
    "    job_skills = job_info[\"Required Skills\"]\n",
    "    if len(job_skills) == 0:\n",
    "        return True\n",
    "    \n",
    "    resume_skills = resume_info[\"Skills\"][\"Technical Skills\"]\n",
    "    for skill in job_skills:\n",
    "        if skill in resume_skills:\n",
    "            return True\n",
    "    return False"
   ]
  },
  {
   "cell_type": "code",
   "execution_count": 12,
   "metadata": {},
   "outputs": [
    {
     "data": {
      "text/plain": [
       "True"
      ]
     },
     "execution_count": 12,
     "metadata": {},
     "output_type": "execute_result"
    }
   ],
   "source": [
    "meets_min_skills(job_info, resume_info)"
   ]
  },
  {
   "cell_type": "markdown",
   "metadata": {},
   "source": [
    "### Filter minimum experience \n",
    "\n",
    "Maybe use fuzzy matching here to check whether any of the resume's experiences are similar to the job's required experiences"
   ]
  },
  {
   "cell_type": "code",
   "execution_count": 13,
   "metadata": {},
   "outputs": [],
   "source": [
    "from rapidfuzz import fuzz"
   ]
  },
  {
   "cell_type": "code",
   "execution_count": 33,
   "metadata": {},
   "outputs": [],
   "source": [
    "def meets_min_experience(job_info: dict, resume_info: dict) -> bool:\n",
    "    job_exp = job_info[\"Required Experience\"]\n",
    "    if len(job_exp) == 0:\n",
    "        return True\n",
    "    \n",
    "    resume_skills = resume_info[\"Skills\"][\"Technical Skills\"] + resume_info[\"Skills\"][\"Domain-Specific Skills\"]\n",
    "    for experience in job_exp:\n",
    "        for skill in resume_skills:\n",
    "            if fuzz.partial_ratio(skill, experience) > 45:\n",
    "                print(skill, \":\", experience, fuzz.partial_ratio(skill, experience))"
   ]
  },
  {
   "cell_type": "code",
   "execution_count": 34,
   "metadata": {},
   "outputs": [
    {
     "name": "stdout",
     "output_type": "stream",
     "text": [
      "Python : Experience in research and development of Deep Learning/Transformer/NLP/LLM technology 50.0\n",
      "Bash : Experience in research and development of Deep Learning/Transformer/NLP/LLM technology 50.0\n",
      "React : Experience in research and development of Deep Learning/Transformer/NLP/LLM technology 60.0\n",
      "Spring Boot : Experience in research and development of Deep Learning/Transformer/NLP/LLM technology 45.45454545454546\n",
      "Pandas : Experience in research and development of Deep Learning/Transformer/NLP/LLM technology 50.0\n",
      "LangChain : Experience in research and development of Deep Learning/Transformer/NLP/LLM technology 55.55555555555556\n",
      "OpenAI : Experience in research and development of Deep Learning/Transformer/NLP/LLM technology 50.0\n",
      "TensorFlow : Experience in research and development of Deep Learning/Transformer/NLP/LLM technology 52.63157894736843\n",
      "Anaconda : Experience in research and development of Deep Learning/Transformer/NLP/LLM technology 50.0\n",
      "Jupyter : Experience in research and development of Deep Learning/Transformer/NLP/LLM technology 50.0\n",
      "Jenkins : Experience in research and development of Deep Learning/Transformer/NLP/LLM technology 57.14285714285714\n",
      "Docker : Experience in research and development of Deep Learning/Transformer/NLP/LLM technology 50.0\n",
      "Prompt engineering and grammar-constrained decoding : Experience in research and development of Deep Learning/Transformer/NLP/LLM technology 45.45454545454546\n",
      "Object-oriented Python modules : Experience in research and development of Deep Learning/Transformer/NLP/LLM technology 46.808510638297875\n",
      "Code review and reduction of code smells : Experience in research and development of Deep Learning/Transformer/NLP/LLM technology 50.0\n",
      "Python : Strong Linux kernel, application-level system software experience 54.54545454545454\n",
      "SQL : Strong Linux kernel, application-level system software experience 50.0\n",
      "Spring Boot : Strong Linux kernel, application-level system software experience 55.55555555555556\n",
      "Matplotlib : Strong Linux kernel, application-level system software experience 50.0\n",
      "OpenAI : Strong Linux kernel, application-level system software experience 50.0\n",
      "Linux : Strong Linux kernel, application-level system software experience 100.0\n",
      "Docker : Strong Linux kernel, application-level system software experience 50.0\n",
      "Multi-hop reasoning in RAG pipeline : Strong Linux kernel, application-level system software experience 45.90163934426229\n",
      "Modular React components and application state management : Strong Linux kernel, application-level system software experience 46.42857142857143\n"
     ]
    }
   ],
   "source": [
    "meets_min_experience(job_info, resume_info)"
   ]
  },
  {
   "cell_type": "markdown",
   "metadata": {},
   "source": [
    "There doesn't seem to be an easy to way create a rule-based system for filtering out minimum experience requirements; this likely requires a little bit of reasoning"
   ]
  },
  {
   "cell_type": "markdown",
   "metadata": {},
   "source": []
  }
 ],
 "metadata": {
  "kernelspec": {
   "display_name": "resume",
   "language": "python",
   "name": "python3"
  },
  "language_info": {
   "codemirror_mode": {
    "name": "ipython",
    "version": 3
   },
   "file_extension": ".py",
   "mimetype": "text/x-python",
   "name": "python",
   "nbconvert_exporter": "python",
   "pygments_lexer": "ipython3",
   "version": "3.12.8"
  }
 },
 "nbformat": 4,
 "nbformat_minor": 2
}
